{
 "cells": [
  {
   "cell_type": "code",
   "execution_count": 1,
   "metadata": {},
   "outputs": [],
   "source": [
    "import pandas as pd\n",
    "import numpy as np"
   ]
  },
  {
   "cell_type": "code",
   "execution_count": 2,
   "metadata": {},
   "outputs": [
    {
     "name": "stdout",
     "output_type": "stream",
     "text": [
      "(200000, 8)\n"
     ]
    },
    {
     "data": {
      "text/html": [
       "<div>\n",
       "<style scoped>\n",
       "    .dataframe tbody tr th:only-of-type {\n",
       "        vertical-align: middle;\n",
       "    }\n",
       "\n",
       "    .dataframe tbody tr th {\n",
       "        vertical-align: top;\n",
       "    }\n",
       "\n",
       "    .dataframe thead th {\n",
       "        text-align: right;\n",
       "    }\n",
       "</style>\n",
       "<table border=\"1\" class=\"dataframe\">\n",
       "  <thead>\n",
       "    <tr style=\"text-align: right;\">\n",
       "      <th></th>\n",
       "      <th>COMMON NAME</th>\n",
       "      <th>OBSERVATION COUNT</th>\n",
       "      <th>COUNTRY</th>\n",
       "      <th>STATE</th>\n",
       "      <th>COUNTY</th>\n",
       "      <th>LATITUDE</th>\n",
       "      <th>LONGITUDE</th>\n",
       "      <th>OBSERVATION DATE</th>\n",
       "    </tr>\n",
       "  </thead>\n",
       "  <tbody>\n",
       "    <tr>\n",
       "      <td>0</td>\n",
       "      <td>Magnolia Warbler</td>\n",
       "      <td>2</td>\n",
       "      <td>United States</td>\n",
       "      <td>Illinois</td>\n",
       "      <td>Cook</td>\n",
       "      <td>41.775629</td>\n",
       "      <td>-87.583273</td>\n",
       "      <td>1995-08-27</td>\n",
       "    </tr>\n",
       "    <tr>\n",
       "      <td>1</td>\n",
       "      <td>White-rumped Sandpiper</td>\n",
       "      <td>4</td>\n",
       "      <td>Canada</td>\n",
       "      <td>Quebec</td>\n",
       "      <td>Manicouagan</td>\n",
       "      <td>49.216670</td>\n",
       "      <td>-68.150000</td>\n",
       "      <td>1993-11-07</td>\n",
       "    </tr>\n",
       "    <tr>\n",
       "      <td>2</td>\n",
       "      <td>Common Scoter</td>\n",
       "      <td>1</td>\n",
       "      <td>Sweden</td>\n",
       "      <td>Hallands län [SE-13]</td>\n",
       "      <td>NaN</td>\n",
       "      <td>57.065084</td>\n",
       "      <td>12.243579</td>\n",
       "      <td>1998-02-21</td>\n",
       "    </tr>\n",
       "    <tr>\n",
       "      <td>3</td>\n",
       "      <td>Ring-billed Gull</td>\n",
       "      <td>15</td>\n",
       "      <td>Canada</td>\n",
       "      <td>Manitoba</td>\n",
       "      <td>South Interlake</td>\n",
       "      <td>50.193256</td>\n",
       "      <td>-97.137935</td>\n",
       "      <td>1985-04-14</td>\n",
       "    </tr>\n",
       "    <tr>\n",
       "      <td>4</td>\n",
       "      <td>Red-winged Blackbird</td>\n",
       "      <td>500</td>\n",
       "      <td>Canada</td>\n",
       "      <td>Manitoba</td>\n",
       "      <td>South Interlake</td>\n",
       "      <td>50.193256</td>\n",
       "      <td>-97.137935</td>\n",
       "      <td>1986-09-01</td>\n",
       "    </tr>\n",
       "  </tbody>\n",
       "</table>\n",
       "</div>"
      ],
      "text/plain": [
       "              COMMON NAME OBSERVATION COUNT        COUNTRY  \\\n",
       "0        Magnolia Warbler                 2  United States   \n",
       "1  White-rumped Sandpiper                 4         Canada   \n",
       "2           Common Scoter                 1         Sweden   \n",
       "3        Ring-billed Gull                15         Canada   \n",
       "4    Red-winged Blackbird               500         Canada   \n",
       "\n",
       "                  STATE           COUNTY   LATITUDE  LONGITUDE  \\\n",
       "0              Illinois             Cook  41.775629 -87.583273   \n",
       "1                Quebec      Manicouagan  49.216670 -68.150000   \n",
       "2  Hallands län [SE-13]              NaN  57.065084  12.243579   \n",
       "3              Manitoba  South Interlake  50.193256 -97.137935   \n",
       "4              Manitoba  South Interlake  50.193256 -97.137935   \n",
       "\n",
       "  OBSERVATION DATE  \n",
       "0       1995-08-27  \n",
       "1       1993-11-07  \n",
       "2       1998-02-21  \n",
       "3       1985-04-14  \n",
       "4       1986-09-01  "
      ]
     },
     "execution_count": 2,
     "metadata": {},
     "output_type": "execute_result"
    }
   ],
   "source": [
    "# Step 1: Read in the first 200K lines, with 8 columns\n",
    "df = pd.read_csv('C:\\\\Users\\\\ajaco\\\\Downloads\\\\ebd_relJan-2020.txt', sep='\\t', nrows=200000, usecols=['COMMON NAME', 'COUNTRY', 'STATE', 'COUNTY', 'LATITUDE', 'LONGITUDE', 'OBSERVATION DATE', 'OBSERVATION COUNT'])\n",
    "\n",
    "print(df.shape)\n",
    "\n",
    "df.head()"
   ]
  },
  {
   "cell_type": "code",
   "execution_count": 3,
   "metadata": {},
   "outputs": [
    {
     "data": {
      "text/plain": [
       "COMMON NAME              0\n",
       "OBSERVATION COUNT        0\n",
       "COUNTRY                  0\n",
       "STATE                    0\n",
       "COUNTY               29261\n",
       "LATITUDE                 0\n",
       "LONGITUDE                0\n",
       "OBSERVATION DATE         0\n",
       "dtype: int64"
      ]
     },
     "execution_count": 3,
     "metadata": {},
     "output_type": "execute_result"
    }
   ],
   "source": [
    "df.isnull().sum()"
   ]
  },
  {
   "cell_type": "code",
   "execution_count": 4,
   "metadata": {},
   "outputs": [],
   "source": [
    "# Rename columns for ease of use\n",
    "df.rename(columns={\n",
    "    'COMMON NAME': 'name',\n",
    "    'OBSERVATION COUNT': 'observ_count',\n",
    "    'COUNTRY': 'country',\n",
    "    'STATE': 'state',\n",
    "    'COUNTY': 'county',\n",
    "    'LATITUDE': 'latitude',\n",
    "    'LONGITUDE': 'longitude',\n",
    "    'OBSERVATION DATE': 'observ_date'\n",
    "}, inplace=True)"
   ]
  },
  {
   "cell_type": "code",
   "execution_count": 5,
   "metadata": {},
   "outputs": [
    {
     "name": "stdout",
     "output_type": "stream",
     "text": [
      "(105294, 8)\n"
     ]
    },
    {
     "data": {
      "text/html": [
       "<div>\n",
       "<style scoped>\n",
       "    .dataframe tbody tr th:only-of-type {\n",
       "        vertical-align: middle;\n",
       "    }\n",
       "\n",
       "    .dataframe tbody tr th {\n",
       "        vertical-align: top;\n",
       "    }\n",
       "\n",
       "    .dataframe thead th {\n",
       "        text-align: right;\n",
       "    }\n",
       "</style>\n",
       "<table border=\"1\" class=\"dataframe\">\n",
       "  <thead>\n",
       "    <tr style=\"text-align: right;\">\n",
       "      <th></th>\n",
       "      <th>name</th>\n",
       "      <th>observ_count</th>\n",
       "      <th>country</th>\n",
       "      <th>state</th>\n",
       "      <th>county</th>\n",
       "      <th>latitude</th>\n",
       "      <th>longitude</th>\n",
       "      <th>observ_date</th>\n",
       "    </tr>\n",
       "  </thead>\n",
       "  <tbody>\n",
       "    <tr>\n",
       "      <td>0</td>\n",
       "      <td>Magnolia Warbler</td>\n",
       "      <td>2</td>\n",
       "      <td>United States</td>\n",
       "      <td>Illinois</td>\n",
       "      <td>Cook</td>\n",
       "      <td>41.775629</td>\n",
       "      <td>-87.583273</td>\n",
       "      <td>1995-08-27</td>\n",
       "    </tr>\n",
       "    <tr>\n",
       "      <td>6</td>\n",
       "      <td>Greater Yellowlegs</td>\n",
       "      <td>X</td>\n",
       "      <td>United States</td>\n",
       "      <td>Texas</td>\n",
       "      <td>Aransas</td>\n",
       "      <td>28.240392</td>\n",
       "      <td>-96.818819</td>\n",
       "      <td>1986-04-06</td>\n",
       "    </tr>\n",
       "    <tr>\n",
       "      <td>12</td>\n",
       "      <td>White-crowned Sparrow</td>\n",
       "      <td>X</td>\n",
       "      <td>United States</td>\n",
       "      <td>Arizona</td>\n",
       "      <td>Cochise</td>\n",
       "      <td>31.898164</td>\n",
       "      <td>-109.115932</td>\n",
       "      <td>1998-11-27</td>\n",
       "    </tr>\n",
       "    <tr>\n",
       "      <td>13</td>\n",
       "      <td>Green-winged Teal</td>\n",
       "      <td>11</td>\n",
       "      <td>United States</td>\n",
       "      <td>Idaho</td>\n",
       "      <td>Ada</td>\n",
       "      <td>43.609793</td>\n",
       "      <td>-116.206427</td>\n",
       "      <td>1982-12-18</td>\n",
       "    </tr>\n",
       "    <tr>\n",
       "      <td>14</td>\n",
       "      <td>Yellow-rumped Warbler</td>\n",
       "      <td>5</td>\n",
       "      <td>United States</td>\n",
       "      <td>Idaho</td>\n",
       "      <td>Ada</td>\n",
       "      <td>43.609793</td>\n",
       "      <td>-116.206427</td>\n",
       "      <td>1982-12-18</td>\n",
       "    </tr>\n",
       "  </tbody>\n",
       "</table>\n",
       "</div>"
      ],
      "text/plain": [
       "                     name observ_count        country     state   county  \\\n",
       "0        Magnolia Warbler            2  United States  Illinois     Cook   \n",
       "6      Greater Yellowlegs            X  United States     Texas  Aransas   \n",
       "12  White-crowned Sparrow            X  United States   Arizona  Cochise   \n",
       "13      Green-winged Teal           11  United States     Idaho      Ada   \n",
       "14  Yellow-rumped Warbler            5  United States     Idaho      Ada   \n",
       "\n",
       "     latitude   longitude observ_date  \n",
       "0   41.775629  -87.583273  1995-08-27  \n",
       "6   28.240392  -96.818819  1986-04-06  \n",
       "12  31.898164 -109.115932  1998-11-27  \n",
       "13  43.609793 -116.206427  1982-12-18  \n",
       "14  43.609793 -116.206427  1982-12-18  "
      ]
     },
     "execution_count": 5,
     "metadata": {},
     "output_type": "execute_result"
    }
   ],
   "source": [
    "# Filter for just US birds\n",
    "us_birds = df.query(\"country == 'United States'\")\n",
    "\n",
    "print(us_birds.shape)\n",
    "us_birds.head()"
   ]
  },
  {
   "cell_type": "code",
   "execution_count": 6,
   "metadata": {},
   "outputs": [
    {
     "data": {
      "text/plain": [
       "name            0\n",
       "observ_count    0\n",
       "country         0\n",
       "state           0\n",
       "county          0\n",
       "latitude        0\n",
       "longitude       0\n",
       "observ_date     0\n",
       "dtype: int64"
      ]
     },
     "execution_count": 6,
     "metadata": {},
     "output_type": "execute_result"
    }
   ],
   "source": [
    "us_birds = us_birds.copy()\n",
    "\n",
    "# Drop missing column values\n",
    "us_birds.dropna(subset=['county'], inplace=True)\n",
    "\n",
    "us_birds.isnull().sum()"
   ]
  },
  {
   "cell_type": "code",
   "execution_count": 9,
   "metadata": {},
   "outputs": [
    {
     "data": {
      "text/plain": [
       "1    104333\n",
       "0       744\n",
       "Name: bad_name, dtype: int64"
      ]
     },
     "execution_count": 9,
     "metadata": {},
     "output_type": "execute_result"
    }
   ],
   "source": [
    "us_birds['bad_name'] = us_birds['name'].apply(lambda x: 0 if (\"sp.\" in x) or (\"(\" in x) or (\"/\" in x) else 1)\n",
    "us_birds.bad_name.value_counts()"
   ]
  },
  {
   "cell_type": "code",
   "execution_count": 8,
   "metadata": {},
   "outputs": [
    {
     "data": {
      "text/plain": [
       "False"
      ]
     },
     "execution_count": 8,
     "metadata": {},
     "output_type": "execute_result"
    }
   ],
   "source": []
  },
  {
   "cell_type": "code",
   "execution_count": null,
   "metadata": {},
   "outputs": [],
   "source": []
  }
 ],
 "metadata": {
  "kernelspec": {
   "display_name": "Python 3.7.4 64-bit ('base': conda)",
   "language": "python",
   "name": "python37464bitbaseconda0743015c7cf743e3a92ab30d0455d71f"
  },
  "language_info": {
   "codemirror_mode": {
    "name": "ipython",
    "version": 3
   },
   "file_extension": ".py",
   "mimetype": "text/x-python",
   "name": "python",
   "nbconvert_exporter": "python",
   "pygments_lexer": "ipython3",
   "version": "3.7.4"
  }
 },
 "nbformat": 4,
 "nbformat_minor": 4
}
