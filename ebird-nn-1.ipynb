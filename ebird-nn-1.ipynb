{
  "nbformat": 4,
  "nbformat_minor": 0,
  "metadata": {
    "kernelspec": {
      "name": "python3",
      "display_name": "Python 3"
    },
    "language_info": {
      "codemirror_mode": {
        "name": "ipython",
        "version": 3
      },
      "file_extension": ".py",
      "mimetype": "text/x-python",
      "name": "python",
      "nbconvert_exporter": "python",
      "pygments_lexer": "ipython3",
      "version": "3.6.8"
    },
    "colab": {
      "name": "ebird-nn-1.ipynb",
      "provenance": [],
      "toc_visible": true
    },
    "accelerator": "TPU"
  },
  "cells": [
    {
      "cell_type": "code",
      "metadata": {
        "id": "ZQ4wJTS2sFlM",
        "colab_type": "code",
        "outputId": "9f98a3d1-58ce-4c3c-ef55-b6f7eca41742",
        "colab": {
          "base_uri": "https://localhost:8080/",
          "height": 224
        }
      },
      "source": [
        "!pip install category_encoders"
      ],
      "execution_count": 104,
      "outputs": [
        {
          "output_type": "stream",
          "text": [
            "Requirement already satisfied: category_encoders in /usr/local/lib/python3.6/dist-packages (2.1.0)\n",
            "Requirement already satisfied: statsmodels>=0.6.1 in /usr/local/lib/python3.6/dist-packages (from category_encoders) (0.10.2)\n",
            "Requirement already satisfied: scipy>=0.19.0 in /usr/local/lib/python3.6/dist-packages (from category_encoders) (1.4.1)\n",
            "Requirement already satisfied: scikit-learn>=0.20.0 in /usr/local/lib/python3.6/dist-packages (from category_encoders) (0.22.2.post1)\n",
            "Requirement already satisfied: pandas>=0.21.1 in /usr/local/lib/python3.6/dist-packages (from category_encoders) (1.0.3)\n",
            "Requirement already satisfied: numpy>=1.11.3 in /usr/local/lib/python3.6/dist-packages (from category_encoders) (1.18.2)\n",
            "Requirement already satisfied: patsy>=0.4.1 in /usr/local/lib/python3.6/dist-packages (from category_encoders) (0.5.1)\n",
            "Requirement already satisfied: joblib>=0.11 in /usr/local/lib/python3.6/dist-packages (from scikit-learn>=0.20.0->category_encoders) (0.14.1)\n",
            "Requirement already satisfied: pytz>=2017.2 in /usr/local/lib/python3.6/dist-packages (from pandas>=0.21.1->category_encoders) (2018.9)\n",
            "Requirement already satisfied: python-dateutil>=2.6.1 in /usr/local/lib/python3.6/dist-packages (from pandas>=0.21.1->category_encoders) (2.8.1)\n",
            "Requirement already satisfied: six in /usr/local/lib/python3.6/dist-packages (from patsy>=0.4.1->category_encoders) (1.12.0)\n"
          ],
          "name": "stdout"
        }
      ]
    },
    {
      "cell_type": "code",
      "metadata": {
        "id": "k-O2FgAhryGd",
        "colab_type": "code",
        "colab": {}
      },
      "source": [
        "import numpy as np\n",
        "import pandas as pd\n",
        "import category_encoders as ce\n",
        "\n",
        "from tensorflow.keras.utils import to_categorical\n",
        "from tensorflow.keras.models import Sequential\n",
        "from tensorflow.keras.layers import Dense, Dropout\n",
        "from tensorflow.keras.optimizers import SGD\n",
        "from sklearn.preprocessing import MinMaxScaler, StandardScaler\n",
        "from sklearn.model_selection import train_test_split"
      ],
      "execution_count": 0,
      "outputs": []
    },
    {
      "cell_type": "code",
      "metadata": {
        "id": "JuzWai2qryGj",
        "colab_type": "code",
        "outputId": "93a9fe4f-ba5b-4f20-b44e-821c18d934e6",
        "colab": {
          "base_uri": "https://localhost:8080/",
          "height": 326
        }
      },
      "source": [
        "df = pd.read_csv(\"labelled_bird_sample.csv\")\n",
        "\n",
        "print(df.shape)\n",
        "\n",
        "df.head()"
      ],
      "execution_count": 106,
      "outputs": [
        {
          "output_type": "stream",
          "text": [
            "(103992, 16)\n"
          ],
          "name": "stdout"
        },
        {
          "output_type": "execute_result",
          "data": {
            "text/html": [
              "<div>\n",
              "<style scoped>\n",
              "    .dataframe tbody tr th:only-of-type {\n",
              "        vertical-align: middle;\n",
              "    }\n",
              "\n",
              "    .dataframe tbody tr th {\n",
              "        vertical-align: top;\n",
              "    }\n",
              "\n",
              "    .dataframe thead th {\n",
              "        text-align: right;\n",
              "    }\n",
              "</style>\n",
              "<table border=\"1\" class=\"dataframe\">\n",
              "  <thead>\n",
              "    <tr style=\"text-align: right;\">\n",
              "      <th></th>\n",
              "      <th>name</th>\n",
              "      <th>observ_count</th>\n",
              "      <th>country</th>\n",
              "      <th>state</th>\n",
              "      <th>county</th>\n",
              "      <th>latitude</th>\n",
              "      <th>longitude</th>\n",
              "      <th>observ_date</th>\n",
              "      <th>month</th>\n",
              "      <th>season</th>\n",
              "      <th>county_state</th>\n",
              "      <th>State</th>\n",
              "      <th>CountyName</th>\n",
              "      <th>RegionName</th>\n",
              "      <th>seas_reg_rare</th>\n",
              "      <th>target</th>\n",
              "    </tr>\n",
              "  </thead>\n",
              "  <tbody>\n",
              "    <tr>\n",
              "      <th>0</th>\n",
              "      <td>Magnolia Warbler</td>\n",
              "      <td>2</td>\n",
              "      <td>United States</td>\n",
              "      <td>Illinois</td>\n",
              "      <td>Cook</td>\n",
              "      <td>41.775629</td>\n",
              "      <td>-87.583273</td>\n",
              "      <td>1995-08-27</td>\n",
              "      <td>8</td>\n",
              "      <td>Summer</td>\n",
              "      <td>CookIllinois</td>\n",
              "      <td>Illinois</td>\n",
              "      <td>Cook</td>\n",
              "      <td>Great Lakes</td>\n",
              "      <td>Uncommon</td>\n",
              "      <td>1</td>\n",
              "    </tr>\n",
              "    <tr>\n",
              "      <th>1</th>\n",
              "      <td>Great Blue Heron</td>\n",
              "      <td>2</td>\n",
              "      <td>United States</td>\n",
              "      <td>Illinois</td>\n",
              "      <td>Cook</td>\n",
              "      <td>41.956746</td>\n",
              "      <td>-87.913027</td>\n",
              "      <td>1999-07-24</td>\n",
              "      <td>7</td>\n",
              "      <td>Summer</td>\n",
              "      <td>CookIllinois</td>\n",
              "      <td>Illinois</td>\n",
              "      <td>Cook</td>\n",
              "      <td>Great Lakes</td>\n",
              "      <td>Common</td>\n",
              "      <td>0</td>\n",
              "    </tr>\n",
              "    <tr>\n",
              "      <th>2</th>\n",
              "      <td>Purple Martin</td>\n",
              "      <td>6</td>\n",
              "      <td>United States</td>\n",
              "      <td>Illinois</td>\n",
              "      <td>Cook</td>\n",
              "      <td>41.707907</td>\n",
              "      <td>-87.886848</td>\n",
              "      <td>1965-06-19</td>\n",
              "      <td>6</td>\n",
              "      <td>Summer</td>\n",
              "      <td>CookIllinois</td>\n",
              "      <td>Illinois</td>\n",
              "      <td>Cook</td>\n",
              "      <td>Great Lakes</td>\n",
              "      <td>Common</td>\n",
              "      <td>0</td>\n",
              "    </tr>\n",
              "    <tr>\n",
              "      <th>3</th>\n",
              "      <td>Common Yellowthroat</td>\n",
              "      <td>3</td>\n",
              "      <td>United States</td>\n",
              "      <td>Illinois</td>\n",
              "      <td>Cook</td>\n",
              "      <td>41.707907</td>\n",
              "      <td>-87.886848</td>\n",
              "      <td>1965-06-19</td>\n",
              "      <td>6</td>\n",
              "      <td>Summer</td>\n",
              "      <td>CookIllinois</td>\n",
              "      <td>Illinois</td>\n",
              "      <td>Cook</td>\n",
              "      <td>Great Lakes</td>\n",
              "      <td>Common</td>\n",
              "      <td>0</td>\n",
              "    </tr>\n",
              "    <tr>\n",
              "      <th>4</th>\n",
              "      <td>Eastern Towhee</td>\n",
              "      <td>3</td>\n",
              "      <td>United States</td>\n",
              "      <td>Illinois</td>\n",
              "      <td>Cook</td>\n",
              "      <td>41.707907</td>\n",
              "      <td>-87.886848</td>\n",
              "      <td>1965-06-19</td>\n",
              "      <td>6</td>\n",
              "      <td>Summer</td>\n",
              "      <td>CookIllinois</td>\n",
              "      <td>Illinois</td>\n",
              "      <td>Cook</td>\n",
              "      <td>Great Lakes</td>\n",
              "      <td>Common</td>\n",
              "      <td>0</td>\n",
              "    </tr>\n",
              "  </tbody>\n",
              "</table>\n",
              "</div>"
            ],
            "text/plain": [
              "                  name  observ_count  ... seas_reg_rare target\n",
              "0     Magnolia Warbler             2  ...      Uncommon      1\n",
              "1     Great Blue Heron             2  ...        Common      0\n",
              "2        Purple Martin             6  ...        Common      0\n",
              "3  Common Yellowthroat             3  ...        Common      0\n",
              "4       Eastern Towhee             3  ...        Common      0\n",
              "\n",
              "[5 rows x 16 columns]"
            ]
          },
          "metadata": {
            "tags": []
          },
          "execution_count": 106
        }
      ]
    },
    {
      "cell_type": "code",
      "metadata": {
        "id": "p6d7r0DxuGLs",
        "colab_type": "code",
        "outputId": "fb2a8b0b-8474-49ba-d832-3e5d5cbad8d4",
        "colab": {
          "base_uri": "https://localhost:8080/",
          "height": 306
        }
      },
      "source": [
        "df.dtypes"
      ],
      "execution_count": 107,
      "outputs": [
        {
          "output_type": "execute_result",
          "data": {
            "text/plain": [
              "name              object\n",
              "observ_count       int64\n",
              "country           object\n",
              "state             object\n",
              "county            object\n",
              "latitude         float64\n",
              "longitude        float64\n",
              "observ_date       object\n",
              "month              int64\n",
              "season            object\n",
              "county_state      object\n",
              "State             object\n",
              "CountyName        object\n",
              "RegionName        object\n",
              "seas_reg_rare     object\n",
              "target             int64\n",
              "dtype: object"
            ]
          },
          "metadata": {
            "tags": []
          },
          "execution_count": 107
        }
      ]
    },
    {
      "cell_type": "code",
      "metadata": {
        "id": "jJCncME3ryGr",
        "colab_type": "code",
        "colab": {}
      },
      "source": [
        "features = ['name', 'season', 'RegionName']\n",
        "target = 'target'\n",
        "\n",
        "X = df[features].values\n",
        "y = df[target].values"
      ],
      "execution_count": 0,
      "outputs": []
    },
    {
      "cell_type": "code",
      "metadata": {
        "id": "t2VNVncDryGv",
        "colab_type": "code",
        "colab": {}
      },
      "source": [
        "encoder = ce.CatBoostEncoder()\n",
        "\n",
        "X_encoded = encoder.fit_transform(X, y)\n",
        "\n",
        "# target_encoder = ce.OneHotEncoder()\n",
        "\n",
        "# y_encoded = target_encoder.fit_transform(y)"
      ],
      "execution_count": 0,
      "outputs": []
    },
    {
      "cell_type": "code",
      "metadata": {
        "id": "x0lVu1DK8ndj",
        "colab_type": "code",
        "colab": {}
      },
      "source": [
        "y = to_categorical(y)"
      ],
      "execution_count": 0,
      "outputs": []
    },
    {
      "cell_type": "code",
      "metadata": {
        "id": "gHQW-oYaryG0",
        "colab_type": "code",
        "colab": {}
      },
      "source": [
        "scaler = MinMaxScaler()\n",
        "\n",
        "X_scaled = scaler.fit_transform(X_encoded)"
      ],
      "execution_count": 0,
      "outputs": []
    },
    {
      "cell_type": "code",
      "metadata": {
        "id": "eDF65o9CryG8",
        "colab_type": "code",
        "outputId": "f074fcc4-f298-4fa6-b3a3-cd9ed6c8734e",
        "colab": {
          "base_uri": "https://localhost:8080/",
          "height": 34
        }
      },
      "source": [
        "X_train, X_test, y_train, y_test = train_test_split(X_scaled, y)\n",
        "X_train.shape, X_test.shape, y_train.shape, y_test.shape"
      ],
      "execution_count": 139,
      "outputs": [
        {
          "output_type": "execute_result",
          "data": {
            "text/plain": [
              "((77994, 3), (25998, 3), (77994, 3), (25998, 3))"
            ]
          },
          "metadata": {
            "tags": []
          },
          "execution_count": 139
        }
      ]
    },
    {
      "cell_type": "code",
      "metadata": {
        "id": "dLOzldkPryHD",
        "colab_type": "code",
        "colab": {}
      },
      "source": [
        "opt = SGD(lr=0.01, momentum=0.9)\n",
        "\n",
        "model = Sequential()\n",
        "\n",
        "model.add(Dense(3, input_dim=3, activation='relu'))\n",
        "model.add(Dense(3, activation='softmax'))\n",
        "\n",
        "model.compile(loss='categorical_crossentropy', optimizer=opt, metrics=['accuracy'])"
      ],
      "execution_count": 0,
      "outputs": []
    },
    {
      "cell_type": "code",
      "metadata": {
        "id": "6k1GQNkujoOX",
        "colab_type": "code",
        "outputId": "eac4a3df-7d77-4648-97e4-308a26d11b8f",
        "colab": {
          "base_uri": "https://localhost:8080/",
          "height": 136
        }
      },
      "source": [
        "X_train"
      ],
      "execution_count": 141,
      "outputs": [
        {
          "output_type": "execute_result",
          "data": {
            "text/plain": [
              "array([[0.04664309, 0.55918695, 0.2278755 ],\n",
              "       [0.10481713, 0.569044  , 0.28444879],\n",
              "       [0.48623325, 0.6029662 , 0.39868874],\n",
              "       ...,\n",
              "       [0.1613006 , 0.58458934, 0.26700679],\n",
              "       [0.68083451, 0.5931317 , 0.29758629],\n",
              "       [0.31439303, 0.60512414, 0.28315587]])"
            ]
          },
          "metadata": {
            "tags": []
          },
          "execution_count": 141
        }
      ]
    },
    {
      "cell_type": "code",
      "metadata": {
        "id": "VyzRkPTw7qpN",
        "colab_type": "code",
        "outputId": "fceb4d41-5946-4d7d-a44d-4c24dd74ad14",
        "colab": {
          "base_uri": "https://localhost:8080/",
          "height": 136
        }
      },
      "source": [
        "y_train"
      ],
      "execution_count": 142,
      "outputs": [
        {
          "output_type": "execute_result",
          "data": {
            "text/plain": [
              "array([[1., 0., 0.],\n",
              "       [0., 1., 0.],\n",
              "       [0., 1., 0.],\n",
              "       ...,\n",
              "       [1., 0., 0.],\n",
              "       [0., 0., 1.],\n",
              "       [0., 1., 0.]], dtype=float32)"
            ]
          },
          "metadata": {
            "tags": []
          },
          "execution_count": 142
        }
      ]
    },
    {
      "cell_type": "code",
      "metadata": {
        "id": "jdUi5EewryHL",
        "colab_type": "code",
        "outputId": "1c7511c3-9f6c-4aab-dcba-2ef2a16cd508",
        "colab": {
          "base_uri": "https://localhost:8080/",
          "height": 1000
        }
      },
      "source": [
        "history = model.fit(X_train, y_train, epochs=30, validation_data=(X_test, y_test))"
      ],
      "execution_count": 143,
      "outputs": [
        {
          "output_type": "stream",
          "text": [
            "Epoch 1/30\n",
            "2438/2438 [==============================] - 4s 1ms/step - loss: 0.5812 - accuracy: 0.7532 - val_loss: 0.5505 - val_accuracy: 0.7651\n",
            "Epoch 2/30\n",
            "2438/2438 [==============================] - 4s 1ms/step - loss: 0.5553 - accuracy: 0.7632 - val_loss: 0.5494 - val_accuracy: 0.7651\n",
            "Epoch 3/30\n",
            "2438/2438 [==============================] - 4s 1ms/step - loss: 0.5549 - accuracy: 0.7629 - val_loss: 0.5502 - val_accuracy: 0.7649\n",
            "Epoch 4/30\n",
            "2438/2438 [==============================] - 4s 1ms/step - loss: 0.5538 - accuracy: 0.7630 - val_loss: 0.5481 - val_accuracy: 0.7657\n",
            "Epoch 5/30\n",
            "2438/2438 [==============================] - 4s 1ms/step - loss: 0.5520 - accuracy: 0.7636 - val_loss: 0.5450 - val_accuracy: 0.7668\n",
            "Epoch 6/30\n",
            "2438/2438 [==============================] - 3s 1ms/step - loss: 0.5498 - accuracy: 0.7637 - val_loss: 0.5427 - val_accuracy: 0.7669\n",
            "Epoch 7/30\n",
            "2438/2438 [==============================] - 4s 1ms/step - loss: 0.5476 - accuracy: 0.7646 - val_loss: 0.5439 - val_accuracy: 0.7670\n",
            "Epoch 8/30\n",
            "2438/2438 [==============================] - 3s 1ms/step - loss: 0.5464 - accuracy: 0.7655 - val_loss: 0.5437 - val_accuracy: 0.7671\n",
            "Epoch 9/30\n",
            "2438/2438 [==============================] - 4s 1ms/step - loss: 0.5456 - accuracy: 0.7652 - val_loss: 0.5417 - val_accuracy: 0.7672\n",
            "Epoch 10/30\n",
            "2438/2438 [==============================] - 4s 1ms/step - loss: 0.5456 - accuracy: 0.7647 - val_loss: 0.5420 - val_accuracy: 0.7646\n",
            "Epoch 11/30\n",
            "2438/2438 [==============================] - 4s 1ms/step - loss: 0.5450 - accuracy: 0.7660 - val_loss: 0.5417 - val_accuracy: 0.7659\n",
            "Epoch 12/30\n",
            "2438/2438 [==============================] - 4s 1ms/step - loss: 0.5449 - accuracy: 0.7655 - val_loss: 0.5467 - val_accuracy: 0.7636\n",
            "Epoch 13/30\n",
            "2438/2438 [==============================] - 4s 1ms/step - loss: 0.5448 - accuracy: 0.7655 - val_loss: 0.5400 - val_accuracy: 0.7674\n",
            "Epoch 14/30\n",
            "2438/2438 [==============================] - 4s 1ms/step - loss: 0.5447 - accuracy: 0.7656 - val_loss: 0.5409 - val_accuracy: 0.7667\n",
            "Epoch 15/30\n",
            "2438/2438 [==============================] - 4s 1ms/step - loss: 0.5444 - accuracy: 0.7663 - val_loss: 0.5424 - val_accuracy: 0.7644\n",
            "Epoch 16/30\n",
            "2438/2438 [==============================] - 4s 1ms/step - loss: 0.5443 - accuracy: 0.7651 - val_loss: 0.5392 - val_accuracy: 0.7668\n",
            "Epoch 17/30\n",
            "2438/2438 [==============================] - 3s 1ms/step - loss: 0.5445 - accuracy: 0.7660 - val_loss: 0.5394 - val_accuracy: 0.7666\n",
            "Epoch 18/30\n",
            "2438/2438 [==============================] - 4s 1ms/step - loss: 0.5445 - accuracy: 0.7650 - val_loss: 0.5401 - val_accuracy: 0.7654\n",
            "Epoch 19/30\n",
            "2438/2438 [==============================] - 3s 1ms/step - loss: 0.5443 - accuracy: 0.7656 - val_loss: 0.5395 - val_accuracy: 0.7667\n",
            "Epoch 20/30\n",
            "2438/2438 [==============================] - 3s 1ms/step - loss: 0.5442 - accuracy: 0.7657 - val_loss: 0.5427 - val_accuracy: 0.7661\n",
            "Epoch 21/30\n",
            "2438/2438 [==============================] - 3s 1ms/step - loss: 0.5441 - accuracy: 0.7666 - val_loss: 0.5394 - val_accuracy: 0.7668\n",
            "Epoch 22/30\n",
            "2438/2438 [==============================] - 4s 1ms/step - loss: 0.5441 - accuracy: 0.7659 - val_loss: 0.5402 - val_accuracy: 0.7665\n",
            "Epoch 23/30\n",
            "2438/2438 [==============================] - 4s 1ms/step - loss: 0.5444 - accuracy: 0.7659 - val_loss: 0.5394 - val_accuracy: 0.7673\n",
            "Epoch 24/30\n",
            "2438/2438 [==============================] - 4s 2ms/step - loss: 0.5441 - accuracy: 0.7652 - val_loss: 0.5400 - val_accuracy: 0.7667\n",
            "Epoch 25/30\n",
            "2438/2438 [==============================] - 4s 1ms/step - loss: 0.5440 - accuracy: 0.7647 - val_loss: 0.5425 - val_accuracy: 0.7668\n",
            "Epoch 26/30\n",
            "2438/2438 [==============================] - 4s 1ms/step - loss: 0.5440 - accuracy: 0.7654 - val_loss: 0.5435 - val_accuracy: 0.7666\n",
            "Epoch 27/30\n",
            "2438/2438 [==============================] - 4s 1ms/step - loss: 0.5441 - accuracy: 0.7653 - val_loss: 0.5397 - val_accuracy: 0.7658\n",
            "Epoch 28/30\n",
            "2438/2438 [==============================] - 4s 1ms/step - loss: 0.5441 - accuracy: 0.7655 - val_loss: 0.5405 - val_accuracy: 0.7650\n",
            "Epoch 29/30\n",
            "2438/2438 [==============================] - 3s 1ms/step - loss: 0.5440 - accuracy: 0.7655 - val_loss: 0.5394 - val_accuracy: 0.7659\n",
            "Epoch 30/30\n",
            "2438/2438 [==============================] - 4s 1ms/step - loss: 0.5441 - accuracy: 0.7652 - val_loss: 0.5397 - val_accuracy: 0.7670\n"
          ],
          "name": "stdout"
        }
      ]
    },
    {
      "cell_type": "code",
      "metadata": {
        "id": "BNxSDbtY7DFC",
        "colab_type": "code",
        "outputId": "d043da3a-8de6-4c26-813a-56ec3d2e463f",
        "colab": {
          "base_uri": "https://localhost:8080/",
          "height": 221
        }
      },
      "source": [
        "model.summary()"
      ],
      "execution_count": 144,
      "outputs": [
        {
          "output_type": "stream",
          "text": [
            "Model: \"sequential_24\"\n",
            "_________________________________________________________________\n",
            "Layer (type)                 Output Shape              Param #   \n",
            "=================================================================\n",
            "dense_59 (Dense)             (None, 3)                 12        \n",
            "_________________________________________________________________\n",
            "dense_60 (Dense)             (None, 3)                 12        \n",
            "=================================================================\n",
            "Total params: 24\n",
            "Trainable params: 24\n",
            "Non-trainable params: 0\n",
            "_________________________________________________________________\n"
          ],
          "name": "stdout"
        }
      ]
    },
    {
      "cell_type": "code",
      "metadata": {
        "id": "02dViHcnryHT",
        "colab_type": "code",
        "colab": {}
      },
      "source": [
        "opt = SGD(lr=0.01, momentum=0.9)\n",
        "\n",
        "model = Sequential()\n",
        "\n",
        "model.add(Dense(3, input_dim=3, activation='relu'))\n",
        "model.add(Dropout(0.2))\n",
        "model.add(Dense(3, activation='relu'))\n",
        "model.add(Dropout(0.2))\n",
        "model.add(Dense(3, activation='softmax'))\n",
        "\n",
        "model.compile(loss='categorical_crossentropy', optimizer=opt, metrics=['accuracy'])"
      ],
      "execution_count": 0,
      "outputs": []
    },
    {
      "cell_type": "code",
      "metadata": {
        "id": "B2WS0X-l7CNg",
        "colab_type": "code",
        "outputId": "448ef250-ef08-459e-989e-e3c9cbdb39d4",
        "colab": {
          "base_uri": "https://localhost:8080/",
          "height": 323
        }
      },
      "source": [
        "model.summary()"
      ],
      "execution_count": 146,
      "outputs": [
        {
          "output_type": "stream",
          "text": [
            "Model: \"sequential_25\"\n",
            "_________________________________________________________________\n",
            "Layer (type)                 Output Shape              Param #   \n",
            "=================================================================\n",
            "dense_61 (Dense)             (None, 3)                 12        \n",
            "_________________________________________________________________\n",
            "dropout_18 (Dropout)         (None, 3)                 0         \n",
            "_________________________________________________________________\n",
            "dense_62 (Dense)             (None, 3)                 12        \n",
            "_________________________________________________________________\n",
            "dropout_19 (Dropout)         (None, 3)                 0         \n",
            "_________________________________________________________________\n",
            "dense_63 (Dense)             (None, 3)                 12        \n",
            "=================================================================\n",
            "Total params: 36\n",
            "Trainable params: 36\n",
            "Non-trainable params: 0\n",
            "_________________________________________________________________\n"
          ],
          "name": "stdout"
        }
      ]
    },
    {
      "cell_type": "code",
      "metadata": {
        "id": "O3E_B_epkzNS",
        "colab_type": "code",
        "outputId": "d7b72bef-907c-407c-af18-02e1353da23b",
        "colab": {
          "base_uri": "https://localhost:8080/",
          "height": 1000
        }
      },
      "source": [
        "history = model.fit(X_train, y_train, epochs=50, validation_data=(X_test, y_test)) "
      ],
      "execution_count": 147,
      "outputs": [
        {
          "output_type": "stream",
          "text": [
            "Epoch 1/50\n",
            "2438/2438 [==============================] - 4s 2ms/step - loss: 0.6722 - accuracy: 0.7173 - val_loss: 0.6057 - val_accuracy: 0.7448\n",
            "Epoch 2/50\n",
            "2438/2438 [==============================] - 4s 1ms/step - loss: 0.6321 - accuracy: 0.7367 - val_loss: 0.5807 - val_accuracy: 0.7589\n",
            "Epoch 3/50\n",
            "2438/2438 [==============================] - 4s 1ms/step - loss: 0.6291 - accuracy: 0.7375 - val_loss: 0.5790 - val_accuracy: 0.7613\n",
            "Epoch 4/50\n",
            "2438/2438 [==============================] - 4s 1ms/step - loss: 0.6310 - accuracy: 0.7376 - val_loss: 0.5782 - val_accuracy: 0.7629\n",
            "Epoch 5/50\n",
            "2438/2438 [==============================] - 4s 1ms/step - loss: 0.6307 - accuracy: 0.7376 - val_loss: 0.5745 - val_accuracy: 0.7611\n",
            "Epoch 6/50\n",
            "2438/2438 [==============================] - 4s 1ms/step - loss: 0.6311 - accuracy: 0.7375 - val_loss: 0.5791 - val_accuracy: 0.7615\n",
            "Epoch 7/50\n",
            "2438/2438 [==============================] - 4s 1ms/step - loss: 0.6308 - accuracy: 0.7364 - val_loss: 0.5710 - val_accuracy: 0.7645\n",
            "Epoch 8/50\n",
            "2438/2438 [==============================] - 4s 1ms/step - loss: 0.6285 - accuracy: 0.7393 - val_loss: 0.5748 - val_accuracy: 0.7642\n",
            "Epoch 9/50\n",
            "2438/2438 [==============================] - 4s 1ms/step - loss: 0.6274 - accuracy: 0.7384 - val_loss: 0.5798 - val_accuracy: 0.7646\n",
            "Epoch 10/50\n",
            "2438/2438 [==============================] - 4s 1ms/step - loss: 0.6295 - accuracy: 0.7383 - val_loss: 0.5900 - val_accuracy: 0.7536\n",
            "Epoch 11/50\n",
            "2438/2438 [==============================] - 4s 1ms/step - loss: 0.6277 - accuracy: 0.7401 - val_loss: 0.5746 - val_accuracy: 0.7660\n",
            "Epoch 12/50\n",
            "2438/2438 [==============================] - 4s 1ms/step - loss: 0.6290 - accuracy: 0.7374 - val_loss: 0.5736 - val_accuracy: 0.7646\n",
            "Epoch 13/50\n",
            "2438/2438 [==============================] - 4s 1ms/step - loss: 0.6301 - accuracy: 0.7375 - val_loss: 0.5751 - val_accuracy: 0.7639\n",
            "Epoch 14/50\n",
            "2438/2438 [==============================] - 4s 1ms/step - loss: 0.6290 - accuracy: 0.7383 - val_loss: 0.5781 - val_accuracy: 0.7600\n",
            "Epoch 15/50\n",
            "2438/2438 [==============================] - 4s 1ms/step - loss: 0.6280 - accuracy: 0.7409 - val_loss: 0.5786 - val_accuracy: 0.7631\n",
            "Epoch 16/50\n",
            "2438/2438 [==============================] - 4s 1ms/step - loss: 0.6289 - accuracy: 0.7393 - val_loss: 0.5763 - val_accuracy: 0.7594\n",
            "Epoch 17/50\n",
            "2438/2438 [==============================] - 4s 1ms/step - loss: 0.6300 - accuracy: 0.7379 - val_loss: 0.5833 - val_accuracy: 0.7625\n",
            "Epoch 18/50\n",
            "2438/2438 [==============================] - 4s 1ms/step - loss: 0.6291 - accuracy: 0.7380 - val_loss: 0.5792 - val_accuracy: 0.7592\n",
            "Epoch 19/50\n",
            "2438/2438 [==============================] - 4s 1ms/step - loss: 0.6283 - accuracy: 0.7386 - val_loss: 0.5755 - val_accuracy: 0.7644\n",
            "Epoch 20/50\n",
            "2438/2438 [==============================] - 4s 1ms/step - loss: 0.6303 - accuracy: 0.7374 - val_loss: 0.5808 - val_accuracy: 0.7605\n",
            "Epoch 21/50\n",
            "2438/2438 [==============================] - 4s 1ms/step - loss: 0.6293 - accuracy: 0.7376 - val_loss: 0.5793 - val_accuracy: 0.7592\n",
            "Epoch 22/50\n",
            "2438/2438 [==============================] - 4s 1ms/step - loss: 0.6290 - accuracy: 0.7382 - val_loss: 0.5724 - val_accuracy: 0.7642\n",
            "Epoch 23/50\n",
            "2438/2438 [==============================] - 4s 1ms/step - loss: 0.6298 - accuracy: 0.7377 - val_loss: 0.5762 - val_accuracy: 0.7661\n",
            "Epoch 24/50\n",
            "2438/2438 [==============================] - 4s 1ms/step - loss: 0.6305 - accuracy: 0.7376 - val_loss: 0.5730 - val_accuracy: 0.7641\n",
            "Epoch 25/50\n",
            "2438/2438 [==============================] - 4s 1ms/step - loss: 0.6285 - accuracy: 0.7393 - val_loss: 0.5788 - val_accuracy: 0.7604\n",
            "Epoch 26/50\n",
            "2438/2438 [==============================] - 4s 1ms/step - loss: 0.6296 - accuracy: 0.7380 - val_loss: 0.5748 - val_accuracy: 0.7649\n",
            "Epoch 27/50\n",
            "2438/2438 [==============================] - 4s 1ms/step - loss: 0.6283 - accuracy: 0.7389 - val_loss: 0.5757 - val_accuracy: 0.7639\n",
            "Epoch 28/50\n",
            "2438/2438 [==============================] - 4s 1ms/step - loss: 0.6286 - accuracy: 0.7383 - val_loss: 0.5747 - val_accuracy: 0.7658\n",
            "Epoch 29/50\n",
            "2438/2438 [==============================] - 4s 1ms/step - loss: 0.6294 - accuracy: 0.7376 - val_loss: 0.5767 - val_accuracy: 0.7643\n",
            "Epoch 30/50\n",
            "2438/2438 [==============================] - 4s 1ms/step - loss: 0.6302 - accuracy: 0.7371 - val_loss: 0.5889 - val_accuracy: 0.7556\n",
            "Epoch 31/50\n",
            "2438/2438 [==============================] - 4s 1ms/step - loss: 0.6278 - accuracy: 0.7399 - val_loss: 0.5821 - val_accuracy: 0.7604\n",
            "Epoch 32/50\n",
            "2438/2438 [==============================] - 4s 1ms/step - loss: 0.6300 - accuracy: 0.7370 - val_loss: 0.5778 - val_accuracy: 0.7639\n",
            "Epoch 33/50\n",
            "2438/2438 [==============================] - 4s 1ms/step - loss: 0.6286 - accuracy: 0.7388 - val_loss: 0.5841 - val_accuracy: 0.7591\n",
            "Epoch 34/50\n",
            "2438/2438 [==============================] - 4s 2ms/step - loss: 0.6288 - accuracy: 0.7397 - val_loss: 0.5722 - val_accuracy: 0.7639\n",
            "Epoch 35/50\n",
            "2438/2438 [==============================] - 4s 2ms/step - loss: 0.6286 - accuracy: 0.7401 - val_loss: 0.5783 - val_accuracy: 0.7639\n",
            "Epoch 36/50\n",
            "2438/2438 [==============================] - 4s 2ms/step - loss: 0.6297 - accuracy: 0.7372 - val_loss: 0.5779 - val_accuracy: 0.7643\n",
            "Epoch 37/50\n",
            "2438/2438 [==============================] - 4s 1ms/step - loss: 0.6297 - accuracy: 0.7376 - val_loss: 0.5814 - val_accuracy: 0.7604\n",
            "Epoch 38/50\n",
            "2438/2438 [==============================] - 4s 1ms/step - loss: 0.6291 - accuracy: 0.7383 - val_loss: 0.5715 - val_accuracy: 0.7641\n",
            "Epoch 39/50\n",
            "2438/2438 [==============================] - 4s 1ms/step - loss: 0.6298 - accuracy: 0.7388 - val_loss: 0.5730 - val_accuracy: 0.7644\n",
            "Epoch 40/50\n",
            "2438/2438 [==============================] - 4s 1ms/step - loss: 0.6309 - accuracy: 0.7379 - val_loss: 0.5789 - val_accuracy: 0.7636\n",
            "Epoch 41/50\n",
            "2438/2438 [==============================] - 4s 1ms/step - loss: 0.6295 - accuracy: 0.7392 - val_loss: 0.5738 - val_accuracy: 0.7641\n",
            "Epoch 42/50\n",
            "2438/2438 [==============================] - 4s 1ms/step - loss: 0.6271 - accuracy: 0.7391 - val_loss: 0.5728 - val_accuracy: 0.7640\n",
            "Epoch 43/50\n",
            "2438/2438 [==============================] - 4s 1ms/step - loss: 0.6282 - accuracy: 0.7378 - val_loss: 0.5767 - val_accuracy: 0.7639\n",
            "Epoch 44/50\n",
            "2438/2438 [==============================] - 4s 1ms/step - loss: 0.6278 - accuracy: 0.7393 - val_loss: 0.5707 - val_accuracy: 0.7638\n",
            "Epoch 45/50\n",
            "2438/2438 [==============================] - 4s 1ms/step - loss: 0.6290 - accuracy: 0.7384 - val_loss: 0.5730 - val_accuracy: 0.7639\n",
            "Epoch 46/50\n",
            "2438/2438 [==============================] - 4s 1ms/step - loss: 0.6273 - accuracy: 0.7401 - val_loss: 0.5738 - val_accuracy: 0.7643\n",
            "Epoch 47/50\n",
            "2438/2438 [==============================] - 4s 1ms/step - loss: 0.6296 - accuracy: 0.7387 - val_loss: 0.5721 - val_accuracy: 0.7661\n",
            "Epoch 48/50\n",
            "2438/2438 [==============================] - 4s 2ms/step - loss: 0.6287 - accuracy: 0.7396 - val_loss: 0.5760 - val_accuracy: 0.7639\n",
            "Epoch 49/50\n",
            "2438/2438 [==============================] - 4s 1ms/step - loss: 0.6291 - accuracy: 0.7386 - val_loss: 0.5756 - val_accuracy: 0.7641\n",
            "Epoch 50/50\n",
            "2438/2438 [==============================] - 4s 1ms/step - loss: 0.6297 - accuracy: 0.7388 - val_loss: 0.5734 - val_accuracy: 0.7639\n"
          ],
          "name": "stdout"
        }
      ]
    },
    {
      "cell_type": "code",
      "metadata": {
        "id": "1W4fCH83k2kb",
        "colab_type": "code",
        "outputId": "cd71e68f-3361-48f3-f71f-2b37f62c22b0",
        "colab": {
          "base_uri": "https://localhost:8080/",
          "height": 34
        }
      },
      "source": [
        "features = ['name', 'season', 'RegionName', 'county_state', 'latitude', 'longitude']\n",
        "target = 'target'\n",
        "\n",
        "X = df[features].values\n",
        "y = df[target].values\n",
        "\n",
        "encoder = ce.CatBoostEncoder()\n",
        "\n",
        "X_encoded = encoder.fit_transform(X, y)\n",
        "\n",
        "scaler = MinMaxScaler()\n",
        "\n",
        "X_scaled = scaler.fit_transform(X_encoded)\n",
        "\n",
        "y = to_categorical(y)\n",
        "\n",
        "X_train, X_test, y_train, y_test = train_test_split(X_scaled, y)\n",
        "X_train.shape, X_test.shape, y_train.shape, y_test.shape"
      ],
      "execution_count": 148,
      "outputs": [
        {
          "output_type": "execute_result",
          "data": {
            "text/plain": [
              "((77994, 6), (25998, 6), (77994, 3), (25998, 3))"
            ]
          },
          "metadata": {
            "tags": []
          },
          "execution_count": 148
        }
      ]
    },
    {
      "cell_type": "code",
      "metadata": {
        "id": "kXGKdc6yHTTZ",
        "colab_type": "code",
        "colab": {
          "base_uri": "https://localhost:8080/",
          "height": 136
        },
        "outputId": "ed4c03ac-efc3-4281-e965-06bff85ada3a"
      },
      "source": [
        "y"
      ],
      "execution_count": 151,
      "outputs": [
        {
          "output_type": "execute_result",
          "data": {
            "text/plain": [
              "array([[0., 1., 0.],\n",
              "       [1., 0., 0.],\n",
              "       [1., 0., 0.],\n",
              "       ...,\n",
              "       [0., 1., 0.],\n",
              "       [1., 0., 0.],\n",
              "       [1., 0., 0.]], dtype=float32)"
            ]
          },
          "metadata": {
            "tags": []
          },
          "execution_count": 151
        }
      ]
    },
    {
      "cell_type": "code",
      "metadata": {
        "id": "7ME4xY5OmWW0",
        "colab_type": "code",
        "colab": {}
      },
      "source": [
        "#opt = SGD(lr=0.01, momentum=0.9)\n",
        "\n",
        "model = Sequential()\n",
        "\n",
        "model.add(Dense(6, input_dim=6, activation='relu'))\n",
        "model.add(Dropout(0.2))\n",
        "model.add(Dense(3, activation='relu'))\n",
        "model.add(Dropout(0.2))\n",
        "model.add(Dense(3, activation='softmax'))\n",
        "\n",
        "model.compile(loss='categorical_crossentropy', optimizer='adam', metrics=['accuracy'])"
      ],
      "execution_count": 0,
      "outputs": []
    },
    {
      "cell_type": "code",
      "metadata": {
        "id": "0tWSNUGTmbbU",
        "colab_type": "code",
        "outputId": "d77dd295-72b7-42e3-886a-50ce4eca21b9",
        "colab": {
          "base_uri": "https://localhost:8080/",
          "height": 1000
        }
      },
      "source": [
        "history = model.fit(X_train, y_train, epochs=100, validation_data=(X_test, y_test)) "
      ],
      "execution_count": 155,
      "outputs": [
        {
          "output_type": "stream",
          "text": [
            "Epoch 1/100\n",
            "2438/2438 [==============================] - 4s 2ms/step - loss: 0.7379 - accuracy: 0.6793 - val_loss: 0.5902 - val_accuracy: 0.7619\n",
            "Epoch 2/100\n",
            "2438/2438 [==============================] - 4s 2ms/step - loss: 0.6262 - accuracy: 0.7167 - val_loss: 0.5697 - val_accuracy: 0.7627\n",
            "Epoch 3/100\n",
            "2438/2438 [==============================] - 4s 1ms/step - loss: 0.6105 - accuracy: 0.7224 - val_loss: 0.5610 - val_accuracy: 0.7560\n",
            "Epoch 4/100\n",
            "2438/2438 [==============================] - 4s 1ms/step - loss: 0.6038 - accuracy: 0.7247 - val_loss: 0.5598 - val_accuracy: 0.7497\n",
            "Epoch 5/100\n",
            "2438/2438 [==============================] - 4s 1ms/step - loss: 0.6020 - accuracy: 0.7249 - val_loss: 0.5557 - val_accuracy: 0.7517\n",
            "Epoch 6/100\n",
            "2438/2438 [==============================] - 4s 1ms/step - loss: 0.5997 - accuracy: 0.7267 - val_loss: 0.5586 - val_accuracy: 0.7447\n",
            "Epoch 7/100\n",
            "2438/2438 [==============================] - 4s 1ms/step - loss: 0.5990 - accuracy: 0.7253 - val_loss: 0.5520 - val_accuracy: 0.7524\n",
            "Epoch 8/100\n",
            "2438/2438 [==============================] - 4s 1ms/step - loss: 0.6004 - accuracy: 0.7256 - val_loss: 0.5626 - val_accuracy: 0.7418\n",
            "Epoch 9/100\n",
            "2438/2438 [==============================] - 4s 1ms/step - loss: 0.5987 - accuracy: 0.7277 - val_loss: 0.5582 - val_accuracy: 0.7481\n",
            "Epoch 10/100\n",
            "2438/2438 [==============================] - 4s 1ms/step - loss: 0.5990 - accuracy: 0.7271 - val_loss: 0.5506 - val_accuracy: 0.7545\n",
            "Epoch 11/100\n",
            "2438/2438 [==============================] - 4s 1ms/step - loss: 0.5995 - accuracy: 0.7257 - val_loss: 0.5542 - val_accuracy: 0.7502\n",
            "Epoch 12/100\n",
            "2438/2438 [==============================] - 4s 1ms/step - loss: 0.5971 - accuracy: 0.7277 - val_loss: 0.5542 - val_accuracy: 0.7521\n",
            "Epoch 13/100\n",
            "2438/2438 [==============================] - 4s 1ms/step - loss: 0.5988 - accuracy: 0.7270 - val_loss: 0.5591 - val_accuracy: 0.7422\n",
            "Epoch 14/100\n",
            "2438/2438 [==============================] - 4s 1ms/step - loss: 0.5980 - accuracy: 0.7262 - val_loss: 0.5572 - val_accuracy: 0.7472\n",
            "Epoch 15/100\n",
            "2438/2438 [==============================] - 4s 1ms/step - loss: 0.5977 - accuracy: 0.7267 - val_loss: 0.5592 - val_accuracy: 0.7466\n",
            "Epoch 16/100\n",
            "2438/2438 [==============================] - 4s 1ms/step - loss: 0.5964 - accuracy: 0.7285 - val_loss: 0.5575 - val_accuracy: 0.7524\n",
            "Epoch 17/100\n",
            "2438/2438 [==============================] - 4s 1ms/step - loss: 0.5972 - accuracy: 0.7279 - val_loss: 0.5639 - val_accuracy: 0.7357\n",
            "Epoch 18/100\n",
            "2438/2438 [==============================] - 4s 1ms/step - loss: 0.5991 - accuracy: 0.7267 - val_loss: 0.5675 - val_accuracy: 0.7329\n",
            "Epoch 19/100\n",
            "2438/2438 [==============================] - 4s 1ms/step - loss: 0.5962 - accuracy: 0.7288 - val_loss: 0.5604 - val_accuracy: 0.7440\n",
            "Epoch 20/100\n",
            "2438/2438 [==============================] - 4s 1ms/step - loss: 0.5987 - accuracy: 0.7262 - val_loss: 0.5580 - val_accuracy: 0.7468\n",
            "Epoch 21/100\n",
            "2438/2438 [==============================] - 4s 1ms/step - loss: 0.5982 - accuracy: 0.7261 - val_loss: 0.5603 - val_accuracy: 0.7452\n",
            "Epoch 22/100\n",
            "2438/2438 [==============================] - 4s 1ms/step - loss: 0.5981 - accuracy: 0.7272 - val_loss: 0.5611 - val_accuracy: 0.7411\n",
            "Epoch 23/100\n",
            "2438/2438 [==============================] - 4s 1ms/step - loss: 0.5972 - accuracy: 0.7280 - val_loss: 0.5571 - val_accuracy: 0.7466\n",
            "Epoch 24/100\n",
            "2438/2438 [==============================] - 4s 1ms/step - loss: 0.5995 - accuracy: 0.7257 - val_loss: 0.5527 - val_accuracy: 0.7509\n",
            "Epoch 25/100\n",
            "2438/2438 [==============================] - 4s 1ms/step - loss: 0.5974 - accuracy: 0.7262 - val_loss: 0.5570 - val_accuracy: 0.7451\n",
            "Epoch 26/100\n",
            "2438/2438 [==============================] - 4s 1ms/step - loss: 0.5973 - accuracy: 0.7280 - val_loss: 0.5632 - val_accuracy: 0.7391\n",
            "Epoch 27/100\n",
            "2438/2438 [==============================] - 4s 1ms/step - loss: 0.5979 - accuracy: 0.7274 - val_loss: 0.5591 - val_accuracy: 0.7449\n",
            "Epoch 28/100\n",
            "2438/2438 [==============================] - 4s 1ms/step - loss: 0.5980 - accuracy: 0.7279 - val_loss: 0.5561 - val_accuracy: 0.7507\n",
            "Epoch 29/100\n",
            "2438/2438 [==============================] - 4s 1ms/step - loss: 0.5967 - accuracy: 0.7283 - val_loss: 0.5514 - val_accuracy: 0.7522\n",
            "Epoch 30/100\n",
            "2438/2438 [==============================] - 4s 1ms/step - loss: 0.5971 - accuracy: 0.7293 - val_loss: 0.5592 - val_accuracy: 0.7439\n",
            "Epoch 31/100\n",
            "2438/2438 [==============================] - 4s 1ms/step - loss: 0.5962 - accuracy: 0.7277 - val_loss: 0.5581 - val_accuracy: 0.7491\n",
            "Epoch 32/100\n",
            "2438/2438 [==============================] - 4s 1ms/step - loss: 0.5968 - accuracy: 0.7272 - val_loss: 0.5548 - val_accuracy: 0.7509\n",
            "Epoch 33/100\n",
            "2438/2438 [==============================] - 4s 1ms/step - loss: 0.5978 - accuracy: 0.7272 - val_loss: 0.5592 - val_accuracy: 0.7436\n",
            "Epoch 34/100\n",
            "2438/2438 [==============================] - 4s 1ms/step - loss: 0.5990 - accuracy: 0.7273 - val_loss: 0.5533 - val_accuracy: 0.7511\n",
            "Epoch 35/100\n",
            "2438/2438 [==============================] - 4s 1ms/step - loss: 0.5976 - accuracy: 0.7260 - val_loss: 0.5564 - val_accuracy: 0.7453\n",
            "Epoch 36/100\n",
            "2438/2438 [==============================] - 4s 1ms/step - loss: 0.5980 - accuracy: 0.7269 - val_loss: 0.5605 - val_accuracy: 0.7423\n",
            "Epoch 37/100\n",
            "2438/2438 [==============================] - 4s 1ms/step - loss: 0.5980 - accuracy: 0.7268 - val_loss: 0.5548 - val_accuracy: 0.7499\n",
            "Epoch 38/100\n",
            "2438/2438 [==============================] - 4s 2ms/step - loss: 0.5963 - accuracy: 0.7285 - val_loss: 0.5540 - val_accuracy: 0.7485\n",
            "Epoch 39/100\n",
            "2438/2438 [==============================] - 4s 1ms/step - loss: 0.5981 - accuracy: 0.7255 - val_loss: 0.5582 - val_accuracy: 0.7436\n",
            "Epoch 40/100\n",
            "2438/2438 [==============================] - 4s 1ms/step - loss: 0.6006 - accuracy: 0.7255 - val_loss: 0.5571 - val_accuracy: 0.7455\n",
            "Epoch 41/100\n",
            "2438/2438 [==============================] - 4s 1ms/step - loss: 0.5975 - accuracy: 0.7273 - val_loss: 0.5611 - val_accuracy: 0.7406\n",
            "Epoch 42/100\n",
            "2438/2438 [==============================] - 4s 1ms/step - loss: 0.5974 - accuracy: 0.7281 - val_loss: 0.5519 - val_accuracy: 0.7513\n",
            "Epoch 43/100\n",
            "2438/2438 [==============================] - 4s 1ms/step - loss: 0.5989 - accuracy: 0.7264 - val_loss: 0.5542 - val_accuracy: 0.7514\n",
            "Epoch 44/100\n",
            "2438/2438 [==============================] - 4s 1ms/step - loss: 0.5982 - accuracy: 0.7275 - val_loss: 0.5591 - val_accuracy: 0.7436\n",
            "Epoch 45/100\n",
            "2438/2438 [==============================] - 4s 1ms/step - loss: 0.5992 - accuracy: 0.7254 - val_loss: 0.5552 - val_accuracy: 0.7474\n",
            "Epoch 46/100\n",
            "2438/2438 [==============================] - 4s 1ms/step - loss: 0.5977 - accuracy: 0.7278 - val_loss: 0.5574 - val_accuracy: 0.7457\n",
            "Epoch 47/100\n",
            "2438/2438 [==============================] - 4s 1ms/step - loss: 0.5988 - accuracy: 0.7257 - val_loss: 0.5569 - val_accuracy: 0.7445\n",
            "Epoch 48/100\n",
            "2438/2438 [==============================] - 4s 1ms/step - loss: 0.5969 - accuracy: 0.7275 - val_loss: 0.5592 - val_accuracy: 0.7468\n",
            "Epoch 49/100\n",
            "2438/2438 [==============================] - 4s 1ms/step - loss: 0.5975 - accuracy: 0.7255 - val_loss: 0.5626 - val_accuracy: 0.7408\n",
            "Epoch 50/100\n",
            "2438/2438 [==============================] - 4s 1ms/step - loss: 0.5996 - accuracy: 0.7285 - val_loss: 0.5633 - val_accuracy: 0.7417\n",
            "Epoch 51/100\n",
            "2438/2438 [==============================] - 4s 1ms/step - loss: 0.5983 - accuracy: 0.7260 - val_loss: 0.5604 - val_accuracy: 0.7434\n",
            "Epoch 52/100\n",
            "2438/2438 [==============================] - 4s 2ms/step - loss: 0.5974 - accuracy: 0.7277 - val_loss: 0.5530 - val_accuracy: 0.7513\n",
            "Epoch 53/100\n",
            "2438/2438 [==============================] - 4s 2ms/step - loss: 0.5976 - accuracy: 0.7271 - val_loss: 0.5552 - val_accuracy: 0.7499\n",
            "Epoch 54/100\n",
            "2438/2438 [==============================] - 4s 2ms/step - loss: 0.5983 - accuracy: 0.7285 - val_loss: 0.5613 - val_accuracy: 0.7421\n",
            "Epoch 55/100\n",
            "2438/2438 [==============================] - 4s 1ms/step - loss: 0.5966 - accuracy: 0.7274 - val_loss: 0.5582 - val_accuracy: 0.7466\n",
            "Epoch 56/100\n",
            "2438/2438 [==============================] - 4s 1ms/step - loss: 0.5981 - accuracy: 0.7282 - val_loss: 0.5602 - val_accuracy: 0.7418\n",
            "Epoch 57/100\n",
            "2438/2438 [==============================] - 4s 2ms/step - loss: 0.5986 - accuracy: 0.7268 - val_loss: 0.5620 - val_accuracy: 0.7428\n",
            "Epoch 58/100\n",
            "2438/2438 [==============================] - 4s 1ms/step - loss: 0.5980 - accuracy: 0.7273 - val_loss: 0.5618 - val_accuracy: 0.7411\n",
            "Epoch 59/100\n",
            "2438/2438 [==============================] - 4s 1ms/step - loss: 0.5971 - accuracy: 0.7270 - val_loss: 0.5619 - val_accuracy: 0.7430\n",
            "Epoch 60/100\n",
            "2438/2438 [==============================] - 4s 1ms/step - loss: 0.5986 - accuracy: 0.7269 - val_loss: 0.5589 - val_accuracy: 0.7462\n",
            "Epoch 61/100\n",
            "2438/2438 [==============================] - 4s 1ms/step - loss: 0.5972 - accuracy: 0.7269 - val_loss: 0.5532 - val_accuracy: 0.7504\n",
            "Epoch 62/100\n",
            "2438/2438 [==============================] - 4s 1ms/step - loss: 0.5969 - accuracy: 0.7267 - val_loss: 0.5549 - val_accuracy: 0.7476\n",
            "Epoch 63/100\n",
            "2438/2438 [==============================] - 4s 1ms/step - loss: 0.5994 - accuracy: 0.7267 - val_loss: 0.5595 - val_accuracy: 0.7461\n",
            "Epoch 64/100\n",
            "2438/2438 [==============================] - 4s 1ms/step - loss: 0.5981 - accuracy: 0.7268 - val_loss: 0.5548 - val_accuracy: 0.7474\n",
            "Epoch 65/100\n",
            "2438/2438 [==============================] - 4s 1ms/step - loss: 0.5986 - accuracy: 0.7261 - val_loss: 0.5612 - val_accuracy: 0.7417\n",
            "Epoch 66/100\n",
            "2438/2438 [==============================] - 4s 1ms/step - loss: 0.6000 - accuracy: 0.7262 - val_loss: 0.5594 - val_accuracy: 0.7498\n",
            "Epoch 67/100\n",
            "2438/2438 [==============================] - 4s 1ms/step - loss: 0.5989 - accuracy: 0.7274 - val_loss: 0.5602 - val_accuracy: 0.7446\n",
            "Epoch 68/100\n",
            "2438/2438 [==============================] - 4s 1ms/step - loss: 0.5975 - accuracy: 0.7276 - val_loss: 0.5512 - val_accuracy: 0.7529\n",
            "Epoch 69/100\n",
            "2438/2438 [==============================] - 4s 1ms/step - loss: 0.5969 - accuracy: 0.7283 - val_loss: 0.5557 - val_accuracy: 0.7499\n",
            "Epoch 70/100\n",
            "2438/2438 [==============================] - 4s 1ms/step - loss: 0.5985 - accuracy: 0.7259 - val_loss: 0.5572 - val_accuracy: 0.7466\n",
            "Epoch 71/100\n",
            "2438/2438 [==============================] - 4s 1ms/step - loss: 0.5982 - accuracy: 0.7275 - val_loss: 0.5623 - val_accuracy: 0.7404\n",
            "Epoch 72/100\n",
            "2438/2438 [==============================] - 4s 1ms/step - loss: 0.5966 - accuracy: 0.7287 - val_loss: 0.5689 - val_accuracy: 0.7388\n",
            "Epoch 73/100\n",
            "2438/2438 [==============================] - 4s 1ms/step - loss: 0.5975 - accuracy: 0.7281 - val_loss: 0.5547 - val_accuracy: 0.7479\n",
            "Epoch 74/100\n",
            "2438/2438 [==============================] - 4s 2ms/step - loss: 0.5984 - accuracy: 0.7276 - val_loss: 0.5576 - val_accuracy: 0.7438\n",
            "Epoch 75/100\n",
            "2438/2438 [==============================] - 4s 1ms/step - loss: 0.5990 - accuracy: 0.7261 - val_loss: 0.5538 - val_accuracy: 0.7501\n",
            "Epoch 76/100\n",
            "2438/2438 [==============================] - 4s 1ms/step - loss: 0.5988 - accuracy: 0.7276 - val_loss: 0.5579 - val_accuracy: 0.7452\n",
            "Epoch 77/100\n",
            "2438/2438 [==============================] - 4s 1ms/step - loss: 0.5968 - accuracy: 0.7256 - val_loss: 0.5574 - val_accuracy: 0.7462\n",
            "Epoch 78/100\n",
            "2438/2438 [==============================] - 4s 1ms/step - loss: 0.5976 - accuracy: 0.7278 - val_loss: 0.5598 - val_accuracy: 0.7437\n",
            "Epoch 79/100\n",
            "2438/2438 [==============================] - 4s 1ms/step - loss: 0.5978 - accuracy: 0.7265 - val_loss: 0.5603 - val_accuracy: 0.7425\n",
            "Epoch 80/100\n",
            "2438/2438 [==============================] - 4s 1ms/step - loss: 0.5980 - accuracy: 0.7269 - val_loss: 0.5487 - val_accuracy: 0.7567\n",
            "Epoch 81/100\n",
            "2438/2438 [==============================] - 4s 1ms/step - loss: 0.5981 - accuracy: 0.7268 - val_loss: 0.5570 - val_accuracy: 0.7506\n",
            "Epoch 82/100\n",
            "2438/2438 [==============================] - 4s 2ms/step - loss: 0.5982 - accuracy: 0.7282 - val_loss: 0.5571 - val_accuracy: 0.7462\n",
            "Epoch 83/100\n",
            "2438/2438 [==============================] - 4s 2ms/step - loss: 0.5983 - accuracy: 0.7261 - val_loss: 0.5622 - val_accuracy: 0.7370\n",
            "Epoch 84/100\n",
            "2438/2438 [==============================] - 4s 1ms/step - loss: 0.5975 - accuracy: 0.7273 - val_loss: 0.5540 - val_accuracy: 0.7518\n",
            "Epoch 85/100\n",
            "2438/2438 [==============================] - 4s 2ms/step - loss: 0.5985 - accuracy: 0.7252 - val_loss: 0.5587 - val_accuracy: 0.7456\n",
            "Epoch 86/100\n",
            "2438/2438 [==============================] - 4s 1ms/step - loss: 0.5979 - accuracy: 0.7263 - val_loss: 0.5504 - val_accuracy: 0.7581\n",
            "Epoch 87/100\n",
            "2438/2438 [==============================] - 4s 1ms/step - loss: 0.5975 - accuracy: 0.7266 - val_loss: 0.5602 - val_accuracy: 0.7413\n",
            "Epoch 88/100\n",
            "2438/2438 [==============================] - 4s 1ms/step - loss: 0.5987 - accuracy: 0.7275 - val_loss: 0.5635 - val_accuracy: 0.7375\n",
            "Epoch 89/100\n",
            "2438/2438 [==============================] - 4s 1ms/step - loss: 0.5979 - accuracy: 0.7271 - val_loss: 0.5644 - val_accuracy: 0.7375\n",
            "Epoch 90/100\n",
            "2438/2438 [==============================] - 4s 2ms/step - loss: 0.5979 - accuracy: 0.7275 - val_loss: 0.5628 - val_accuracy: 0.7400\n",
            "Epoch 91/100\n",
            "2438/2438 [==============================] - 4s 1ms/step - loss: 0.5970 - accuracy: 0.7275 - val_loss: 0.5595 - val_accuracy: 0.7422\n",
            "Epoch 92/100\n",
            "2438/2438 [==============================] - 4s 1ms/step - loss: 0.5988 - accuracy: 0.7263 - val_loss: 0.5523 - val_accuracy: 0.7515\n",
            "Epoch 93/100\n",
            "2438/2438 [==============================] - 4s 1ms/step - loss: 0.5991 - accuracy: 0.7265 - val_loss: 0.5604 - val_accuracy: 0.7406\n",
            "Epoch 94/100\n",
            "2438/2438 [==============================] - 4s 1ms/step - loss: 0.5993 - accuracy: 0.7263 - val_loss: 0.5562 - val_accuracy: 0.7444\n",
            "Epoch 95/100\n",
            "2438/2438 [==============================] - 4s 1ms/step - loss: 0.5978 - accuracy: 0.7253 - val_loss: 0.5572 - val_accuracy: 0.7450\n",
            "Epoch 96/100\n",
            "2438/2438 [==============================] - 4s 1ms/step - loss: 0.5970 - accuracy: 0.7270 - val_loss: 0.5578 - val_accuracy: 0.7446\n",
            "Epoch 97/100\n",
            "2438/2438 [==============================] - 4s 1ms/step - loss: 0.5971 - accuracy: 0.7283 - val_loss: 0.5600 - val_accuracy: 0.7506\n",
            "Epoch 98/100\n",
            "2438/2438 [==============================] - 4s 1ms/step - loss: 0.5996 - accuracy: 0.7272 - val_loss: 0.5627 - val_accuracy: 0.7399\n",
            "Epoch 99/100\n",
            "2438/2438 [==============================] - 4s 2ms/step - loss: 0.5969 - accuracy: 0.7269 - val_loss: 0.5626 - val_accuracy: 0.7396\n",
            "Epoch 100/100\n",
            "2438/2438 [==============================] - 4s 1ms/step - loss: 0.5970 - accuracy: 0.7263 - val_loss: 0.5565 - val_accuracy: 0.7472\n"
          ],
          "name": "stdout"
        }
      ]
    },
    {
      "cell_type": "code",
      "metadata": {
        "id": "V0qnfaxamdnt",
        "colab_type": "code",
        "colab": {}
      },
      "source": [
        "model = Sequential()\n",
        "\n",
        "model.add(Dense(24, input_dim=6, activation='relu'))\n",
        "model.add(Dropout(0.2))\n",
        "model.add(Dense(8, activation='relu'))\n",
        "model.add(Dropout(0.2))\n",
        "model.add(Dense(3, activation='softmax'))\n",
        "\n",
        "model.compile(loss='categorical_crossentropy', optimizer=opt, metrics=['accuracy'])"
      ],
      "execution_count": 0,
      "outputs": []
    },
    {
      "cell_type": "code",
      "metadata": {
        "id": "4e3uSXUdnXKa",
        "colab_type": "code",
        "colab": {
          "base_uri": "https://localhost:8080/",
          "height": 1000
        },
        "outputId": "feeaac89-8494-4ef0-f8ad-04ad5a444514"
      },
      "source": [
        "history = model.fit(X_train, y_train, epochs=50, validation_data=(X_test, y_test)) "
      ],
      "execution_count": 159,
      "outputs": [
        {
          "output_type": "stream",
          "text": [
            "Epoch 1/50\n",
            "2438/2438 [==============================] - 4s 2ms/step - loss: 0.6081 - accuracy: 0.7382 - val_loss: 0.5386 - val_accuracy: 0.7666\n",
            "Epoch 2/50\n",
            "2438/2438 [==============================] - 4s 1ms/step - loss: 0.5652 - accuracy: 0.7602 - val_loss: 0.5384 - val_accuracy: 0.7593\n",
            "Epoch 3/50\n",
            "2438/2438 [==============================] - 4s 1ms/step - loss: 0.5628 - accuracy: 0.7605 - val_loss: 0.5392 - val_accuracy: 0.7599\n",
            "Epoch 4/50\n",
            "2438/2438 [==============================] - 4s 2ms/step - loss: 0.5587 - accuracy: 0.7628 - val_loss: 0.5443 - val_accuracy: 0.7543\n",
            "Epoch 5/50\n",
            "2438/2438 [==============================] - 4s 2ms/step - loss: 0.5572 - accuracy: 0.7618 - val_loss: 0.5312 - val_accuracy: 0.7703\n",
            "Epoch 6/50\n",
            "2438/2438 [==============================] - 4s 2ms/step - loss: 0.5575 - accuracy: 0.7622 - val_loss: 0.5325 - val_accuracy: 0.7705\n",
            "Epoch 7/50\n",
            "2438/2438 [==============================] - 4s 1ms/step - loss: 0.5560 - accuracy: 0.7635 - val_loss: 0.5400 - val_accuracy: 0.7514\n",
            "Epoch 8/50\n",
            "2438/2438 [==============================] - 4s 1ms/step - loss: 0.5551 - accuracy: 0.7641 - val_loss: 0.5369 - val_accuracy: 0.7624\n",
            "Epoch 9/50\n",
            "2438/2438 [==============================] - 4s 2ms/step - loss: 0.5559 - accuracy: 0.7636 - val_loss: 0.5366 - val_accuracy: 0.7675\n",
            "Epoch 10/50\n",
            "2438/2438 [==============================] - 4s 2ms/step - loss: 0.5535 - accuracy: 0.7632 - val_loss: 0.5307 - val_accuracy: 0.7688\n",
            "Epoch 11/50\n",
            "2438/2438 [==============================] - 4s 1ms/step - loss: 0.5536 - accuracy: 0.7634 - val_loss: 0.5374 - val_accuracy: 0.7660\n",
            "Epoch 12/50\n",
            "2438/2438 [==============================] - 4s 2ms/step - loss: 0.5529 - accuracy: 0.7644 - val_loss: 0.5303 - val_accuracy: 0.7680\n",
            "Epoch 13/50\n",
            "2438/2438 [==============================] - 4s 1ms/step - loss: 0.5536 - accuracy: 0.7632 - val_loss: 0.5290 - val_accuracy: 0.7693\n",
            "Epoch 14/50\n",
            "2438/2438 [==============================] - 4s 2ms/step - loss: 0.5539 - accuracy: 0.7628 - val_loss: 0.5335 - val_accuracy: 0.7704\n",
            "Epoch 15/50\n",
            "2438/2438 [==============================] - 4s 1ms/step - loss: 0.5528 - accuracy: 0.7639 - val_loss: 0.5325 - val_accuracy: 0.7698\n",
            "Epoch 16/50\n",
            "2438/2438 [==============================] - 4s 1ms/step - loss: 0.5524 - accuracy: 0.7640 - val_loss: 0.5312 - val_accuracy: 0.7674\n",
            "Epoch 17/50\n",
            "2438/2438 [==============================] - 4s 2ms/step - loss: 0.5536 - accuracy: 0.7631 - val_loss: 0.5337 - val_accuracy: 0.7644\n",
            "Epoch 18/50\n",
            "2438/2438 [==============================] - 4s 2ms/step - loss: 0.5528 - accuracy: 0.7636 - val_loss: 0.5352 - val_accuracy: 0.7627\n",
            "Epoch 19/50\n",
            "2438/2438 [==============================] - 4s 1ms/step - loss: 0.5518 - accuracy: 0.7650 - val_loss: 0.5323 - val_accuracy: 0.7678\n",
            "Epoch 20/50\n",
            "2438/2438 [==============================] - 4s 1ms/step - loss: 0.5519 - accuracy: 0.7644 - val_loss: 0.5315 - val_accuracy: 0.7680\n",
            "Epoch 21/50\n",
            "2438/2438 [==============================] - 4s 1ms/step - loss: 0.5514 - accuracy: 0.7648 - val_loss: 0.5308 - val_accuracy: 0.7706\n",
            "Epoch 22/50\n",
            "2438/2438 [==============================] - 4s 1ms/step - loss: 0.5514 - accuracy: 0.7641 - val_loss: 0.5365 - val_accuracy: 0.7631\n",
            "Epoch 23/50\n",
            "2438/2438 [==============================] - 4s 2ms/step - loss: 0.5524 - accuracy: 0.7640 - val_loss: 0.5311 - val_accuracy: 0.7700\n",
            "Epoch 24/50\n",
            "2438/2438 [==============================] - 4s 2ms/step - loss: 0.5529 - accuracy: 0.7638 - val_loss: 0.5327 - val_accuracy: 0.7692\n",
            "Epoch 25/50\n",
            "2438/2438 [==============================] - 4s 2ms/step - loss: 0.5514 - accuracy: 0.7657 - val_loss: 0.5416 - val_accuracy: 0.7696\n",
            "Epoch 26/50\n",
            "2438/2438 [==============================] - 4s 2ms/step - loss: 0.5522 - accuracy: 0.7638 - val_loss: 0.5370 - val_accuracy: 0.7595\n",
            "Epoch 27/50\n",
            "2438/2438 [==============================] - 4s 2ms/step - loss: 0.5511 - accuracy: 0.7644 - val_loss: 0.5354 - val_accuracy: 0.7652\n",
            "Epoch 28/50\n",
            "2438/2438 [==============================] - 4s 2ms/step - loss: 0.5514 - accuracy: 0.7650 - val_loss: 0.5339 - val_accuracy: 0.7656\n",
            "Epoch 29/50\n",
            "2438/2438 [==============================] - 4s 1ms/step - loss: 0.5505 - accuracy: 0.7653 - val_loss: 0.5318 - val_accuracy: 0.7709\n",
            "Epoch 30/50\n",
            "2438/2438 [==============================] - 4s 1ms/step - loss: 0.5514 - accuracy: 0.7650 - val_loss: 0.5333 - val_accuracy: 0.7612\n",
            "Epoch 31/50\n",
            "2438/2438 [==============================] - 4s 2ms/step - loss: 0.5522 - accuracy: 0.7642 - val_loss: 0.5320 - val_accuracy: 0.7693\n",
            "Epoch 32/50\n",
            "2438/2438 [==============================] - 4s 1ms/step - loss: 0.5501 - accuracy: 0.7655 - val_loss: 0.5335 - val_accuracy: 0.7639\n",
            "Epoch 33/50\n",
            "2438/2438 [==============================] - 4s 1ms/step - loss: 0.5497 - accuracy: 0.7651 - val_loss: 0.5298 - val_accuracy: 0.7686\n",
            "Epoch 34/50\n",
            "2438/2438 [==============================] - 4s 1ms/step - loss: 0.5511 - accuracy: 0.7641 - val_loss: 0.5299 - val_accuracy: 0.7665\n",
            "Epoch 35/50\n",
            "2438/2438 [==============================] - 4s 1ms/step - loss: 0.5496 - accuracy: 0.7652 - val_loss: 0.5466 - val_accuracy: 0.7543\n",
            "Epoch 36/50\n",
            "2438/2438 [==============================] - 4s 2ms/step - loss: 0.5500 - accuracy: 0.7653 - val_loss: 0.5313 - val_accuracy: 0.7667\n",
            "Epoch 37/50\n",
            "2438/2438 [==============================] - 4s 2ms/step - loss: 0.5502 - accuracy: 0.7641 - val_loss: 0.5330 - val_accuracy: 0.7627\n",
            "Epoch 38/50\n",
            "2438/2438 [==============================] - 4s 2ms/step - loss: 0.5499 - accuracy: 0.7644 - val_loss: 0.5269 - val_accuracy: 0.7715\n",
            "Epoch 39/50\n",
            "2438/2438 [==============================] - 4s 1ms/step - loss: 0.5499 - accuracy: 0.7634 - val_loss: 0.5328 - val_accuracy: 0.7662\n",
            "Epoch 40/50\n",
            "2438/2438 [==============================] - 4s 1ms/step - loss: 0.5508 - accuracy: 0.7648 - val_loss: 0.5330 - val_accuracy: 0.7701\n",
            "Epoch 41/50\n",
            "2438/2438 [==============================] - 4s 1ms/step - loss: 0.5505 - accuracy: 0.7648 - val_loss: 0.5306 - val_accuracy: 0.7664\n",
            "Epoch 42/50\n",
            "2438/2438 [==============================] - 4s 1ms/step - loss: 0.5500 - accuracy: 0.7660 - val_loss: 0.5276 - val_accuracy: 0.7700\n",
            "Epoch 43/50\n",
            "2438/2438 [==============================] - 4s 1ms/step - loss: 0.5505 - accuracy: 0.7657 - val_loss: 0.5339 - val_accuracy: 0.7633\n",
            "Epoch 44/50\n",
            "2438/2438 [==============================] - 4s 1ms/step - loss: 0.5511 - accuracy: 0.7639 - val_loss: 0.5313 - val_accuracy: 0.7663\n",
            "Epoch 45/50\n",
            "2438/2438 [==============================] - 4s 2ms/step - loss: 0.5510 - accuracy: 0.7653 - val_loss: 0.5324 - val_accuracy: 0.7678\n",
            "Epoch 46/50\n",
            "2438/2438 [==============================] - 4s 1ms/step - loss: 0.5499 - accuracy: 0.7648 - val_loss: 0.5306 - val_accuracy: 0.7671\n",
            "Epoch 47/50\n",
            "2438/2438 [==============================] - 4s 2ms/step - loss: 0.5502 - accuracy: 0.7646 - val_loss: 0.5302 - val_accuracy: 0.7680\n",
            "Epoch 48/50\n",
            "2438/2438 [==============================] - 4s 2ms/step - loss: 0.5501 - accuracy: 0.7654 - val_loss: 0.5379 - val_accuracy: 0.7567\n",
            "Epoch 49/50\n",
            "2438/2438 [==============================] - 4s 2ms/step - loss: 0.5491 - accuracy: 0.7649 - val_loss: 0.5318 - val_accuracy: 0.7648\n",
            "Epoch 50/50\n",
            "2438/2438 [==============================] - 4s 2ms/step - loss: 0.5502 - accuracy: 0.7655 - val_loss: 0.5337 - val_accuracy: 0.7646\n"
          ],
          "name": "stdout"
        }
      ]
    },
    {
      "cell_type": "code",
      "metadata": {
        "id": "n4gr9riqn-rj",
        "colab_type": "code",
        "colab": {}
      },
      "source": [
        "model = Sequential()\n",
        "\n",
        "model.add(Dense(24, input_dim=6, activation='relu'))\n",
        "model.add(Dropout(0.4))\n",
        "model.add(Dense(12, activation='relu'))\n",
        "model.add(Dropout(0.3))\n",
        "model.add(Dense(6, activation='relu'))\n",
        "model.add(Dropout(0.2))\n",
        "model.add(Dense(3, activation='relu'))\n",
        "\n",
        "model.compile(loss='categorical_hinge', optimizer=opt, metrics=['accuracy'])"
      ],
      "execution_count": 0,
      "outputs": []
    },
    {
      "cell_type": "code",
      "metadata": {
        "id": "0fVcNnFgoNXt",
        "colab_type": "code",
        "colab": {
          "base_uri": "https://localhost:8080/",
          "height": 1000
        },
        "outputId": "f3a05f40-0c57-4b74-c5f5-e0c242d7b5f8"
      },
      "source": [
        "history = model.fit(X_train, y_train, epochs=50, validation_data=(X_test, y_test)) "
      ],
      "execution_count": 165,
      "outputs": [
        {
          "output_type": "stream",
          "text": [
            "Epoch 1/50\n",
            "2438/2438 [==============================] - 4s 2ms/step - loss: 0.5593 - accuracy: 0.7282 - val_loss: 0.4865 - val_accuracy: 0.7648\n",
            "Epoch 2/50\n",
            "2438/2438 [==============================] - 4s 2ms/step - loss: 0.5181 - accuracy: 0.7527 - val_loss: 0.4941 - val_accuracy: 0.7647\n",
            "Epoch 3/50\n",
            "2438/2438 [==============================] - 4s 2ms/step - loss: 0.5169 - accuracy: 0.7526 - val_loss: 0.4726 - val_accuracy: 0.7688\n",
            "Epoch 4/50\n",
            "2438/2438 [==============================] - 4s 2ms/step - loss: 0.5046 - accuracy: 0.7561 - val_loss: 0.4712 - val_accuracy: 0.7679\n",
            "Epoch 5/50\n",
            "2438/2438 [==============================] - 4s 2ms/step - loss: 0.4990 - accuracy: 0.7576 - val_loss: 0.4791 - val_accuracy: 0.7684\n",
            "Epoch 6/50\n",
            "2438/2438 [==============================] - 4s 2ms/step - loss: 0.4969 - accuracy: 0.7574 - val_loss: 0.4887 - val_accuracy: 0.7619\n",
            "Epoch 7/50\n",
            "2438/2438 [==============================] - 4s 2ms/step - loss: 0.4945 - accuracy: 0.7580 - val_loss: 0.4939 - val_accuracy: 0.7663\n",
            "Epoch 8/50\n",
            "2438/2438 [==============================] - 4s 2ms/step - loss: 0.4943 - accuracy: 0.7580 - val_loss: 0.4857 - val_accuracy: 0.7688\n",
            "Epoch 9/50\n",
            "2438/2438 [==============================] - 4s 2ms/step - loss: 0.4916 - accuracy: 0.7600 - val_loss: 0.4882 - val_accuracy: 0.7689\n",
            "Epoch 10/50\n",
            "2438/2438 [==============================] - 4s 2ms/step - loss: 0.4943 - accuracy: 0.7589 - val_loss: 0.4694 - val_accuracy: 0.7690\n",
            "Epoch 11/50\n",
            "2438/2438 [==============================] - 4s 2ms/step - loss: 0.4942 - accuracy: 0.7591 - val_loss: 0.4761 - val_accuracy: 0.7695\n",
            "Epoch 12/50\n",
            "2438/2438 [==============================] - 4s 2ms/step - loss: 0.4925 - accuracy: 0.7599 - val_loss: 0.4790 - val_accuracy: 0.7654\n",
            "Epoch 13/50\n",
            "2438/2438 [==============================] - 4s 2ms/step - loss: 0.4908 - accuracy: 0.7609 - val_loss: 0.4739 - val_accuracy: 0.7686\n",
            "Epoch 14/50\n",
            "2438/2438 [==============================] - 4s 2ms/step - loss: 0.4957 - accuracy: 0.7583 - val_loss: 0.4739 - val_accuracy: 0.7691\n",
            "Epoch 15/50\n",
            "2438/2438 [==============================] - 4s 2ms/step - loss: 0.4918 - accuracy: 0.7596 - val_loss: 0.5087 - val_accuracy: 0.7543\n",
            "Epoch 16/50\n",
            "2438/2438 [==============================] - 4s 2ms/step - loss: 0.4944 - accuracy: 0.7589 - val_loss: 0.4893 - val_accuracy: 0.7686\n",
            "Epoch 17/50\n",
            "2438/2438 [==============================] - 4s 2ms/step - loss: 0.4922 - accuracy: 0.7601 - val_loss: 0.4822 - val_accuracy: 0.7665\n",
            "Epoch 18/50\n",
            "2438/2438 [==============================] - 4s 2ms/step - loss: 0.4915 - accuracy: 0.7602 - val_loss: 0.4795 - val_accuracy: 0.7693\n",
            "Epoch 19/50\n",
            "2438/2438 [==============================] - 4s 2ms/step - loss: 0.4907 - accuracy: 0.7608 - val_loss: 0.4777 - val_accuracy: 0.7698\n",
            "Epoch 20/50\n",
            "2438/2438 [==============================] - 4s 2ms/step - loss: 0.4905 - accuracy: 0.7611 - val_loss: 0.4733 - val_accuracy: 0.7687\n",
            "Epoch 21/50\n",
            "2438/2438 [==============================] - 4s 2ms/step - loss: 0.4912 - accuracy: 0.7599 - val_loss: 0.4876 - val_accuracy: 0.7675\n",
            "Epoch 22/50\n",
            "2438/2438 [==============================] - 4s 2ms/step - loss: 0.4907 - accuracy: 0.7609 - val_loss: 0.4770 - val_accuracy: 0.7701\n",
            "Epoch 23/50\n",
            "2438/2438 [==============================] - 4s 2ms/step - loss: 0.4901 - accuracy: 0.7614 - val_loss: 0.4782 - val_accuracy: 0.7704\n",
            "Epoch 24/50\n",
            "2438/2438 [==============================] - 4s 2ms/step - loss: 0.4892 - accuracy: 0.7612 - val_loss: 0.4687 - val_accuracy: 0.7701\n",
            "Epoch 25/50\n",
            "2438/2438 [==============================] - 4s 2ms/step - loss: 0.4935 - accuracy: 0.7591 - val_loss: 0.4742 - val_accuracy: 0.7694\n",
            "Epoch 26/50\n",
            "2438/2438 [==============================] - 4s 2ms/step - loss: 0.4882 - accuracy: 0.7612 - val_loss: 0.4667 - val_accuracy: 0.7701\n",
            "Epoch 27/50\n",
            "2438/2438 [==============================] - 4s 2ms/step - loss: 0.4893 - accuracy: 0.7608 - val_loss: 0.4713 - val_accuracy: 0.7702\n",
            "Epoch 28/50\n",
            "2438/2438 [==============================] - 4s 2ms/step - loss: 0.4895 - accuracy: 0.7605 - val_loss: 0.4676 - val_accuracy: 0.7702\n",
            "Epoch 29/50\n",
            "2438/2438 [==============================] - 4s 2ms/step - loss: 0.4915 - accuracy: 0.7603 - val_loss: 0.4679 - val_accuracy: 0.7705\n",
            "Epoch 30/50\n",
            "2438/2438 [==============================] - 4s 2ms/step - loss: 0.4891 - accuracy: 0.7616 - val_loss: 0.4683 - val_accuracy: 0.7701\n",
            "Epoch 31/50\n",
            "2438/2438 [==============================] - 4s 2ms/step - loss: 0.4904 - accuracy: 0.7612 - val_loss: 0.4689 - val_accuracy: 0.7705\n",
            "Epoch 32/50\n",
            "2438/2438 [==============================] - 4s 2ms/step - loss: 0.4897 - accuracy: 0.7613 - val_loss: 0.4649 - val_accuracy: 0.7707\n",
            "Epoch 33/50\n",
            "2438/2438 [==============================] - 4s 2ms/step - loss: 0.4892 - accuracy: 0.7608 - val_loss: 0.4649 - val_accuracy: 0.7703\n",
            "Epoch 34/50\n",
            "2438/2438 [==============================] - 4s 2ms/step - loss: 0.4899 - accuracy: 0.7612 - val_loss: 0.4672 - val_accuracy: 0.7707\n",
            "Epoch 35/50\n",
            "2438/2438 [==============================] - 4s 2ms/step - loss: 0.4920 - accuracy: 0.7598 - val_loss: 0.4754 - val_accuracy: 0.7703\n",
            "Epoch 36/50\n",
            "2438/2438 [==============================] - 4s 2ms/step - loss: 0.4901 - accuracy: 0.7606 - val_loss: 0.4782 - val_accuracy: 0.7703\n",
            "Epoch 37/50\n",
            "2438/2438 [==============================] - 4s 2ms/step - loss: 0.4890 - accuracy: 0.7608 - val_loss: 0.4646 - val_accuracy: 0.7706\n",
            "Epoch 38/50\n",
            "2438/2438 [==============================] - 4s 2ms/step - loss: 0.4878 - accuracy: 0.7616 - val_loss: 0.4720 - val_accuracy: 0.7666\n",
            "Epoch 39/50\n",
            "2438/2438 [==============================] - 4s 2ms/step - loss: 0.4890 - accuracy: 0.7613 - val_loss: 0.4677 - val_accuracy: 0.7693\n",
            "Epoch 40/50\n",
            "2438/2438 [==============================] - 4s 2ms/step - loss: 0.4881 - accuracy: 0.7616 - val_loss: 0.4761 - val_accuracy: 0.7687\n",
            "Epoch 41/50\n",
            "2438/2438 [==============================] - 4s 2ms/step - loss: 0.4885 - accuracy: 0.7621 - val_loss: 0.4682 - val_accuracy: 0.7699\n",
            "Epoch 42/50\n",
            "2438/2438 [==============================] - 4s 2ms/step - loss: 0.4891 - accuracy: 0.7610 - val_loss: 0.4717 - val_accuracy: 0.7701\n",
            "Epoch 43/50\n",
            "2438/2438 [==============================] - 4s 2ms/step - loss: 0.4894 - accuracy: 0.7608 - val_loss: 0.4766 - val_accuracy: 0.7675\n",
            "Epoch 44/50\n",
            "2438/2438 [==============================] - 4s 2ms/step - loss: 0.4866 - accuracy: 0.7629 - val_loss: 0.4719 - val_accuracy: 0.7689\n",
            "Epoch 45/50\n",
            "2438/2438 [==============================] - 4s 2ms/step - loss: 0.4875 - accuracy: 0.7616 - val_loss: 0.4697 - val_accuracy: 0.7706\n",
            "Epoch 46/50\n",
            "2438/2438 [==============================] - 4s 2ms/step - loss: 0.4883 - accuracy: 0.7622 - val_loss: 0.4624 - val_accuracy: 0.7699\n",
            "Epoch 47/50\n",
            "2438/2438 [==============================] - 4s 2ms/step - loss: 0.4884 - accuracy: 0.7615 - val_loss: 0.4713 - val_accuracy: 0.7684\n",
            "Epoch 48/50\n",
            "2438/2438 [==============================] - 4s 2ms/step - loss: 0.4888 - accuracy: 0.7614 - val_loss: 0.4623 - val_accuracy: 0.7713\n",
            "Epoch 49/50\n",
            "2438/2438 [==============================] - 4s 2ms/step - loss: 0.4874 - accuracy: 0.7629 - val_loss: 0.4618 - val_accuracy: 0.7712\n",
            "Epoch 50/50\n",
            "2438/2438 [==============================] - 4s 2ms/step - loss: 0.4866 - accuracy: 0.7626 - val_loss: 0.4773 - val_accuracy: 0.7669\n"
          ],
          "name": "stdout"
        }
      ]
    },
    {
      "cell_type": "markdown",
      "metadata": {
        "id": "NJX2T8G_4cSG",
        "colab_type": "text"
      },
      "source": [
        "### Trying to one-hot encode target"
      ]
    },
    {
      "cell_type": "code",
      "metadata": {
        "id": "FyI6Or6v4hnE",
        "colab_type": "code",
        "outputId": "5e34e5ef-ebeb-45e2-b2e7-f5e8b3baa8cd",
        "colab": {
          "base_uri": "https://localhost:8080/",
          "height": 85
        }
      },
      "source": [
        "df['target'].value_counts()"
      ],
      "execution_count": 0,
      "outputs": [
        {
          "output_type": "execute_result",
          "data": {
            "text/plain": [
              "0    68053\n",
              "1    31665\n",
              "2     4274\n",
              "Name: target, dtype: int64"
            ]
          },
          "metadata": {
            "tags": []
          },
          "execution_count": 46
        }
      ]
    },
    {
      "cell_type": "code",
      "metadata": {
        "id": "7AdTGpUM4iPe",
        "colab_type": "code",
        "colab": {}
      },
      "source": [
        "from sklearn.preprocessing import OneHotEncoder\n",
        "\n",
        "encoder = ce.OneHotEncoder()\n",
        "\n",
        "y = encoder.fit_transform(df['target'])"
      ],
      "execution_count": 0,
      "outputs": []
    },
    {
      "cell_type": "code",
      "metadata": {
        "id": "6fleRm6P41Ri",
        "colab_type": "code",
        "colab": {}
      },
      "source": [
        ""
      ],
      "execution_count": 0,
      "outputs": []
    }
  ]
}