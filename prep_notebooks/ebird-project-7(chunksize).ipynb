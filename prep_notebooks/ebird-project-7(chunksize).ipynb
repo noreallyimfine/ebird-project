{
 "cells": [
  {
   "cell_type": "code",
   "execution_count": 2,
   "metadata": {},
   "outputs": [],
   "source": [
    "import pandas as pd"
   ]
  },
  {
   "cell_type": "code",
   "execution_count": 1,
   "metadata": {},
   "outputs": [],
   "source": [
    "# Only use 7 columns (don't use observation count)\n",
    "# filter for us birds\n",
    "# Rename columns\n",
    "# Drop nulls\n",
    "# Clean up badly named birds\n",
    "# convert date column to datetime object\n",
    "# extract month from date\n",
    "# map month column to season\n",
    "# combine county and state\n",
    "\n",
    "## Clean up for regions\n",
    "# rename columns\n",
    "# Strip leading whitespace from State\n",
    "# drop numbers from regionName\n",
    "# drop state from countyname\n",
    "# Map alaska county names\n",
    "# Capitalize city in St. Louis and Richmond works\n",
    "# drop parish and county from CountyName\n",
    "# combine county and state\n",
    "\n",
    "# merge dfs\n",
    "# create pivot table of rarities\n",
    "# county-region mapping dict\n",
    "# state-county mapping dict\n",
    "# list of birds, seasons, and states\n"
   ]
  },
  {
   "cell_type": "code",
   "execution_count": 3,
   "metadata": {},
   "outputs": [
    {
     "name": "stdout",
     "output_type": "stream",
     "text": [
      "(10000, 6)\n"
     ]
    },
    {
     "data": {
      "text/html": [
       "<div>\n",
       "<style scoped>\n",
       "    .dataframe tbody tr th:only-of-type {\n",
       "        vertical-align: middle;\n",
       "    }\n",
       "\n",
       "    .dataframe tbody tr th {\n",
       "        vertical-align: top;\n",
       "    }\n",
       "\n",
       "    .dataframe thead th {\n",
       "        text-align: right;\n",
       "    }\n",
       "</style>\n",
       "<table border=\"1\" class=\"dataframe\">\n",
       "  <thead>\n",
       "    <tr style=\"text-align: right;\">\n",
       "      <th></th>\n",
       "      <th>COMMON NAME</th>\n",
       "      <th>COUNTRY</th>\n",
       "      <th>STATE</th>\n",
       "      <th>COUNTY</th>\n",
       "      <th>LATITUDE</th>\n",
       "      <th>LONGITUDE</th>\n",
       "    </tr>\n",
       "  </thead>\n",
       "  <tbody>\n",
       "    <tr>\n",
       "      <th>0</th>\n",
       "      <td>Magnolia Warbler</td>\n",
       "      <td>United States</td>\n",
       "      <td>Illinois</td>\n",
       "      <td>Cook</td>\n",
       "      <td>41.775629</td>\n",
       "      <td>-87.583273</td>\n",
       "    </tr>\n",
       "    <tr>\n",
       "      <th>1</th>\n",
       "      <td>White-rumped Sandpiper</td>\n",
       "      <td>Canada</td>\n",
       "      <td>Quebec</td>\n",
       "      <td>Manicouagan</td>\n",
       "      <td>49.216670</td>\n",
       "      <td>-68.150000</td>\n",
       "    </tr>\n",
       "    <tr>\n",
       "      <th>2</th>\n",
       "      <td>Common Scoter</td>\n",
       "      <td>Sweden</td>\n",
       "      <td>Hallands län [SE-13]</td>\n",
       "      <td>NaN</td>\n",
       "      <td>57.065084</td>\n",
       "      <td>12.243579</td>\n",
       "    </tr>\n",
       "    <tr>\n",
       "      <th>3</th>\n",
       "      <td>Ring-billed Gull</td>\n",
       "      <td>Canada</td>\n",
       "      <td>Manitoba</td>\n",
       "      <td>South Interlake</td>\n",
       "      <td>50.193256</td>\n",
       "      <td>-97.137935</td>\n",
       "    </tr>\n",
       "    <tr>\n",
       "      <th>4</th>\n",
       "      <td>Red-winged Blackbird</td>\n",
       "      <td>Canada</td>\n",
       "      <td>Manitoba</td>\n",
       "      <td>South Interlake</td>\n",
       "      <td>50.193256</td>\n",
       "      <td>-97.137935</td>\n",
       "    </tr>\n",
       "  </tbody>\n",
       "</table>\n",
       "</div>"
      ],
      "text/plain": [
       "              COMMON NAME        COUNTRY                 STATE  \\\n",
       "0        Magnolia Warbler  United States              Illinois   \n",
       "1  White-rumped Sandpiper         Canada                Quebec   \n",
       "2           Common Scoter         Sweden  Hallands län [SE-13]   \n",
       "3        Ring-billed Gull         Canada              Manitoba   \n",
       "4    Red-winged Blackbird         Canada              Manitoba   \n",
       "\n",
       "            COUNTY   LATITUDE  LONGITUDE  \n",
       "0             Cook  41.775629 -87.583273  \n",
       "1      Manicouagan  49.216670 -68.150000  \n",
       "2              NaN  57.065084  12.243579  \n",
       "3  South Interlake  50.193256 -97.137935  \n",
       "4  South Interlake  50.193256 -97.137935  "
      ]
     },
     "execution_count": 3,
     "metadata": {},
     "output_type": "execute_result"
    }
   ],
   "source": [
    "df = pd.read_csv(\"~/Desktop/repos/Bird-Check/bird_data.csv\", \n",
    "                 sep='\\t', \n",
    "                 nrows=10000, \n",
    "                 usecols=['COMMON NAME', 'COUNTRY', 'STATE', 'COUNTY',\n",
    "                          'LATITUDE', 'LONGITUDE'])\n",
    "\n",
    "print(df.shape)\n",
    "\n",
    "df.head()"
   ]
  },
  {
   "cell_type": "code",
   "execution_count": 6,
   "metadata": {},
   "outputs": [],
   "source": [
    "def us_bird_filter(df):\n",
    "    return df.query(\"country == 'United States'\")\n",
    "\n",
    "def bird_column_renamer(df):\n",
    "    return df.rename(columns={\n",
    "    'COMMON NAME': 'name',\n",
    "    'OBSERVATION COUNT': 'observ_count',\n",
    "    'COUNTRY': 'country',\n",
    "    'STATE': 'state',\n",
    "    'COUNTY': 'county',\n",
    "    'LATITUDE': 'latitude',\n",
    "    'LONGITUDE': 'longitude'})\n",
    "\n",
    "\n",
    "def bad_name_cleaner(df):\n",
    "    pass"
   ]
  },
  {
   "cell_type": "code",
   "execution_count": 5,
   "metadata": {},
   "outputs": [
    {
     "data": {
      "text/plain": [
       "Index(['name', 'country', 'state', 'county', 'latitude', 'longitude'], dtype='object')"
      ]
     },
     "execution_count": 5,
     "metadata": {},
     "output_type": "execute_result"
    }
   ],
   "source": []
  },
  {
   "cell_type": "code",
   "execution_count": 2,
   "metadata": {},
   "outputs": [],
   "source": [
    "def clean_regions(df):\n",
    "    \n",
    "    # Copy df \n",
    "    df = df.copy()\n",
    "    # rename columns\n",
    "    df = region_column_renamer(df)\n",
    "    \n",
    "    # strip leading whitespace from state column\n",
    "    # drop numbers from region\n",
    "    # drop state from county\n",
    "    # clean up state, county, and region columns appropriately\n",
    "    df = clean_cols(df)\n",
    "    \n",
    "   \n",
    "    # fix county names\n",
    "    df = county_fixer(df)\n",
    "    \n",
    "    # combine county state\n",
    "    df = county_state_merger(df)\n",
    "    \n",
    "    return df"
   ]
  },
  {
   "cell_type": "code",
   "execution_count": 3,
   "metadata": {},
   "outputs": [],
   "source": [
    "def clean_chunks(df):\n",
    "    \n",
    "    # rename columns\n",
    "    df = region_column_renamer(df)\n",
    "        \n",
    "    # filter for us birds\n",
    "    df = us_bird_filter(df)\n",
    "\n",
    "    df.dropna(subset=['county'])\n",
    "    \n",
    "    # clean badly named birds\n",
    "    df = bad_name_cleaner(df)\n",
    "    \n",
    "    # get season thru date\n",
    "    # convert date to datetime\n",
    "    # extract month\n",
    "    # map to a season\n",
    "    df = get_season(df)\n",
    "\n",
    "    # combine county + state\n",
    "    df = county_state_merger(df)"
   ]
  },
  {
   "cell_type": "code",
   "execution_count": null,
   "metadata": {},
   "outputs": [],
   "source": []
  }
 ],
 "metadata": {
  "kernelspec": {
   "display_name": "Python 3",
   "language": "python",
   "name": "python3"
  },
  "language_info": {
   "codemirror_mode": {
    "name": "ipython",
    "version": 3
   },
   "file_extension": ".py",
   "mimetype": "text/x-python",
   "name": "python",
   "nbconvert_exporter": "python",
   "pygments_lexer": "ipython3",
   "version": "3.7.6"
  }
 },
 "nbformat": 4,
 "nbformat_minor": 4
}
