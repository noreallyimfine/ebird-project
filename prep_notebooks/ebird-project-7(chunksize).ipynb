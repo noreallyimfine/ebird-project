{
 "cells": [
  {
   "cell_type": "code",
   "execution_count": 1,
   "metadata": {},
   "outputs": [],
   "source": [
    "import pandas as pd"
   ]
  },
  {
   "cell_type": "code",
   "execution_count": 1,
   "metadata": {},
   "outputs": [],
   "source": [
    "# Only use 7 columns (don't use observation count)\n",
    "# filter for us birds\n",
    "# Rename columns\n",
    "# Drop nulls\n",
    "# Clean up badly named birds\n",
    "# convert date column to datetime object\n",
    "# extract month from date\n",
    "# map month column to season\n",
    "# combine county and state\n",
    "\n",
    "## Clean up for regions\n",
    "# rename columns\n",
    "# Strip leading whitespace from State\n",
    "# drop numbers from regionName\n",
    "# drop state from countyname\n",
    "# Map alaska county names\n",
    "# Capitalize city in St. Louis and Richmond works\n",
    "# drop parish and county from CountyName\n",
    "# combine county and state\n",
    "\n",
    "# merge dfs\n",
    "# create pivot table of rarities\n",
    "# county-region mapping dict\n",
    "# state-county mapping dict\n",
    "# list of birds, seasons, and states\n"
   ]
  },
  {
   "cell_type": "code",
   "execution_count": 2,
   "metadata": {},
   "outputs": [],
   "source": [
    "def clean_regions(df):\n",
    "    \n",
    "    # Copy df \n",
    "    df = df.copy()\n",
    "    # rename columns\n",
    "    df = region_column_renamer(df)\n",
    "    \n",
    "    # strip leading whitespace from state column\n",
    "    # drop numbers from region\n",
    "    # drop state from county\n",
    "    # clean up state, county, and region columns appropriately\n",
    "    df = clean_cols(df)\n",
    "    \n",
    "   \n",
    "    # fix county names\n",
    "    df = county_fixer(df)\n",
    "    \n",
    "    # combine county state\n",
    "    df = county_state_merger(df)\n",
    "    \n",
    "    return df"
   ]
  },
  {
   "cell_type": "code",
   "execution_count": 3,
   "metadata": {},
   "outputs": [],
   "source": [
    "def clean_chunks(df):\n",
    "    \n",
    "    # drop nulls\n",
    "    # filter for us birds\n",
    "    df = us_bird_filter(df)\n",
    "    \n",
    "    # rename columns\n",
    "    df = region_column_renamer(df)\n",
    "    \n",
    "    \n",
    "    # clean badly named birds\n",
    "    df = bad_name_cleaner(df)\n",
    "    \n",
    "    # get season thru date\n",
    "    # convert date to datetime\n",
    "    # extract month\n",
    "    # map to a season\n",
    "    df = get_season(df)\n",
    "\n",
    "    # combine county + state\n",
    "    df = county_state_merger(df)"
   ]
  },
  {
   "cell_type": "code",
   "execution_count": null,
   "metadata": {},
   "outputs": [],
   "source": []
  }
 ],
 "metadata": {
  "kernelspec": {
   "display_name": "Python 3",
   "language": "python",
   "name": "python3"
  },
  "language_info": {
   "codemirror_mode": {
    "name": "ipython",
    "version": 3
   },
   "file_extension": ".py",
   "mimetype": "text/x-python",
   "name": "python",
   "nbconvert_exporter": "python",
   "pygments_lexer": "ipython3",
   "version": "3.7.6"
  }
 },
 "nbformat": 4,
 "nbformat_minor": 4
}
