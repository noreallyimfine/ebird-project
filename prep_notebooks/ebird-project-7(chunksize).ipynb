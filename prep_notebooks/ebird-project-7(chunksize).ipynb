{
 "cells": [
  {
   "cell_type": "code",
   "execution_count": 1,
   "metadata": {},
   "outputs": [],
   "source": [
    "import pandas as pd"
   ]
  },
  {
   "cell_type": "code",
   "execution_count": 1,
   "metadata": {},
   "outputs": [],
   "source": [
    "# Only use 7 columns (don't use observation count)\n",
    "# filter for us birds\n",
    "# Rename columns\n",
    "# Drop nulls\n",
    "# Clean up badly named birds\n",
    "# convert date column to datetime object\n",
    "# extract month from date\n",
    "# map month column to season\n",
    "# combine county and state\n",
    "\n",
    "## Clean up for regions\n",
    "# rename columns\n",
    "# Strip leading whitespace from State\n",
    "# drop numbers from regionName\n",
    "# drop state from countyname\n",
    "# Map alaska county names\n",
    "# Capitalize city in St. Louis and Richmond works\n",
    "# drop parish and county from CountyName\n",
    "\n",
    "# merge dfs\n",
    "# create pivot table of rarities\n",
    "# county-region mapping dict\n",
    "# state-county mapping dict\n",
    "# list of birds, seasons, and states\n"
   ]
  },
  {
   "cell_type": "code",
   "execution_count": null,
   "metadata": {},
   "outputs": [],
   "source": []
  },
  {
   "cell_type": "code",
   "execution_count": null,
   "metadata": {},
   "outputs": [],
   "source": [
    "def clean_chunks(df):\n",
    "    \n",
    "    # filter for us birds\n",
    "    \n",
    "    # rename columns\n",
    "    \n",
    "    # drop nulls\n",
    "    \n",
    "    # clean badly named birds\n",
    "    \n",
    "    # get season thru date\n",
    "    \n",
    "    # combine county + state"
   ]
  }
 ],
 "metadata": {
  "kernelspec": {
   "display_name": "Python 3",
   "language": "python",
   "name": "python3"
  },
  "language_info": {
   "codemirror_mode": {
    "name": "ipython",
    "version": 3
   },
   "file_extension": ".py",
   "mimetype": "text/x-python",
   "name": "python",
   "nbconvert_exporter": "python",
   "pygments_lexer": "ipython3",
   "version": "3.7.6"
  }
 },
 "nbformat": 4,
 "nbformat_minor": 4
}
