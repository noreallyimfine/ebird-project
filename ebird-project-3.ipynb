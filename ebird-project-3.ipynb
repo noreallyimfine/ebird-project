{
 "cells": [
  {
   "cell_type": "code",
   "execution_count": 1,
   "metadata": {},
   "outputs": [],
   "source": [
    "import pandas as pd\n",
    "import numpy as np\n",
    "import matplotlib.pyplot as plt"
   ]
  },
  {
   "cell_type": "code",
   "execution_count": 2,
   "metadata": {},
   "outputs": [
    {
     "name": "stdout",
     "output_type": "stream",
     "text": [
      "(106158, 23)\n"
     ]
    },
    {
     "data": {
      "text/html": [
       "<div>\n",
       "<style scoped>\n",
       "    .dataframe tbody tr th:only-of-type {\n",
       "        vertical-align: middle;\n",
       "    }\n",
       "\n",
       "    .dataframe tbody tr th {\n",
       "        vertical-align: top;\n",
       "    }\n",
       "\n",
       "    .dataframe thead th {\n",
       "        text-align: right;\n",
       "    }\n",
       "</style>\n",
       "<table border=\"1\" class=\"dataframe\">\n",
       "  <thead>\n",
       "    <tr style=\"text-align: right;\">\n",
       "      <th></th>\n",
       "      <th>common_name</th>\n",
       "      <th>observ_count</th>\n",
       "      <th>country</th>\n",
       "      <th>state</th>\n",
       "      <th>county</th>\n",
       "      <th>lat</th>\n",
       "      <th>lon</th>\n",
       "      <th>observ_date</th>\n",
       "      <th>observ_year</th>\n",
       "      <th>observ_month</th>\n",
       "      <th>...</th>\n",
       "      <th>CountyName</th>\n",
       "      <th>CountyFIPS</th>\n",
       "      <th>Region</th>\n",
       "      <th>RegionName</th>\n",
       "      <th>DensityCat</th>\n",
       "      <th>DensityCatName</th>\n",
       "      <th>Population2016</th>\n",
       "      <th>Density2016_SqMi</th>\n",
       "      <th>Density2016_PFbF</th>\n",
       "      <th>DensityAggreg</th>\n",
       "    </tr>\n",
       "  </thead>\n",
       "  <tbody>\n",
       "    <tr>\n",
       "      <td>0</td>\n",
       "      <td>Magnolia Warbler</td>\n",
       "      <td>2</td>\n",
       "      <td>United States</td>\n",
       "      <td>Illinois</td>\n",
       "      <td>Cook</td>\n",
       "      <td>41.775629</td>\n",
       "      <td>-87.583273</td>\n",
       "      <td>1995-08-27</td>\n",
       "      <td>1995</td>\n",
       "      <td>8</td>\n",
       "      <td>...</td>\n",
       "      <td>Cook</td>\n",
       "      <td>17031.0</td>\n",
       "      <td>8.0</td>\n",
       "      <td>Great Lakes</td>\n",
       "      <td>1.0</td>\n",
       "      <td>1 Urban</td>\n",
       "      <td>5203499.0</td>\n",
       "      <td>13472.458286</td>\n",
       "      <td>27.835658</td>\n",
       "      <td>100.0</td>\n",
       "    </tr>\n",
       "    <tr>\n",
       "      <td>1</td>\n",
       "      <td>Greater Yellowlegs</td>\n",
       "      <td>1</td>\n",
       "      <td>United States</td>\n",
       "      <td>Texas</td>\n",
       "      <td>Aransas</td>\n",
       "      <td>28.240392</td>\n",
       "      <td>-96.818819</td>\n",
       "      <td>1986-04-06</td>\n",
       "      <td>1986</td>\n",
       "      <td>4</td>\n",
       "      <td>...</td>\n",
       "      <td>Aransas</td>\n",
       "      <td>48007.0</td>\n",
       "      <td>3.0</td>\n",
       "      <td>Gulf Coast</td>\n",
       "      <td>3.0</td>\n",
       "      <td>3 Rural/Semi-Rural</td>\n",
       "      <td>25721.0</td>\n",
       "      <td>775.490975</td>\n",
       "      <td>1.602254</td>\n",
       "      <td>100.0</td>\n",
       "    </tr>\n",
       "    <tr>\n",
       "      <td>2</td>\n",
       "      <td>White-crowned Sparrow</td>\n",
       "      <td>1</td>\n",
       "      <td>United States</td>\n",
       "      <td>Arizona</td>\n",
       "      <td>Cochise</td>\n",
       "      <td>31.898164</td>\n",
       "      <td>-109.115932</td>\n",
       "      <td>1998-11-27</td>\n",
       "      <td>1998</td>\n",
       "      <td>11</td>\n",
       "      <td>...</td>\n",
       "      <td>Cochise</td>\n",
       "      <td>4003.0</td>\n",
       "      <td>12.0</td>\n",
       "      <td>Southwest</td>\n",
       "      <td>3.0</td>\n",
       "      <td>3 Rural/Semi-Rural</td>\n",
       "      <td>125770.0</td>\n",
       "      <td>896.841429</td>\n",
       "      <td>1.852978</td>\n",
       "      <td>100.0</td>\n",
       "    </tr>\n",
       "    <tr>\n",
       "      <td>3</td>\n",
       "      <td>Green-winged Teal</td>\n",
       "      <td>11</td>\n",
       "      <td>United States</td>\n",
       "      <td>Idaho</td>\n",
       "      <td>Ada</td>\n",
       "      <td>43.609793</td>\n",
       "      <td>-116.206427</td>\n",
       "      <td>1982-12-18</td>\n",
       "      <td>1982</td>\n",
       "      <td>12</td>\n",
       "      <td>...</td>\n",
       "      <td>Ada</td>\n",
       "      <td>16001.0</td>\n",
       "      <td>11.0</td>\n",
       "      <td>Mountain West</td>\n",
       "      <td>2.0</td>\n",
       "      <td>2 Medium-Urban</td>\n",
       "      <td>444028.0</td>\n",
       "      <td>2880.874407</td>\n",
       "      <td>5.952220</td>\n",
       "      <td>100.0</td>\n",
       "    </tr>\n",
       "    <tr>\n",
       "      <td>4</td>\n",
       "      <td>Yellow-rumped Warbler</td>\n",
       "      <td>5</td>\n",
       "      <td>United States</td>\n",
       "      <td>Idaho</td>\n",
       "      <td>Ada</td>\n",
       "      <td>43.609793</td>\n",
       "      <td>-116.206427</td>\n",
       "      <td>1982-12-18</td>\n",
       "      <td>1982</td>\n",
       "      <td>12</td>\n",
       "      <td>...</td>\n",
       "      <td>Ada</td>\n",
       "      <td>16001.0</td>\n",
       "      <td>11.0</td>\n",
       "      <td>Mountain West</td>\n",
       "      <td>2.0</td>\n",
       "      <td>2 Medium-Urban</td>\n",
       "      <td>444028.0</td>\n",
       "      <td>2880.874407</td>\n",
       "      <td>5.952220</td>\n",
       "      <td>100.0</td>\n",
       "    </tr>\n",
       "  </tbody>\n",
       "</table>\n",
       "<p>5 rows × 23 columns</p>\n",
       "</div>"
      ],
      "text/plain": [
       "             common_name  observ_count        country     state   county  \\\n",
       "0       Magnolia Warbler             2  United States  Illinois     Cook   \n",
       "1     Greater Yellowlegs             1  United States     Texas  Aransas   \n",
       "2  White-crowned Sparrow             1  United States   Arizona  Cochise   \n",
       "3      Green-winged Teal            11  United States     Idaho      Ada   \n",
       "4  Yellow-rumped Warbler             5  United States     Idaho      Ada   \n",
       "\n",
       "         lat         lon observ_date  observ_year  observ_month  ...  \\\n",
       "0  41.775629  -87.583273  1995-08-27         1995             8  ...   \n",
       "1  28.240392  -96.818819  1986-04-06         1986             4  ...   \n",
       "2  31.898164 -109.115932  1998-11-27         1998            11  ...   \n",
       "3  43.609793 -116.206427  1982-12-18         1982            12  ...   \n",
       "4  43.609793 -116.206427  1982-12-18         1982            12  ...   \n",
       "\n",
       "  CountyName CountyFIPS Region     RegionName  DensityCat      DensityCatName  \\\n",
       "0       Cook    17031.0    8.0    Great Lakes         1.0             1 Urban   \n",
       "1    Aransas    48007.0    3.0     Gulf Coast         3.0  3 Rural/Semi-Rural   \n",
       "2    Cochise     4003.0   12.0      Southwest         3.0  3 Rural/Semi-Rural   \n",
       "3        Ada    16001.0   11.0  Mountain West         2.0      2 Medium-Urban   \n",
       "4        Ada    16001.0   11.0  Mountain West         2.0      2 Medium-Urban   \n",
       "\n",
       "  Population2016  Density2016_SqMi Density2016_PFbF  DensityAggreg  \n",
       "0      5203499.0      13472.458286        27.835658          100.0  \n",
       "1        25721.0        775.490975         1.602254          100.0  \n",
       "2       125770.0        896.841429         1.852978          100.0  \n",
       "3       444028.0       2880.874407         5.952220          100.0  \n",
       "4       444028.0       2880.874407         5.952220          100.0  \n",
       "\n",
       "[5 rows x 23 columns]"
      ]
     },
     "execution_count": 2,
     "metadata": {},
     "output_type": "execute_result"
    }
   ],
   "source": [
    "df = pd.read_csv(\"C:\\\\Users\\\\ajaco\\\\Desktop\\\\repos\\\\noreallyimfine\\\\ebird-project\\\\birds_and_regions.csv\")\n",
    "\n",
    "print(df.shape)\n",
    "\n",
    "df.head()"
   ]
  },
  {
   "cell_type": "code",
   "execution_count": 5,
   "metadata": {},
   "outputs": [
    {
     "data": {
      "text/plain": [
       "Index(['common_name', 'observ_count', 'country', 'state', 'county', 'lat',\n",
       "       'lon', 'observ_date', 'observ_year', 'observ_month', 'season',\n",
       "       'CountyState', 'State', 'CountyName', 'CountyFIPS', 'Region',\n",
       "       'RegionName', 'DensityCat', 'DensityCatName', 'Population2016',\n",
       "       'Density2016_SqMi', 'Density2016_PFbF', 'DensityAggreg'],\n",
       "      dtype='object')"
      ]
     },
     "execution_count": 5,
     "metadata": {},
     "output_type": "execute_result"
    }
   ],
   "source": [
    "df.columns"
   ]
  },
  {
   "cell_type": "code",
   "execution_count": 6,
   "metadata": {},
   "outputs": [
    {
     "data": {
      "text/plain": [
       "Fairfield, Connecticut     2012\n",
       "Essex, Massachusetts       1894\n",
       "Cook, Illinois             1322\n",
       "Los Angeles, California    1310\n",
       "Baltimore, Maryland        1172\n",
       "                           ... \n",
       "Warrick, Indiana              1\n",
       "Yates, New York               1\n",
       "Jefferson, Ohio               1\n",
       "Clinton, Ohio                 1\n",
       "Jefferson, Nebraska           1\n",
       "Name: CountyState, Length: 2245, dtype: int64"
      ]
     },
     "execution_count": 6,
     "metadata": {},
     "output_type": "execute_result"
    }
   ],
   "source": [
    "df.CountyState.value_counts()"
   ]
  },
  {
   "cell_type": "code",
   "execution_count": 8,
   "metadata": {},
   "outputs": [
    {
     "data": {
      "text/plain": [
       "Mid-Atlantic North    10834\n",
       "Northeast             10324\n",
       "Great Lakes            9016\n",
       "Mountain West          8670\n",
       "Appohzarka             8476\n",
       "Deep South             8135\n",
       "Heartland              6814\n",
       "Northwest              6197\n",
       "Southwest              6162\n",
       "Mid-Atlantic South     4538\n",
       "Great Plains           4396\n",
       "West Coast             4183\n",
       "Gulf Coast             3618\n",
       "Southern Florida       2563\n",
       "Name: RegionName, dtype: int64"
      ]
     },
     "execution_count": 8,
     "metadata": {},
     "output_type": "execute_result"
    }
   ],
   "source": [
    "df.RegionName.value_counts()"
   ]
  },
  {
   "cell_type": "code",
   "execution_count": 10,
   "metadata": {},
   "outputs": [],
   "source": [
    "counts = df.common_name.value_counts(normalize=True)"
   ]
  },
  {
   "cell_type": "code",
   "execution_count": 13,
   "metadata": {},
   "outputs": [
    {
     "data": {
      "text/plain": [
       "917"
      ]
     },
     "execution_count": 13,
     "metadata": {},
     "output_type": "execute_result"
    }
   ],
   "source": [
    "len(counts)"
   ]
  },
  {
   "cell_type": "code",
   "execution_count": 16,
   "metadata": {},
   "outputs": [
    {
     "data": {
      "text/plain": [
       "Mourning Dove           0.015967\n",
       "American Robin          0.014836\n",
       "American Crow           0.014629\n",
       "European Starling       0.013621\n",
       "Song Sparrow            0.013555\n",
       "                          ...   \n",
       "Masked Booby            0.000019\n",
       "Rose-ringed Parakeet    0.000019\n",
       "Yellow Rail             0.000019\n",
       "Maui Alauahio           0.000019\n",
       "Common Ringed Plover    0.000019\n",
       "Name: common_name, Length: 799, dtype: float64"
      ]
     },
     "execution_count": 16,
     "metadata": {},
     "output_type": "execute_result"
    }
   ],
   "source": [
    "counts[counts > 0.00001]"
   ]
  },
  {
   "cell_type": "code",
   "execution_count": 21,
   "metadata": {},
   "outputs": [
    {
     "name": "stdout",
     "output_type": "stream",
     "text": [
      "# of birds that appear more than 1% of the time: 13\n",
      "# of birds that appear more than .1% of the time: 250\n",
      "# of birds that appear more than .01% of the time: 560\n",
      "# of birds that appear more than .001% of the time: 799\n",
      "# of birds that appear more than .0001% of the time: 917\n"
     ]
    }
   ],
   "source": [
    "print(\"# of birds that appear more than 1% of the time:\", len(counts[counts > 0.01]))\n",
    "print(\"# of birds that appear more than .1% of the time:\", len(counts[counts > 0.001]))\n",
    "print(\"# of birds that appear more than .01% of the time:\", len(counts[counts > 0.0001]))\n",
    "print(\"# of birds that appear more than .001% of the time:\", len(counts[counts > 0.00001]))\n",
    "print(\"# of birds that appear more than .0001% of the time:\", len(counts[counts > 0.000001]))"
   ]
  },
  {
   "cell_type": "code",
   "execution_count": 23,
   "metadata": {},
   "outputs": [
    {
     "data": {
      "text/plain": [
       "0.01596676651783191"
      ]
     },
     "execution_count": 23,
     "metadata": {},
     "output_type": "execute_result"
    }
   ],
   "source": [
    "counts['Mourning Dove']"
   ]
  },
  {
   "cell_type": "code",
   "execution_count": 24,
   "metadata": {},
   "outputs": [],
   "source": [
    "def rare_bird(x):\n",
    "    bird_percent = counts[x]\n",
    "    if bird_percent > 0.001:\n",
    "        return \"Common\"\n",
    "    elif bird_percent > 0.00001:\n",
    "        return \"Uncommon\"\n",
    "    else:\n",
    "        return \"Rare\""
   ]
  },
  {
   "cell_type": "code",
   "execution_count": 25,
   "metadata": {},
   "outputs": [],
   "source": [
    "df['bird_rarity'] = df['common_name'].apply(rare_bird)"
   ]
  },
  {
   "cell_type": "code",
   "execution_count": 26,
   "metadata": {},
   "outputs": [
    {
     "data": {
      "text/html": [
       "<div>\n",
       "<style scoped>\n",
       "    .dataframe tbody tr th:only-of-type {\n",
       "        vertical-align: middle;\n",
       "    }\n",
       "\n",
       "    .dataframe tbody tr th {\n",
       "        vertical-align: top;\n",
       "    }\n",
       "\n",
       "    .dataframe thead th {\n",
       "        text-align: right;\n",
       "    }\n",
       "</style>\n",
       "<table border=\"1\" class=\"dataframe\">\n",
       "  <thead>\n",
       "    <tr style=\"text-align: right;\">\n",
       "      <th></th>\n",
       "      <th>common_name</th>\n",
       "      <th>observ_count</th>\n",
       "      <th>country</th>\n",
       "      <th>state</th>\n",
       "      <th>county</th>\n",
       "      <th>lat</th>\n",
       "      <th>lon</th>\n",
       "      <th>observ_date</th>\n",
       "      <th>observ_year</th>\n",
       "      <th>observ_month</th>\n",
       "      <th>...</th>\n",
       "      <th>CountyFIPS</th>\n",
       "      <th>Region</th>\n",
       "      <th>RegionName</th>\n",
       "      <th>DensityCat</th>\n",
       "      <th>DensityCatName</th>\n",
       "      <th>Population2016</th>\n",
       "      <th>Density2016_SqMi</th>\n",
       "      <th>Density2016_PFbF</th>\n",
       "      <th>DensityAggreg</th>\n",
       "      <th>bird_rarity</th>\n",
       "    </tr>\n",
       "  </thead>\n",
       "  <tbody>\n",
       "    <tr>\n",
       "      <td>0</td>\n",
       "      <td>Magnolia Warbler</td>\n",
       "      <td>2</td>\n",
       "      <td>United States</td>\n",
       "      <td>Illinois</td>\n",
       "      <td>Cook</td>\n",
       "      <td>41.775629</td>\n",
       "      <td>-87.583273</td>\n",
       "      <td>1995-08-27</td>\n",
       "      <td>1995</td>\n",
       "      <td>8</td>\n",
       "      <td>...</td>\n",
       "      <td>17031.0</td>\n",
       "      <td>8.0</td>\n",
       "      <td>Great Lakes</td>\n",
       "      <td>1.0</td>\n",
       "      <td>1 Urban</td>\n",
       "      <td>5203499.0</td>\n",
       "      <td>13472.458286</td>\n",
       "      <td>27.835658</td>\n",
       "      <td>100.0</td>\n",
       "      <td>Common</td>\n",
       "    </tr>\n",
       "    <tr>\n",
       "      <td>1</td>\n",
       "      <td>Greater Yellowlegs</td>\n",
       "      <td>1</td>\n",
       "      <td>United States</td>\n",
       "      <td>Texas</td>\n",
       "      <td>Aransas</td>\n",
       "      <td>28.240392</td>\n",
       "      <td>-96.818819</td>\n",
       "      <td>1986-04-06</td>\n",
       "      <td>1986</td>\n",
       "      <td>4</td>\n",
       "      <td>...</td>\n",
       "      <td>48007.0</td>\n",
       "      <td>3.0</td>\n",
       "      <td>Gulf Coast</td>\n",
       "      <td>3.0</td>\n",
       "      <td>3 Rural/Semi-Rural</td>\n",
       "      <td>25721.0</td>\n",
       "      <td>775.490975</td>\n",
       "      <td>1.602254</td>\n",
       "      <td>100.0</td>\n",
       "      <td>Common</td>\n",
       "    </tr>\n",
       "    <tr>\n",
       "      <td>2</td>\n",
       "      <td>White-crowned Sparrow</td>\n",
       "      <td>1</td>\n",
       "      <td>United States</td>\n",
       "      <td>Arizona</td>\n",
       "      <td>Cochise</td>\n",
       "      <td>31.898164</td>\n",
       "      <td>-109.115932</td>\n",
       "      <td>1998-11-27</td>\n",
       "      <td>1998</td>\n",
       "      <td>11</td>\n",
       "      <td>...</td>\n",
       "      <td>4003.0</td>\n",
       "      <td>12.0</td>\n",
       "      <td>Southwest</td>\n",
       "      <td>3.0</td>\n",
       "      <td>3 Rural/Semi-Rural</td>\n",
       "      <td>125770.0</td>\n",
       "      <td>896.841429</td>\n",
       "      <td>1.852978</td>\n",
       "      <td>100.0</td>\n",
       "      <td>Common</td>\n",
       "    </tr>\n",
       "    <tr>\n",
       "      <td>3</td>\n",
       "      <td>Green-winged Teal</td>\n",
       "      <td>11</td>\n",
       "      <td>United States</td>\n",
       "      <td>Idaho</td>\n",
       "      <td>Ada</td>\n",
       "      <td>43.609793</td>\n",
       "      <td>-116.206427</td>\n",
       "      <td>1982-12-18</td>\n",
       "      <td>1982</td>\n",
       "      <td>12</td>\n",
       "      <td>...</td>\n",
       "      <td>16001.0</td>\n",
       "      <td>11.0</td>\n",
       "      <td>Mountain West</td>\n",
       "      <td>2.0</td>\n",
       "      <td>2 Medium-Urban</td>\n",
       "      <td>444028.0</td>\n",
       "      <td>2880.874407</td>\n",
       "      <td>5.952220</td>\n",
       "      <td>100.0</td>\n",
       "      <td>Common</td>\n",
       "    </tr>\n",
       "    <tr>\n",
       "      <td>4</td>\n",
       "      <td>Yellow-rumped Warbler</td>\n",
       "      <td>5</td>\n",
       "      <td>United States</td>\n",
       "      <td>Idaho</td>\n",
       "      <td>Ada</td>\n",
       "      <td>43.609793</td>\n",
       "      <td>-116.206427</td>\n",
       "      <td>1982-12-18</td>\n",
       "      <td>1982</td>\n",
       "      <td>12</td>\n",
       "      <td>...</td>\n",
       "      <td>16001.0</td>\n",
       "      <td>11.0</td>\n",
       "      <td>Mountain West</td>\n",
       "      <td>2.0</td>\n",
       "      <td>2 Medium-Urban</td>\n",
       "      <td>444028.0</td>\n",
       "      <td>2880.874407</td>\n",
       "      <td>5.952220</td>\n",
       "      <td>100.0</td>\n",
       "      <td>Common</td>\n",
       "    </tr>\n",
       "  </tbody>\n",
       "</table>\n",
       "<p>5 rows × 24 columns</p>\n",
       "</div>"
      ],
      "text/plain": [
       "             common_name  observ_count        country     state   county  \\\n",
       "0       Magnolia Warbler             2  United States  Illinois     Cook   \n",
       "1     Greater Yellowlegs             1  United States     Texas  Aransas   \n",
       "2  White-crowned Sparrow             1  United States   Arizona  Cochise   \n",
       "3      Green-winged Teal            11  United States     Idaho      Ada   \n",
       "4  Yellow-rumped Warbler             5  United States     Idaho      Ada   \n",
       "\n",
       "         lat         lon observ_date  observ_year  observ_month  ...  \\\n",
       "0  41.775629  -87.583273  1995-08-27         1995             8  ...   \n",
       "1  28.240392  -96.818819  1986-04-06         1986             4  ...   \n",
       "2  31.898164 -109.115932  1998-11-27         1998            11  ...   \n",
       "3  43.609793 -116.206427  1982-12-18         1982            12  ...   \n",
       "4  43.609793 -116.206427  1982-12-18         1982            12  ...   \n",
       "\n",
       "  CountyFIPS Region     RegionName DensityCat      DensityCatName  \\\n",
       "0    17031.0    8.0    Great Lakes        1.0             1 Urban   \n",
       "1    48007.0    3.0     Gulf Coast        3.0  3 Rural/Semi-Rural   \n",
       "2     4003.0   12.0      Southwest        3.0  3 Rural/Semi-Rural   \n",
       "3    16001.0   11.0  Mountain West        2.0      2 Medium-Urban   \n",
       "4    16001.0   11.0  Mountain West        2.0      2 Medium-Urban   \n",
       "\n",
       "   Population2016 Density2016_SqMi  Density2016_PFbF DensityAggreg  \\\n",
       "0       5203499.0     13472.458286         27.835658         100.0   \n",
       "1         25721.0       775.490975          1.602254         100.0   \n",
       "2        125770.0       896.841429          1.852978         100.0   \n",
       "3        444028.0      2880.874407          5.952220         100.0   \n",
       "4        444028.0      2880.874407          5.952220         100.0   \n",
       "\n",
       "   bird_rarity  \n",
       "0       Common  \n",
       "1       Common  \n",
       "2       Common  \n",
       "3       Common  \n",
       "4       Common  \n",
       "\n",
       "[5 rows x 24 columns]"
      ]
     },
     "execution_count": 26,
     "metadata": {},
     "output_type": "execute_result"
    }
   ],
   "source": [
    "df.head()"
   ]
  },
  {
   "cell_type": "code",
   "execution_count": 28,
   "metadata": {},
   "outputs": [
    {
     "data": {
      "text/plain": [
       "Common      0.863129\n",
       "Uncommon    0.135760\n",
       "Rare        0.001112\n",
       "Name: bird_rarity, dtype: float64"
      ]
     },
     "execution_count": 28,
     "metadata": {},
     "output_type": "execute_result"
    }
   ],
   "source": [
    "df.bird_rarity.value_counts(normalize=True)"
   ]
  },
  {
   "cell_type": "code",
   "execution_count": null,
   "metadata": {},
   "outputs": [],
   "source": []
  }
 ],
 "metadata": {
  "kernelspec": {
   "display_name": "Python 3.7.4 64-bit ('base': conda)",
   "language": "python",
   "name": "python37464bitbaseconda0743015c7cf743e3a92ab30d0455d71f"
  },
  "language_info": {
   "codemirror_mode": {
    "name": "ipython",
    "version": 3
   },
   "file_extension": ".py",
   "mimetype": "text/x-python",
   "name": "python",
   "nbconvert_exporter": "python",
   "pygments_lexer": "ipython3",
   "version": "3.7.4"
  }
 },
 "nbformat": 4,
 "nbformat_minor": 4
}
