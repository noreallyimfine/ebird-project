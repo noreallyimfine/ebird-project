{
 "cells": [
  {
   "cell_type": "code",
   "execution_count": 69,
   "metadata": {},
   "outputs": [],
   "source": [
    "import numpy as np\n",
    "import pandas as pd\n",
    "from sklearn.model_selection import train_test_split\n",
    "from sklearn.linear_model import LogisticRegression\n",
    "from sklearn.preprocessing import OrdinalEncoder, MinMaxScaler"
   ]
  },
  {
   "cell_type": "markdown",
   "metadata": {},
   "source": [
    "## Notebook Summary:\n",
    "\n",
    "Initial models not really working. only really deep decision trees getting any results, everything else predicting 0s for everything\n",
    "\n",
    "Did encoding before splitting which I dont really love, not sure what's the proper way to go about this. Also using OrdinalEncoder prolly not right, esp for the name. maybe season can be ordinally encoded."
   ]
  },
  {
   "cell_type": "code",
   "execution_count": 33,
   "metadata": {},
   "outputs": [
    {
     "name": "stdout",
     "output_type": "stream",
     "text": [
      "(103992, 15)\n"
     ]
    },
    {
     "data": {
      "text/html": [
       "<div>\n",
       "<style scoped>\n",
       "    .dataframe tbody tr th:only-of-type {\n",
       "        vertical-align: middle;\n",
       "    }\n",
       "\n",
       "    .dataframe tbody tr th {\n",
       "        vertical-align: top;\n",
       "    }\n",
       "\n",
       "    .dataframe thead th {\n",
       "        text-align: right;\n",
       "    }\n",
       "</style>\n",
       "<table border=\"1\" class=\"dataframe\">\n",
       "  <thead>\n",
       "    <tr style=\"text-align: right;\">\n",
       "      <th></th>\n",
       "      <th>name</th>\n",
       "      <th>observ_count</th>\n",
       "      <th>country</th>\n",
       "      <th>state</th>\n",
       "      <th>county</th>\n",
       "      <th>latitude</th>\n",
       "      <th>longitude</th>\n",
       "      <th>observ_date</th>\n",
       "      <th>month</th>\n",
       "      <th>season</th>\n",
       "      <th>county_state</th>\n",
       "      <th>State</th>\n",
       "      <th>CountyName</th>\n",
       "      <th>RegionName</th>\n",
       "      <th>seas_reg_rare</th>\n",
       "    </tr>\n",
       "  </thead>\n",
       "  <tbody>\n",
       "    <tr>\n",
       "      <td>0</td>\n",
       "      <td>Magnolia Warbler</td>\n",
       "      <td>2</td>\n",
       "      <td>United States</td>\n",
       "      <td>Illinois</td>\n",
       "      <td>Cook</td>\n",
       "      <td>41.775629</td>\n",
       "      <td>-87.583273</td>\n",
       "      <td>1995-08-27</td>\n",
       "      <td>8</td>\n",
       "      <td>Summer</td>\n",
       "      <td>CookIllinois</td>\n",
       "      <td>Illinois</td>\n",
       "      <td>Cook</td>\n",
       "      <td>Great Lakes</td>\n",
       "      <td>Uncommon</td>\n",
       "    </tr>\n",
       "    <tr>\n",
       "      <td>1</td>\n",
       "      <td>Great Blue Heron</td>\n",
       "      <td>2</td>\n",
       "      <td>United States</td>\n",
       "      <td>Illinois</td>\n",
       "      <td>Cook</td>\n",
       "      <td>41.956746</td>\n",
       "      <td>-87.913027</td>\n",
       "      <td>1999-07-24</td>\n",
       "      <td>7</td>\n",
       "      <td>Summer</td>\n",
       "      <td>CookIllinois</td>\n",
       "      <td>Illinois</td>\n",
       "      <td>Cook</td>\n",
       "      <td>Great Lakes</td>\n",
       "      <td>Common</td>\n",
       "    </tr>\n",
       "    <tr>\n",
       "      <td>2</td>\n",
       "      <td>Purple Martin</td>\n",
       "      <td>6</td>\n",
       "      <td>United States</td>\n",
       "      <td>Illinois</td>\n",
       "      <td>Cook</td>\n",
       "      <td>41.707907</td>\n",
       "      <td>-87.886848</td>\n",
       "      <td>1965-06-19</td>\n",
       "      <td>6</td>\n",
       "      <td>Summer</td>\n",
       "      <td>CookIllinois</td>\n",
       "      <td>Illinois</td>\n",
       "      <td>Cook</td>\n",
       "      <td>Great Lakes</td>\n",
       "      <td>Common</td>\n",
       "    </tr>\n",
       "    <tr>\n",
       "      <td>3</td>\n",
       "      <td>Common Yellowthroat</td>\n",
       "      <td>3</td>\n",
       "      <td>United States</td>\n",
       "      <td>Illinois</td>\n",
       "      <td>Cook</td>\n",
       "      <td>41.707907</td>\n",
       "      <td>-87.886848</td>\n",
       "      <td>1965-06-19</td>\n",
       "      <td>6</td>\n",
       "      <td>Summer</td>\n",
       "      <td>CookIllinois</td>\n",
       "      <td>Illinois</td>\n",
       "      <td>Cook</td>\n",
       "      <td>Great Lakes</td>\n",
       "      <td>Common</td>\n",
       "    </tr>\n",
       "    <tr>\n",
       "      <td>4</td>\n",
       "      <td>Eastern Towhee</td>\n",
       "      <td>3</td>\n",
       "      <td>United States</td>\n",
       "      <td>Illinois</td>\n",
       "      <td>Cook</td>\n",
       "      <td>41.707907</td>\n",
       "      <td>-87.886848</td>\n",
       "      <td>1965-06-19</td>\n",
       "      <td>6</td>\n",
       "      <td>Summer</td>\n",
       "      <td>CookIllinois</td>\n",
       "      <td>Illinois</td>\n",
       "      <td>Cook</td>\n",
       "      <td>Great Lakes</td>\n",
       "      <td>Common</td>\n",
       "    </tr>\n",
       "  </tbody>\n",
       "</table>\n",
       "</div>"
      ],
      "text/plain": [
       "                  name  observ_count        country     state county  \\\n",
       "0     Magnolia Warbler             2  United States  Illinois   Cook   \n",
       "1     Great Blue Heron             2  United States  Illinois   Cook   \n",
       "2        Purple Martin             6  United States  Illinois   Cook   \n",
       "3  Common Yellowthroat             3  United States  Illinois   Cook   \n",
       "4       Eastern Towhee             3  United States  Illinois   Cook   \n",
       "\n",
       "    latitude  longitude observ_date  month  season  county_state     State  \\\n",
       "0  41.775629 -87.583273  1995-08-27      8  Summer  CookIllinois  Illinois   \n",
       "1  41.956746 -87.913027  1999-07-24      7  Summer  CookIllinois  Illinois   \n",
       "2  41.707907 -87.886848  1965-06-19      6  Summer  CookIllinois  Illinois   \n",
       "3  41.707907 -87.886848  1965-06-19      6  Summer  CookIllinois  Illinois   \n",
       "4  41.707907 -87.886848  1965-06-19      6  Summer  CookIllinois  Illinois   \n",
       "\n",
       "  CountyName   RegionName seas_reg_rare  \n",
       "0       Cook  Great Lakes      Uncommon  \n",
       "1       Cook  Great Lakes        Common  \n",
       "2       Cook  Great Lakes        Common  \n",
       "3       Cook  Great Lakes        Common  \n",
       "4       Cook  Great Lakes        Common  "
      ]
     },
     "execution_count": 33,
     "metadata": {},
     "output_type": "execute_result"
    }
   ],
   "source": [
    "df = pd.read_csv(\"C:\\\\Users\\\\ajaco\\\\Desktop\\\\repos\\\\noreallyimfine\\\\ebird-project\\\\data\\\\labelled_bird_sample.csv\")\n",
    "\n",
    "print(df.shape)\n",
    "\n",
    "df.head()"
   ]
  },
  {
   "cell_type": "code",
   "execution_count": 35,
   "metadata": {},
   "outputs": [
    {
     "data": {
      "text/plain": [
       "Common      0.654406\n",
       "Uncommon    0.304495\n",
       "Rare        0.041099\n",
       "Name: seas_reg_rare, dtype: float64"
      ]
     },
     "execution_count": 35,
     "metadata": {},
     "output_type": "execute_result"
    }
   ],
   "source": [
    "df.seas_reg_rare.value_counts(normalize=True)"
   ]
  },
  {
   "cell_type": "markdown",
   "metadata": {},
   "source": [
    "**Majority Class Baseline**\n",
    "\n",
    "65% accuracy"
   ]
  },
  {
   "cell_type": "code",
   "execution_count": 68,
   "metadata": {},
   "outputs": [
    {
     "ename": "ModuleNotFoundError",
     "evalue": "No module named 'category_encoders'",
     "output_type": "error",
     "traceback": [
      "\u001b[1;31m---------------------------------------------------------------------------\u001b[0m",
      "\u001b[1;31mModuleNotFoundError\u001b[0m                       Traceback (most recent call last)",
      "\u001b[1;32m<ipython-input-68-6021c897e3cf>\u001b[0m in \u001b[0;36m<module>\u001b[1;34m\u001b[0m\n\u001b[1;32m----> 1\u001b[1;33m \u001b[1;32mimport\u001b[0m \u001b[0mcategory_encoders\u001b[0m \u001b[1;32mas\u001b[0m \u001b[0mce\u001b[0m\u001b[1;33m\u001b[0m\u001b[1;33m\u001b[0m\u001b[0m\n\u001b[0m",
      "\u001b[1;31mModuleNotFoundError\u001b[0m: No module named 'category_encoders'"
     ]
    }
   ],
   "source": [
    "import category_encoders as ce"
   ]
  },
  {
   "cell_type": "code",
   "execution_count": 43,
   "metadata": {},
   "outputs": [
    {
     "data": {
      "text/plain": [
       "(103992, 4)"
      ]
     },
     "execution_count": 43,
     "metadata": {},
     "output_type": "execute_result"
    }
   ],
   "source": [
    "data = df[['name', 'season', 'RegionName', 'seas_reg_rare']]\n",
    "\n",
    "data.shape"
   ]
  },
  {
   "cell_type": "code",
   "execution_count": 44,
   "metadata": {},
   "outputs": [
    {
     "data": {
      "text/plain": [
       "(103992, 4)"
      ]
     },
     "execution_count": 44,
     "metadata": {},
     "output_type": "execute_result"
    }
   ],
   "source": [
    "encoder = OrdinalEncoder()\n",
    "\n",
    "data_encoded = encoder.fit_transform(data)\n",
    "\n",
    "data_encoded.shape"
   ]
  },
  {
   "cell_type": "code",
   "execution_count": 87,
   "metadata": {},
   "outputs": [
    {
     "data": {
      "text/plain": [
       "((83193, 4), (20799, 4))"
      ]
     },
     "execution_count": 87,
     "metadata": {},
     "output_type": "execute_result"
    }
   ],
   "source": [
    "train, test = train_test_split(data_encoded, test_size=0.2)\n",
    "\n",
    "train.shape, test.shape"
   ]
  },
  {
   "cell_type": "code",
   "execution_count": 88,
   "metadata": {},
   "outputs": [
    {
     "data": {
      "text/plain": [
       "((83193, 3), (83193,), (20799, 3), (20799,))"
      ]
     },
     "execution_count": 88,
     "metadata": {},
     "output_type": "execute_result"
    }
   ],
   "source": [
    "X_train = train[:, :-1]\n",
    "y_train = train[:, -1]\n",
    "X_test = test[:, :-1]\n",
    "y_test = test[:, -1]\n",
    "\n",
    "X_train.shape, y_train.shape, X_test.shape, y_test.shape"
   ]
  },
  {
   "cell_type": "code",
   "execution_count": 89,
   "metadata": {},
   "outputs": [],
   "source": [
    "scaler = MinMaxScaler()\n",
    "\n",
    "X_train = scaler.fit_transform(X_train)\n",
    "X_test = scaler.transform(X_test)"
   ]
  },
  {
   "cell_type": "code",
   "execution_count": 90,
   "metadata": {},
   "outputs": [
    {
     "name": "stdout",
     "output_type": "stream",
     "text": [
      "Accuracy of simple model:  0.6583489590845714\n"
     ]
    }
   ],
   "source": [
    "model = LogisticRegression(solver='lbfgs', multi_class='auto', max_iter=500)\n",
    "\n",
    "model.fit(X_train, y_train)\n",
    "\n",
    "preds = model.predict(X_test)\n",
    "\n",
    "print(\"Accuracy of simple model: \", model.score(X_test, y_test))"
   ]
  },
  {
   "cell_type": "code",
   "execution_count": 91,
   "metadata": {},
   "outputs": [
    {
     "data": {
      "text/html": [
       "<div>\n",
       "<style scoped>\n",
       "    .dataframe tbody tr th:only-of-type {\n",
       "        vertical-align: middle;\n",
       "    }\n",
       "\n",
       "    .dataframe tbody tr th {\n",
       "        vertical-align: top;\n",
       "    }\n",
       "\n",
       "    .dataframe thead th {\n",
       "        text-align: right;\n",
       "    }\n",
       "</style>\n",
       "<table border=\"1\" class=\"dataframe\">\n",
       "  <thead>\n",
       "    <tr style=\"text-align: right;\">\n",
       "      <th></th>\n",
       "      <th>name</th>\n",
       "      <th>season</th>\n",
       "      <th>region</th>\n",
       "      <th>true_label</th>\n",
       "      <th>pred_label</th>\n",
       "    </tr>\n",
       "  </thead>\n",
       "  <tbody>\n",
       "    <tr>\n",
       "      <td>0</td>\n",
       "      <td>0.636248</td>\n",
       "      <td>0.000000</td>\n",
       "      <td>1.000000</td>\n",
       "      <td>0.0</td>\n",
       "      <td>0.0</td>\n",
       "    </tr>\n",
       "    <tr>\n",
       "      <td>1</td>\n",
       "      <td>0.006337</td>\n",
       "      <td>0.666667</td>\n",
       "      <td>0.000000</td>\n",
       "      <td>1.0</td>\n",
       "      <td>0.0</td>\n",
       "    </tr>\n",
       "    <tr>\n",
       "      <td>2</td>\n",
       "      <td>0.182510</td>\n",
       "      <td>0.333333</td>\n",
       "      <td>0.153846</td>\n",
       "      <td>0.0</td>\n",
       "      <td>0.0</td>\n",
       "    </tr>\n",
       "    <tr>\n",
       "      <td>3</td>\n",
       "      <td>0.182510</td>\n",
       "      <td>0.333333</td>\n",
       "      <td>0.076923</td>\n",
       "      <td>0.0</td>\n",
       "      <td>0.0</td>\n",
       "    </tr>\n",
       "    <tr>\n",
       "      <td>4</td>\n",
       "      <td>0.456274</td>\n",
       "      <td>0.666667</td>\n",
       "      <td>0.615385</td>\n",
       "      <td>2.0</td>\n",
       "      <td>0.0</td>\n",
       "    </tr>\n",
       "    <tr>\n",
       "      <td>...</td>\n",
       "      <td>...</td>\n",
       "      <td>...</td>\n",
       "      <td>...</td>\n",
       "      <td>...</td>\n",
       "      <td>...</td>\n",
       "    </tr>\n",
       "    <tr>\n",
       "      <td>20794</td>\n",
       "      <td>0.558935</td>\n",
       "      <td>0.333333</td>\n",
       "      <td>0.923077</td>\n",
       "      <td>2.0</td>\n",
       "      <td>0.0</td>\n",
       "    </tr>\n",
       "    <tr>\n",
       "      <td>20795</td>\n",
       "      <td>0.029151</td>\n",
       "      <td>1.000000</td>\n",
       "      <td>0.000000</td>\n",
       "      <td>0.0</td>\n",
       "      <td>0.0</td>\n",
       "    </tr>\n",
       "    <tr>\n",
       "      <td>20796</td>\n",
       "      <td>0.736375</td>\n",
       "      <td>0.000000</td>\n",
       "      <td>0.769231</td>\n",
       "      <td>2.0</td>\n",
       "      <td>0.0</td>\n",
       "    </tr>\n",
       "    <tr>\n",
       "      <td>20797</td>\n",
       "      <td>0.871990</td>\n",
       "      <td>1.000000</td>\n",
       "      <td>0.538462</td>\n",
       "      <td>2.0</td>\n",
       "      <td>0.0</td>\n",
       "    </tr>\n",
       "    <tr>\n",
       "      <td>20798</td>\n",
       "      <td>0.346008</td>\n",
       "      <td>0.000000</td>\n",
       "      <td>0.615385</td>\n",
       "      <td>2.0</td>\n",
       "      <td>0.0</td>\n",
       "    </tr>\n",
       "  </tbody>\n",
       "</table>\n",
       "<p>20799 rows × 5 columns</p>\n",
       "</div>"
      ],
      "text/plain": [
       "           name    season    region  true_label  pred_label\n",
       "0      0.636248  0.000000  1.000000         0.0         0.0\n",
       "1      0.006337  0.666667  0.000000         1.0         0.0\n",
       "2      0.182510  0.333333  0.153846         0.0         0.0\n",
       "3      0.182510  0.333333  0.076923         0.0         0.0\n",
       "4      0.456274  0.666667  0.615385         2.0         0.0\n",
       "...         ...       ...       ...         ...         ...\n",
       "20794  0.558935  0.333333  0.923077         2.0         0.0\n",
       "20795  0.029151  1.000000  0.000000         0.0         0.0\n",
       "20796  0.736375  0.000000  0.769231         2.0         0.0\n",
       "20797  0.871990  1.000000  0.538462         2.0         0.0\n",
       "20798  0.346008  0.000000  0.615385         2.0         0.0\n",
       "\n",
       "[20799 rows x 5 columns]"
      ]
     },
     "execution_count": 91,
     "metadata": {},
     "output_type": "execute_result"
    }
   ],
   "source": [
    "test = pd.DataFrame({\"name\": X_test[:, 0],\n",
    "                     \"season\": X_test[:, 1],\n",
    "                     \"region\": X_test[:, 2],\n",
    "                     \"true_label\": y_test,\n",
    "                     \"pred_label\": preds})\n",
    "\n",
    "test"
   ]
  },
  {
   "cell_type": "code",
   "execution_count": 92,
   "metadata": {},
   "outputs": [
    {
     "data": {
      "text/plain": [
       "0.0    20799\n",
       "Name: pred_label, dtype: int64"
      ]
     },
     "execution_count": 92,
     "metadata": {},
     "output_type": "execute_result"
    }
   ],
   "source": [
    "test.pred_label.value_counts()"
   ]
  },
  {
   "cell_type": "markdown",
   "metadata": {},
   "source": [
    "### Logistic Regression Results\n",
    "\n",
    "- Logistic regression score 65%, fairing very poorly as that doesn't beat the baseline\n",
    "- Even after scaling, the results did not improve"
   ]
  },
  {
   "cell_type": "code",
   "execution_count": 93,
   "metadata": {},
   "outputs": [],
   "source": [
    "from sklearn.tree import DecisionTreeClassifier"
   ]
  },
  {
   "cell_type": "code",
   "execution_count": 94,
   "metadata": {},
   "outputs": [
    {
     "data": {
      "text/plain": [
       "((83193, 4), (20799, 4))"
      ]
     },
     "execution_count": 94,
     "metadata": {},
     "output_type": "execute_result"
    }
   ],
   "source": [
    "train, test = train_test_split(data_encoded, test_size=0.2)\n",
    "\n",
    "train.shape, test.shape"
   ]
  },
  {
   "cell_type": "code",
   "execution_count": 95,
   "metadata": {},
   "outputs": [
    {
     "data": {
      "text/plain": [
       "((83193, 3), (83193,), (20799, 3), (20799,))"
      ]
     },
     "execution_count": 95,
     "metadata": {},
     "output_type": "execute_result"
    }
   ],
   "source": [
    "X_train = train[:, :-1]\n",
    "y_train = train[:, -1]\n",
    "X_test = test[:, :-1]\n",
    "y_test = test[:, -1]\n",
    "\n",
    "X_train.shape, y_train.shape, X_test.shape, y_test.shape"
   ]
  },
  {
   "cell_type": "code",
   "execution_count": 106,
   "metadata": {},
   "outputs": [
    {
     "name": "stdout",
     "output_type": "stream",
     "text": [
      "Tree model (max_depth:5) score: 0.6758978797057551\n",
      "Tree model (max_depth:10) score: 0.7548439828837925\n",
      "Tree model (max_depth:15) score: 0.8567238809558152\n",
      "Tree model (max_depth:20) score: 0.9325448338862445\n",
      "Tree model (max_depth:25) score: 0.9666810904370402\n",
      "Tree model (max_depth:30) score: 0.976921967402279\n",
      "Tree model (max_depth:35) score: 0.9795182460695225\n",
      "Tree model (max_depth:40) score: 0.9792778498966297\n",
      "Tree model (max_depth:45) score: 0.979470166834944\n",
      "Tree model (max_depth:50) score: 0.9789412952545795\n"
     ]
    }
   ],
   "source": [
    "for i in range(5,51,5):\n",
    "    tree = DecisionTreeClassifier(max_depth=i)\n",
    "\n",
    "    tree.fit(X_train, y_train)\n",
    "\n",
    "#     preds = tree.predict(X_test)\n",
    "\n",
    "    print(f\"Tree model (max_depth:{i}) score:\", tree.score(X_test, y_test))"
   ]
  },
  {
   "cell_type": "markdown",
   "metadata": {},
   "source": [
    "### Tree model \n",
    "- Accuracy goes up and up as I increase depth, feels suspiciously overfitt-ey\n",
    "- Maxes out at around max_depth:30"
   ]
  },
  {
   "cell_type": "code",
   "execution_count": 107,
   "metadata": {},
   "outputs": [],
   "source": [
    "from sklearn.ensemble import RandomForestClassifier"
   ]
  },
  {
   "cell_type": "code",
   "execution_count": 111,
   "metadata": {},
   "outputs": [
    {
     "name": "stdout",
     "output_type": "stream",
     "text": [
      "Random Forest Score: 0.659214385306986\n"
     ]
    }
   ],
   "source": [
    "forest = RandomForestClassifier(n_estimators=1000, max_depth=5)\n",
    "\n",
    "forest.fit(X_train, y_train)\n",
    "\n",
    "print(\"Random Forest Score:\", forest.score(X_test, y_test))"
   ]
  },
  {
   "cell_type": "markdown",
   "metadata": {},
   "source": [
    "### Random Forest \n",
    "\n",
    "- Similar terrible score, without any hyper-parameter tuning\n"
   ]
  },
  {
   "cell_type": "markdown",
   "metadata": {},
   "source": [
    "### Below I try adding more features to the model"
   ]
  },
  {
   "cell_type": "code",
   "execution_count": 112,
   "metadata": {},
   "outputs": [
    {
     "data": {
      "text/html": [
       "<div>\n",
       "<style scoped>\n",
       "    .dataframe tbody tr th:only-of-type {\n",
       "        vertical-align: middle;\n",
       "    }\n",
       "\n",
       "    .dataframe tbody tr th {\n",
       "        vertical-align: top;\n",
       "    }\n",
       "\n",
       "    .dataframe thead th {\n",
       "        text-align: right;\n",
       "    }\n",
       "</style>\n",
       "<table border=\"1\" class=\"dataframe\">\n",
       "  <thead>\n",
       "    <tr style=\"text-align: right;\">\n",
       "      <th></th>\n",
       "      <th>name</th>\n",
       "      <th>observ_count</th>\n",
       "      <th>country</th>\n",
       "      <th>state</th>\n",
       "      <th>county</th>\n",
       "      <th>latitude</th>\n",
       "      <th>longitude</th>\n",
       "      <th>observ_date</th>\n",
       "      <th>month</th>\n",
       "      <th>season</th>\n",
       "      <th>county_state</th>\n",
       "      <th>State</th>\n",
       "      <th>CountyName</th>\n",
       "      <th>RegionName</th>\n",
       "      <th>seas_reg_rare</th>\n",
       "    </tr>\n",
       "  </thead>\n",
       "  <tbody>\n",
       "    <tr>\n",
       "      <td>0</td>\n",
       "      <td>Magnolia Warbler</td>\n",
       "      <td>2</td>\n",
       "      <td>United States</td>\n",
       "      <td>Illinois</td>\n",
       "      <td>Cook</td>\n",
       "      <td>41.775629</td>\n",
       "      <td>-87.583273</td>\n",
       "      <td>1995-08-27</td>\n",
       "      <td>8</td>\n",
       "      <td>Summer</td>\n",
       "      <td>CookIllinois</td>\n",
       "      <td>Illinois</td>\n",
       "      <td>Cook</td>\n",
       "      <td>Great Lakes</td>\n",
       "      <td>Uncommon</td>\n",
       "    </tr>\n",
       "    <tr>\n",
       "      <td>1</td>\n",
       "      <td>Great Blue Heron</td>\n",
       "      <td>2</td>\n",
       "      <td>United States</td>\n",
       "      <td>Illinois</td>\n",
       "      <td>Cook</td>\n",
       "      <td>41.956746</td>\n",
       "      <td>-87.913027</td>\n",
       "      <td>1999-07-24</td>\n",
       "      <td>7</td>\n",
       "      <td>Summer</td>\n",
       "      <td>CookIllinois</td>\n",
       "      <td>Illinois</td>\n",
       "      <td>Cook</td>\n",
       "      <td>Great Lakes</td>\n",
       "      <td>Common</td>\n",
       "    </tr>\n",
       "    <tr>\n",
       "      <td>2</td>\n",
       "      <td>Purple Martin</td>\n",
       "      <td>6</td>\n",
       "      <td>United States</td>\n",
       "      <td>Illinois</td>\n",
       "      <td>Cook</td>\n",
       "      <td>41.707907</td>\n",
       "      <td>-87.886848</td>\n",
       "      <td>1965-06-19</td>\n",
       "      <td>6</td>\n",
       "      <td>Summer</td>\n",
       "      <td>CookIllinois</td>\n",
       "      <td>Illinois</td>\n",
       "      <td>Cook</td>\n",
       "      <td>Great Lakes</td>\n",
       "      <td>Common</td>\n",
       "    </tr>\n",
       "    <tr>\n",
       "      <td>3</td>\n",
       "      <td>Common Yellowthroat</td>\n",
       "      <td>3</td>\n",
       "      <td>United States</td>\n",
       "      <td>Illinois</td>\n",
       "      <td>Cook</td>\n",
       "      <td>41.707907</td>\n",
       "      <td>-87.886848</td>\n",
       "      <td>1965-06-19</td>\n",
       "      <td>6</td>\n",
       "      <td>Summer</td>\n",
       "      <td>CookIllinois</td>\n",
       "      <td>Illinois</td>\n",
       "      <td>Cook</td>\n",
       "      <td>Great Lakes</td>\n",
       "      <td>Common</td>\n",
       "    </tr>\n",
       "    <tr>\n",
       "      <td>4</td>\n",
       "      <td>Eastern Towhee</td>\n",
       "      <td>3</td>\n",
       "      <td>United States</td>\n",
       "      <td>Illinois</td>\n",
       "      <td>Cook</td>\n",
       "      <td>41.707907</td>\n",
       "      <td>-87.886848</td>\n",
       "      <td>1965-06-19</td>\n",
       "      <td>6</td>\n",
       "      <td>Summer</td>\n",
       "      <td>CookIllinois</td>\n",
       "      <td>Illinois</td>\n",
       "      <td>Cook</td>\n",
       "      <td>Great Lakes</td>\n",
       "      <td>Common</td>\n",
       "    </tr>\n",
       "    <tr>\n",
       "      <td>...</td>\n",
       "      <td>...</td>\n",
       "      <td>...</td>\n",
       "      <td>...</td>\n",
       "      <td>...</td>\n",
       "      <td>...</td>\n",
       "      <td>...</td>\n",
       "      <td>...</td>\n",
       "      <td>...</td>\n",
       "      <td>...</td>\n",
       "      <td>...</td>\n",
       "      <td>...</td>\n",
       "      <td>...</td>\n",
       "      <td>...</td>\n",
       "      <td>...</td>\n",
       "      <td>...</td>\n",
       "    </tr>\n",
       "    <tr>\n",
       "      <td>103987</td>\n",
       "      <td>Inca Dove</td>\n",
       "      <td>1</td>\n",
       "      <td>United States</td>\n",
       "      <td>Oklahoma</td>\n",
       "      <td>Murray</td>\n",
       "      <td>34.426782</td>\n",
       "      <td>-97.149598</td>\n",
       "      <td>1983-06-03</td>\n",
       "      <td>6</td>\n",
       "      <td>Summer</td>\n",
       "      <td>MurrayOklahoma</td>\n",
       "      <td>Oklahoma</td>\n",
       "      <td>Murray</td>\n",
       "      <td>Appohzarka</td>\n",
       "      <td>Rare</td>\n",
       "    </tr>\n",
       "    <tr>\n",
       "      <td>103988</td>\n",
       "      <td>Eastern Phoebe</td>\n",
       "      <td>1</td>\n",
       "      <td>United States</td>\n",
       "      <td>Oklahoma</td>\n",
       "      <td>Murray</td>\n",
       "      <td>34.426782</td>\n",
       "      <td>-97.149598</td>\n",
       "      <td>1994-05-03</td>\n",
       "      <td>5</td>\n",
       "      <td>Spring</td>\n",
       "      <td>MurrayOklahoma</td>\n",
       "      <td>Oklahoma</td>\n",
       "      <td>Murray</td>\n",
       "      <td>Appohzarka</td>\n",
       "      <td>Common</td>\n",
       "    </tr>\n",
       "    <tr>\n",
       "      <td>103989</td>\n",
       "      <td>Wood Stork</td>\n",
       "      <td>1</td>\n",
       "      <td>United States</td>\n",
       "      <td>Georgia</td>\n",
       "      <td>Long</td>\n",
       "      <td>31.667925</td>\n",
       "      <td>-81.845470</td>\n",
       "      <td>1997-05-02</td>\n",
       "      <td>5</td>\n",
       "      <td>Spring</td>\n",
       "      <td>LongGeorgia</td>\n",
       "      <td>Georgia</td>\n",
       "      <td>Long</td>\n",
       "      <td>Deep South</td>\n",
       "      <td>Uncommon</td>\n",
       "    </tr>\n",
       "    <tr>\n",
       "      <td>103990</td>\n",
       "      <td>Eastern Towhee</td>\n",
       "      <td>1</td>\n",
       "      <td>United States</td>\n",
       "      <td>Tennessee</td>\n",
       "      <td>Giles</td>\n",
       "      <td>35.116398</td>\n",
       "      <td>-87.208443</td>\n",
       "      <td>1987-05-09</td>\n",
       "      <td>5</td>\n",
       "      <td>Spring</td>\n",
       "      <td>GilesTennessee</td>\n",
       "      <td>Tennessee</td>\n",
       "      <td>Giles</td>\n",
       "      <td>Appohzarka</td>\n",
       "      <td>Common</td>\n",
       "    </tr>\n",
       "    <tr>\n",
       "      <td>103991</td>\n",
       "      <td>American Crow</td>\n",
       "      <td>1</td>\n",
       "      <td>United States</td>\n",
       "      <td>Mississippi</td>\n",
       "      <td>Kemper</td>\n",
       "      <td>32.647283</td>\n",
       "      <td>-88.495162</td>\n",
       "      <td>1976-04-02</td>\n",
       "      <td>4</td>\n",
       "      <td>Spring</td>\n",
       "      <td>KemperMississippi</td>\n",
       "      <td>Mississippi</td>\n",
       "      <td>Kemper</td>\n",
       "      <td>Deep South</td>\n",
       "      <td>Common</td>\n",
       "    </tr>\n",
       "  </tbody>\n",
       "</table>\n",
       "<p>103992 rows × 15 columns</p>\n",
       "</div>"
      ],
      "text/plain": [
       "                       name  observ_count        country        state  county  \\\n",
       "0          Magnolia Warbler             2  United States     Illinois    Cook   \n",
       "1          Great Blue Heron             2  United States     Illinois    Cook   \n",
       "2             Purple Martin             6  United States     Illinois    Cook   \n",
       "3       Common Yellowthroat             3  United States     Illinois    Cook   \n",
       "4            Eastern Towhee             3  United States     Illinois    Cook   \n",
       "...                     ...           ...            ...          ...     ...   \n",
       "103987            Inca Dove             1  United States     Oklahoma  Murray   \n",
       "103988       Eastern Phoebe             1  United States     Oklahoma  Murray   \n",
       "103989           Wood Stork             1  United States      Georgia    Long   \n",
       "103990       Eastern Towhee             1  United States    Tennessee   Giles   \n",
       "103991        American Crow             1  United States  Mississippi  Kemper   \n",
       "\n",
       "         latitude  longitude observ_date  month  season       county_state  \\\n",
       "0       41.775629 -87.583273  1995-08-27      8  Summer       CookIllinois   \n",
       "1       41.956746 -87.913027  1999-07-24      7  Summer       CookIllinois   \n",
       "2       41.707907 -87.886848  1965-06-19      6  Summer       CookIllinois   \n",
       "3       41.707907 -87.886848  1965-06-19      6  Summer       CookIllinois   \n",
       "4       41.707907 -87.886848  1965-06-19      6  Summer       CookIllinois   \n",
       "...           ...        ...         ...    ...     ...                ...   \n",
       "103987  34.426782 -97.149598  1983-06-03      6  Summer     MurrayOklahoma   \n",
       "103988  34.426782 -97.149598  1994-05-03      5  Spring     MurrayOklahoma   \n",
       "103989  31.667925 -81.845470  1997-05-02      5  Spring        LongGeorgia   \n",
       "103990  35.116398 -87.208443  1987-05-09      5  Spring     GilesTennessee   \n",
       "103991  32.647283 -88.495162  1976-04-02      4  Spring  KemperMississippi   \n",
       "\n",
       "              State CountyName   RegionName seas_reg_rare  \n",
       "0          Illinois       Cook  Great Lakes      Uncommon  \n",
       "1          Illinois       Cook  Great Lakes        Common  \n",
       "2          Illinois       Cook  Great Lakes        Common  \n",
       "3          Illinois       Cook  Great Lakes        Common  \n",
       "4          Illinois       Cook  Great Lakes        Common  \n",
       "...             ...        ...          ...           ...  \n",
       "103987     Oklahoma     Murray   Appohzarka          Rare  \n",
       "103988     Oklahoma     Murray   Appohzarka        Common  \n",
       "103989      Georgia       Long   Deep South      Uncommon  \n",
       "103990    Tennessee      Giles   Appohzarka        Common  \n",
       "103991  Mississippi     Kemper   Deep South        Common  \n",
       "\n",
       "[103992 rows x 15 columns]"
      ]
     },
     "execution_count": 112,
     "metadata": {},
     "output_type": "execute_result"
    }
   ],
   "source": [
    "df"
   ]
  },
  {
   "cell_type": "code",
   "execution_count": 113,
   "metadata": {},
   "outputs": [
    {
     "data": {
      "text/html": [
       "<div>\n",
       "<style scoped>\n",
       "    .dataframe tbody tr th:only-of-type {\n",
       "        vertical-align: middle;\n",
       "    }\n",
       "\n",
       "    .dataframe tbody tr th {\n",
       "        vertical-align: top;\n",
       "    }\n",
       "\n",
       "    .dataframe thead th {\n",
       "        text-align: right;\n",
       "    }\n",
       "</style>\n",
       "<table border=\"1\" class=\"dataframe\">\n",
       "  <thead>\n",
       "    <tr style=\"text-align: right;\">\n",
       "      <th></th>\n",
       "      <th>name</th>\n",
       "      <th>latitude</th>\n",
       "      <th>longitude</th>\n",
       "      <th>month</th>\n",
       "      <th>season</th>\n",
       "      <th>RegionName</th>\n",
       "    </tr>\n",
       "  </thead>\n",
       "  <tbody>\n",
       "    <tr>\n",
       "      <td>0</td>\n",
       "      <td>Magnolia Warbler</td>\n",
       "      <td>41.775629</td>\n",
       "      <td>-87.583273</td>\n",
       "      <td>8</td>\n",
       "      <td>Summer</td>\n",
       "      <td>Great Lakes</td>\n",
       "    </tr>\n",
       "    <tr>\n",
       "      <td>1</td>\n",
       "      <td>Great Blue Heron</td>\n",
       "      <td>41.956746</td>\n",
       "      <td>-87.913027</td>\n",
       "      <td>7</td>\n",
       "      <td>Summer</td>\n",
       "      <td>Great Lakes</td>\n",
       "    </tr>\n",
       "    <tr>\n",
       "      <td>2</td>\n",
       "      <td>Purple Martin</td>\n",
       "      <td>41.707907</td>\n",
       "      <td>-87.886848</td>\n",
       "      <td>6</td>\n",
       "      <td>Summer</td>\n",
       "      <td>Great Lakes</td>\n",
       "    </tr>\n",
       "    <tr>\n",
       "      <td>3</td>\n",
       "      <td>Common Yellowthroat</td>\n",
       "      <td>41.707907</td>\n",
       "      <td>-87.886848</td>\n",
       "      <td>6</td>\n",
       "      <td>Summer</td>\n",
       "      <td>Great Lakes</td>\n",
       "    </tr>\n",
       "    <tr>\n",
       "      <td>4</td>\n",
       "      <td>Eastern Towhee</td>\n",
       "      <td>41.707907</td>\n",
       "      <td>-87.886848</td>\n",
       "      <td>6</td>\n",
       "      <td>Summer</td>\n",
       "      <td>Great Lakes</td>\n",
       "    </tr>\n",
       "    <tr>\n",
       "      <td>...</td>\n",
       "      <td>...</td>\n",
       "      <td>...</td>\n",
       "      <td>...</td>\n",
       "      <td>...</td>\n",
       "      <td>...</td>\n",
       "      <td>...</td>\n",
       "    </tr>\n",
       "    <tr>\n",
       "      <td>103987</td>\n",
       "      <td>Inca Dove</td>\n",
       "      <td>34.426782</td>\n",
       "      <td>-97.149598</td>\n",
       "      <td>6</td>\n",
       "      <td>Summer</td>\n",
       "      <td>Appohzarka</td>\n",
       "    </tr>\n",
       "    <tr>\n",
       "      <td>103988</td>\n",
       "      <td>Eastern Phoebe</td>\n",
       "      <td>34.426782</td>\n",
       "      <td>-97.149598</td>\n",
       "      <td>5</td>\n",
       "      <td>Spring</td>\n",
       "      <td>Appohzarka</td>\n",
       "    </tr>\n",
       "    <tr>\n",
       "      <td>103989</td>\n",
       "      <td>Wood Stork</td>\n",
       "      <td>31.667925</td>\n",
       "      <td>-81.845470</td>\n",
       "      <td>5</td>\n",
       "      <td>Spring</td>\n",
       "      <td>Deep South</td>\n",
       "    </tr>\n",
       "    <tr>\n",
       "      <td>103990</td>\n",
       "      <td>Eastern Towhee</td>\n",
       "      <td>35.116398</td>\n",
       "      <td>-87.208443</td>\n",
       "      <td>5</td>\n",
       "      <td>Spring</td>\n",
       "      <td>Appohzarka</td>\n",
       "    </tr>\n",
       "    <tr>\n",
       "      <td>103991</td>\n",
       "      <td>American Crow</td>\n",
       "      <td>32.647283</td>\n",
       "      <td>-88.495162</td>\n",
       "      <td>4</td>\n",
       "      <td>Spring</td>\n",
       "      <td>Deep South</td>\n",
       "    </tr>\n",
       "  </tbody>\n",
       "</table>\n",
       "<p>103992 rows × 6 columns</p>\n",
       "</div>"
      ],
      "text/plain": [
       "                       name   latitude  longitude  month  season   RegionName\n",
       "0          Magnolia Warbler  41.775629 -87.583273      8  Summer  Great Lakes\n",
       "1          Great Blue Heron  41.956746 -87.913027      7  Summer  Great Lakes\n",
       "2             Purple Martin  41.707907 -87.886848      6  Summer  Great Lakes\n",
       "3       Common Yellowthroat  41.707907 -87.886848      6  Summer  Great Lakes\n",
       "4            Eastern Towhee  41.707907 -87.886848      6  Summer  Great Lakes\n",
       "...                     ...        ...        ...    ...     ...          ...\n",
       "103987            Inca Dove  34.426782 -97.149598      6  Summer   Appohzarka\n",
       "103988       Eastern Phoebe  34.426782 -97.149598      5  Spring   Appohzarka\n",
       "103989           Wood Stork  31.667925 -81.845470      5  Spring   Deep South\n",
       "103990       Eastern Towhee  35.116398 -87.208443      5  Spring   Appohzarka\n",
       "103991        American Crow  32.647283 -88.495162      4  Spring   Deep South\n",
       "\n",
       "[103992 rows x 6 columns]"
      ]
     },
     "execution_count": 113,
     "metadata": {},
     "output_type": "execute_result"
    }
   ],
   "source": [
    "data = df[['name', 'latitude', 'longitude', 'month', 'season', 'RegionName']]\n",
    "\n",
    "data"
   ]
  },
  {
   "cell_type": "code",
   "execution_count": null,
   "metadata": {},
   "outputs": [],
   "source": []
  }
 ],
 "metadata": {
  "kernelspec": {
   "display_name": "ebird",
   "language": "python",
   "name": "ebird-project"
  },
  "language_info": {
   "codemirror_mode": {
    "name": "ipython",
    "version": 3
   },
   "file_extension": ".py",
   "mimetype": "text/x-python",
   "name": "python",
   "nbconvert_exporter": "python",
   "pygments_lexer": "ipython3",
   "version": "3.8.2"
  }
 },
 "nbformat": 4,
 "nbformat_minor": 4
}
