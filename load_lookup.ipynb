{
 "cells": [
  {
   "cell_type": "code",
   "execution_count": 16,
   "metadata": {},
   "outputs": [],
   "source": [
    "import pandas as pd\n",
    "from ebird import db\n",
    "from ebird.models import Lookup"
   ]
  },
  {
   "cell_type": "code",
   "execution_count": 17,
   "metadata": {},
   "outputs": [
    {
     "data": {
      "text/html": [
       "<div>\n",
       "<style scoped>\n",
       "    .dataframe tbody tr th:only-of-type {\n",
       "        vertical-align: middle;\n",
       "    }\n",
       "\n",
       "    .dataframe tbody tr th {\n",
       "        vertical-align: top;\n",
       "    }\n",
       "\n",
       "    .dataframe thead th {\n",
       "        text-align: right;\n",
       "    }\n",
       "</style>\n",
       "<table border=\"1\" class=\"dataframe\">\n",
       "  <thead>\n",
       "    <tr style=\"text-align: right;\">\n",
       "      <th></th>\n",
       "      <th>region</th>\n",
       "      <th>season</th>\n",
       "      <th>bird</th>\n",
       "      <th>pct_of_total</th>\n",
       "    </tr>\n",
       "  </thead>\n",
       "  <tbody>\n",
       "    <tr>\n",
       "      <th>0</th>\n",
       "      <td>Appohzarka</td>\n",
       "      <td>Fall</td>\n",
       "      <td>Abert's Towhee</td>\n",
       "      <td>0.000000</td>\n",
       "    </tr>\n",
       "    <tr>\n",
       "      <th>1</th>\n",
       "      <td>Appohzarka</td>\n",
       "      <td>Fall</td>\n",
       "      <td>Acadian Flycatcher</td>\n",
       "      <td>0.000557</td>\n",
       "    </tr>\n",
       "    <tr>\n",
       "      <th>2</th>\n",
       "      <td>Appohzarka</td>\n",
       "      <td>Fall</td>\n",
       "      <td>Acorn Woodpecker</td>\n",
       "      <td>0.000000</td>\n",
       "    </tr>\n",
       "    <tr>\n",
       "      <th>3</th>\n",
       "      <td>Appohzarka</td>\n",
       "      <td>Fall</td>\n",
       "      <td>African Silverbill</td>\n",
       "      <td>0.000000</td>\n",
       "    </tr>\n",
       "    <tr>\n",
       "      <th>4</th>\n",
       "      <td>Appohzarka</td>\n",
       "      <td>Fall</td>\n",
       "      <td>Akiapolaau</td>\n",
       "      <td>0.000000</td>\n",
       "    </tr>\n",
       "  </tbody>\n",
       "</table>\n",
       "</div>"
      ],
      "text/plain": [
       "       region season                bird  pct_of_total\n",
       "0  Appohzarka   Fall      Abert's Towhee      0.000000\n",
       "1  Appohzarka   Fall  Acadian Flycatcher      0.000557\n",
       "2  Appohzarka   Fall    Acorn Woodpecker      0.000000\n",
       "3  Appohzarka   Fall  African Silverbill      0.000000\n",
       "4  Appohzarka   Fall          Akiapolaau      0.000000"
      ]
     },
     "execution_count": 17,
     "metadata": {},
     "output_type": "execute_result"
    }
   ],
   "source": [
    "lookup = pd.read_csv(\"C:/Users/jayja/Desktop/lookup.csv\")\n",
    "\n",
    "lookup.head()"
   ]
  },
  {
   "cell_type": "code",
   "execution_count": 18,
   "metadata": {},
   "outputs": [],
   "source": [
    "lookup['big_num'] = lookup['pct_of_total'] * 1000000"
   ]
  },
  {
   "cell_type": "code",
   "execution_count": 19,
   "metadata": {},
   "outputs": [
    {
     "data": {
      "text/html": [
       "<div>\n",
       "<style scoped>\n",
       "    .dataframe tbody tr th:only-of-type {\n",
       "        vertical-align: middle;\n",
       "    }\n",
       "\n",
       "    .dataframe tbody tr th {\n",
       "        vertical-align: top;\n",
       "    }\n",
       "\n",
       "    .dataframe thead th {\n",
       "        text-align: right;\n",
       "    }\n",
       "</style>\n",
       "<table border=\"1\" class=\"dataframe\">\n",
       "  <thead>\n",
       "    <tr style=\"text-align: right;\">\n",
       "      <th></th>\n",
       "      <th>region</th>\n",
       "      <th>season</th>\n",
       "      <th>bird</th>\n",
       "      <th>pct_of_total</th>\n",
       "      <th>big_num</th>\n",
       "    </tr>\n",
       "  </thead>\n",
       "  <tbody>\n",
       "    <tr>\n",
       "      <th>0</th>\n",
       "      <td>Appohzarka</td>\n",
       "      <td>Fall</td>\n",
       "      <td>Abert's Towhee</td>\n",
       "      <td>0.000000</td>\n",
       "      <td>0.000000</td>\n",
       "    </tr>\n",
       "    <tr>\n",
       "      <th>1</th>\n",
       "      <td>Appohzarka</td>\n",
       "      <td>Fall</td>\n",
       "      <td>Acadian Flycatcher</td>\n",
       "      <td>0.000557</td>\n",
       "      <td>557.413601</td>\n",
       "    </tr>\n",
       "    <tr>\n",
       "      <th>2</th>\n",
       "      <td>Appohzarka</td>\n",
       "      <td>Fall</td>\n",
       "      <td>Acorn Woodpecker</td>\n",
       "      <td>0.000000</td>\n",
       "      <td>0.000000</td>\n",
       "    </tr>\n",
       "    <tr>\n",
       "      <th>3</th>\n",
       "      <td>Appohzarka</td>\n",
       "      <td>Fall</td>\n",
       "      <td>African Silverbill</td>\n",
       "      <td>0.000000</td>\n",
       "      <td>0.000000</td>\n",
       "    </tr>\n",
       "    <tr>\n",
       "      <th>4</th>\n",
       "      <td>Appohzarka</td>\n",
       "      <td>Fall</td>\n",
       "      <td>Akiapolaau</td>\n",
       "      <td>0.000000</td>\n",
       "      <td>0.000000</td>\n",
       "    </tr>\n",
       "  </tbody>\n",
       "</table>\n",
       "</div>"
      ],
      "text/plain": [
       "       region season                bird  pct_of_total     big_num\n",
       "0  Appohzarka   Fall      Abert's Towhee      0.000000    0.000000\n",
       "1  Appohzarka   Fall  Acadian Flycatcher      0.000557  557.413601\n",
       "2  Appohzarka   Fall    Acorn Woodpecker      0.000000    0.000000\n",
       "3  Appohzarka   Fall  African Silverbill      0.000000    0.000000\n",
       "4  Appohzarka   Fall          Akiapolaau      0.000000    0.000000"
      ]
     },
     "execution_count": 19,
     "metadata": {},
     "output_type": "execute_result"
    }
   ],
   "source": [
    "lookup.head()"
   ]
  },
  {
   "cell_type": "code",
   "execution_count": 26,
   "metadata": {},
   "outputs": [],
   "source": [
    "for idx, row in lookup.iterrows():\n",
    "    region = row['region']\n",
    "    season = row['season']\n",
    "    bird = row['bird']\n",
    "    pct_of_total = row['pct_of_total']\n",
    "    look_in = Lookup(region=region, season=season, bird=bird, pct_of_total=pct_of_total)\n",
    "    db.session.add(look_in)\n",
    "\n",
    "db.session.commit()"
   ]
  },
  {
   "cell_type": "code",
   "execution_count": 29,
   "metadata": {},
   "outputs": [
    {
     "name": "stdout",
     "output_type": "stream",
     "text": [
      "0.0000\n",
      "0.0006\n",
      "0.0000\n",
      "0.0000\n",
      "0.0000\n",
      "0.0000\n",
      "0.0000\n",
      "0.0000\n",
      "0.0000\n",
      "0.0039\n",
      "0.0011\n",
      "0.0050\n",
      "0.0072\n",
      "0.0156\n",
      "0.0000\n",
      "0.0022\n",
      "0.0134\n",
      "0.0106\n",
      "0.0000\n",
      "0.0006\n",
      "0.0033\n",
      "0.0078\n",
      "0.0000\n",
      "0.0022\n",
      "0.0061\n"
     ]
    }
   ],
   "source": [
    "for row in Lookup.query.all()[:25]:\n",
    "    print(row.pct_of_total)"
   ]
  },
  {
   "cell_type": "code",
   "execution_count": 25,
   "metadata": {},
   "outputs": [
    {
     "data": {
      "text/plain": [
       "Table('lookup', MetaData(bind=None), Column('id', Integer(), table=<lookup>, primary_key=True, nullable=False), Column('region', String(length=20), table=<lookup>, nullable=False), Column('season', String(length=10), table=<lookup>, nullable=False), Column('bird', String(length=40), table=<lookup>, nullable=False), Column('pct_of_total', Numeric(precision=5, scale=4), table=<lookup>, nullable=False), schema=None)"
      ]
     },
     "execution_count": 25,
     "metadata": {},
     "output_type": "execute_result"
    }
   ],
   "source": [
    "Lookup.__table__"
   ]
  },
  {
   "cell_type": "code",
   "execution_count": 20,
   "metadata": {},
   "outputs": [
    {
     "data": {
      "text/plain": [
       "[]"
      ]
     },
     "execution_count": 20,
     "metadata": {},
     "output_type": "execute_result"
    }
   ],
   "source": [
    "Lookup.query.all()"
   ]
  },
  {
   "cell_type": "code",
   "execution_count": 22,
   "metadata": {},
   "outputs": [
    {
     "data": {
      "text/plain": [
       "['__and__',\n",
       " '__bool__',\n",
       " '__class__',\n",
       " '__delattr__',\n",
       " '__dict__',\n",
       " '__dir__',\n",
       " '__doc__',\n",
       " '__eq__',\n",
       " '__format__',\n",
       " '__ge__',\n",
       " '__getattribute__',\n",
       " '__getstate__',\n",
       " '__gt__',\n",
       " '__hash__',\n",
       " '__init__',\n",
       " '__init_subclass__',\n",
       " '__invert__',\n",
       " '__le__',\n",
       " '__lt__',\n",
       " '__module__',\n",
       " '__ne__',\n",
       " '__new__',\n",
       " '__nonzero__',\n",
       " '__or__',\n",
       " '__reduce__',\n",
       " '__reduce_ex__',\n",
       " '__repr__',\n",
       " '__setattr__',\n",
       " '__sizeof__',\n",
       " '__str__',\n",
       " '__subclasshook__',\n",
       " '__visit_name__',\n",
       " '__weakref__',\n",
       " '_annotate',\n",
       " '_annotations',\n",
       " '_autoincrement_column',\n",
       " '_autoload',\n",
       " '_clone',\n",
       " '_cloned_set',\n",
       " '_cols_populated',\n",
       " '_columns',\n",
       " '_compiler',\n",
       " '_compiler_dispatch',\n",
       " '_constructor',\n",
       " '_copy_internals',\n",
       " '_deannotate',\n",
       " '_execute_on_connection',\n",
       " '_extra_dependencies',\n",
       " '_extra_kwargs',\n",
       " '_from_objects',\n",
       " '_hide_froms',\n",
       " '_init',\n",
       " '_init_collections',\n",
       " '_init_existing',\n",
       " '_init_items',\n",
       " '_is_clone_of',\n",
       " '_is_from_container',\n",
       " '_is_join',\n",
       " '_is_lateral',\n",
       " '_is_lexical_equivalent',\n",
       " '_is_select',\n",
       " '_kw_reg_for_dialect',\n",
       " '_kw_reg_for_dialect_cls',\n",
       " '_kw_registry',\n",
       " '_memoized_property',\n",
       " '_negate',\n",
       " '_order_by_label_element',\n",
       " '_params',\n",
       " '_populate_column_collection',\n",
       " '_prefixes',\n",
       " '_refresh_for_new_column',\n",
       " '_reset_exported',\n",
       " '_schema_item_copy',\n",
       " '_select_iterable',\n",
       " '_set_parent',\n",
       " '_set_parent_with_dispatch',\n",
       " '_sorted_constraints',\n",
       " '_textual',\n",
       " '_translate_schema',\n",
       " '_validate_dialect_kwargs',\n",
       " '_with_annotations',\n",
       " 'add_is_dependent_on',\n",
       " 'alias',\n",
       " 'append_column',\n",
       " 'append_constraint',\n",
       " 'append_ddl_listener',\n",
       " 'argument_for',\n",
       " 'bind',\n",
       " 'c',\n",
       " 'columns',\n",
       " 'comment',\n",
       " 'compare',\n",
       " 'compile',\n",
       " 'constraints',\n",
       " 'correspond_on_equivalents',\n",
       " 'corresponding_column',\n",
       " 'count',\n",
       " 'create',\n",
       " 'delete',\n",
       " 'description',\n",
       " 'dialect_kwargs',\n",
       " 'dialect_options',\n",
       " 'dispatch',\n",
       " 'drop',\n",
       " 'exists',\n",
       " 'foreign_key_constraints',\n",
       " 'foreign_keys',\n",
       " 'fullname',\n",
       " 'get_children',\n",
       " 'implicit_returning',\n",
       " 'indexes',\n",
       " 'info',\n",
       " 'insert',\n",
       " 'is_clause_element',\n",
       " 'is_derived_from',\n",
       " 'is_selectable',\n",
       " 'join',\n",
       " 'key',\n",
       " 'kwargs',\n",
       " 'lateral',\n",
       " 'metadata',\n",
       " 'name',\n",
       " 'named_with_column',\n",
       " 'outerjoin',\n",
       " 'params',\n",
       " 'primary_key',\n",
       " 'quote',\n",
       " 'quote_schema',\n",
       " 'replace_selectable',\n",
       " 'schema',\n",
       " 'select',\n",
       " 'selectable',\n",
       " 'self_group',\n",
       " 'supports_execution',\n",
       " 'tablesample',\n",
       " 'tometadata',\n",
       " 'unique_params',\n",
       " 'update']"
      ]
     },
     "execution_count": 22,
     "metadata": {},
     "output_type": "execute_result"
    }
   ],
   "source": [
    "dir(Lookup.__table__)"
   ]
  },
  {
   "cell_type": "code",
   "execution_count": 6,
   "metadata": {},
   "outputs": [
    {
     "data": {
      "text/plain": [
       "\u001b[1;31mSignature:\u001b[0m\n",
       "\u001b[0mLookup\u001b[0m\u001b[1;33m.\u001b[0m\u001b[0m__table__\u001b[0m\u001b[1;33m.\u001b[0m\u001b[0mupdate\u001b[0m\u001b[1;33m(\u001b[0m\u001b[1;33m\n",
       "\u001b[0m    \u001b[0mdml\u001b[0m\u001b[1;33m,\u001b[0m\u001b[1;33m\n",
       "\u001b[0m    \u001b[0mwhereclause\u001b[0m\u001b[1;33m=\u001b[0m\u001b[1;32mNone\u001b[0m\u001b[1;33m,\u001b[0m\u001b[1;33m\n",
       "\u001b[0m    \u001b[0mvalues\u001b[0m\u001b[1;33m=\u001b[0m\u001b[1;32mNone\u001b[0m\u001b[1;33m,\u001b[0m\u001b[1;33m\n",
       "\u001b[0m    \u001b[0minline\u001b[0m\u001b[1;33m=\u001b[0m\u001b[1;32mFalse\u001b[0m\u001b[1;33m,\u001b[0m\u001b[1;33m\n",
       "\u001b[0m    \u001b[1;33m**\u001b[0m\u001b[0mkwargs\u001b[0m\u001b[1;33m,\u001b[0m\u001b[1;33m\n",
       "\u001b[0m\u001b[1;33m)\u001b[0m\u001b[1;33m\u001b[0m\u001b[1;33m\u001b[0m\u001b[0m\n",
       "\u001b[1;31mDocstring:\u001b[0m\n",
       "Generate an :func:`_expression.update` construct against this\n",
       ":class:`_expression.TableClause`.\n",
       "\n",
       "E.g.::\n",
       "\n",
       "    table.update().where(table.c.id==7).values(name='foo')\n",
       "\n",
       "See :func:`_expression.update` for argument and usage information.\n",
       "\u001b[1;31mFile:\u001b[0m      c:\\users\\jayja\\anaconda3\\envs\\flask-kernel\\lib\\site-packages\\sqlalchemy\\sql\\selectable.py\n",
       "\u001b[1;31mType:\u001b[0m      method\n"
      ]
     },
     "metadata": {},
     "output_type": "display_data"
    }
   ],
   "source": [
    "Lookup.__table__.update?"
   ]
  },
  {
   "cell_type": "code",
   "execution_count": 9,
   "metadata": {},
   "outputs": [
    {
     "data": {
      "text/plain": [
       "<sqlalchemy.sql.dml.Delete object at 0x0000028D55ED0F10>"
      ]
     },
     "execution_count": 9,
     "metadata": {},
     "output_type": "execute_result"
    }
   ],
   "source": [
    "Lookup.__table__.delete()"
   ]
  },
  {
   "cell_type": "code",
   "execution_count": 10,
   "metadata": {},
   "outputs": [],
   "source": [
    "db.session.commit()"
   ]
  },
  {
   "cell_type": "code",
   "execution_count": 11,
   "metadata": {},
   "outputs": [
    {
     "data": {
      "text/plain": [
       "[]"
      ]
     },
     "execution_count": 11,
     "metadata": {},
     "output_type": "execute_result"
    }
   ],
   "source": [
    "Lookup.query.all()"
   ]
  },
  {
   "cell_type": "code",
   "execution_count": null,
   "metadata": {},
   "outputs": [],
   "source": []
  }
 ],
 "metadata": {
  "kernelspec": {
   "display_name": "flask_kernel",
   "language": "python",
   "name": "flask_kernel"
  },
  "language_info": {
   "codemirror_mode": {
    "name": "ipython",
    "version": 3
   },
   "file_extension": ".py",
   "mimetype": "text/x-python",
   "name": "python",
   "nbconvert_exporter": "python",
   "pygments_lexer": "ipython3",
   "version": "3.8.5"
  }
 },
 "nbformat": 4,
 "nbformat_minor": 4
}
