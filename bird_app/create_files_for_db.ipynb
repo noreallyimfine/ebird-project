{
 "cells": [
  {
   "cell_type": "code",
   "execution_count": 1,
   "metadata": {},
   "outputs": [],
   "source": [
    "import joblib\n",
    "import pandas as pd"
   ]
  },
  {
   "cell_type": "code",
   "execution_count": 7,
   "metadata": {},
   "outputs": [],
   "source": [
    "birds = joblib.load(\"C:/Users/jayja/Desktop/repos/noreallyimfine/ebird-project/bird_app/utils/birds_list.joblib\")"
   ]
  },
  {
   "cell_type": "code",
   "execution_count": 9,
   "metadata": {},
   "outputs": [],
   "source": [
    "birds.sort()"
   ]
  },
  {
   "cell_type": "code",
   "execution_count": 37,
   "metadata": {},
   "outputs": [],
   "source": [
    "states = joblib.load(\"utils/county_state.joblib\")\n",
    "counties_states = [state.split(',') for state in states]\n",
    "counties_states = sorted(counties_states, key=lambda x: (x[1], x[0]))\n"
   ]
  },
  {
   "cell_type": "code",
   "execution_count": 39,
   "metadata": {},
   "outputs": [
    {
     "ename": "SyntaxError",
     "evalue": "invalid syntax (<ipython-input-39-d48d9ba15bd2>, line 1)",
     "output_type": "error",
     "traceback": [
      "\u001b[1;36m  File \u001b[1;32m\"<ipython-input-39-d48d9ba15bd2>\"\u001b[1;36m, line \u001b[1;32m1\u001b[0m\n\u001b[1;33m    pd.DataFrame('county': [cs[0] for cs in counties_states],\u001b[0m\n\u001b[1;37m                         ^\u001b[0m\n\u001b[1;31mSyntaxError\u001b[0m\u001b[1;31m:\u001b[0m invalid syntax\n"
     ]
    }
   ],
   "source": [
    "cs_dict = {\n",
    "    'county': [cs[0] for cs in counties_states],\n",
    "             'state': [cs[1] for cs in counties_states]\n",
    "}\n",
    "\n",
    "pd.DataFrame()"
   ]
  },
  {
   "cell_type": "code",
   "execution_count": null,
   "metadata": {},
   "outputs": [],
   "source": [
    "counties_states = [state.split(',') for state in states]\n",
    "counties"
   ]
  },
  {
   "cell_type": "code",
   "execution_count": 15,
   "metadata": {},
   "outputs": [],
   "source": [
    "df = pd.read_csv(\"../data/labelled_bird_sample.csv\")"
   ]
  },
  {
   "cell_type": "code",
   "execution_count": 16,
   "metadata": {},
   "outputs": [
    {
     "data": {
      "text/html": [
       "<div>\n",
       "<style scoped>\n",
       "    .dataframe tbody tr th:only-of-type {\n",
       "        vertical-align: middle;\n",
       "    }\n",
       "\n",
       "    .dataframe tbody tr th {\n",
       "        vertical-align: top;\n",
       "    }\n",
       "\n",
       "    .dataframe thead th {\n",
       "        text-align: right;\n",
       "    }\n",
       "</style>\n",
       "<table border=\"1\" class=\"dataframe\">\n",
       "  <thead>\n",
       "    <tr style=\"text-align: right;\">\n",
       "      <th></th>\n",
       "      <th>name</th>\n",
       "      <th>observ_count</th>\n",
       "      <th>country</th>\n",
       "      <th>state</th>\n",
       "      <th>county</th>\n",
       "      <th>latitude</th>\n",
       "      <th>longitude</th>\n",
       "      <th>observ_date</th>\n",
       "      <th>month</th>\n",
       "      <th>season</th>\n",
       "      <th>county_state</th>\n",
       "      <th>State</th>\n",
       "      <th>CountyName</th>\n",
       "      <th>region</th>\n",
       "      <th>seas_reg_rare</th>\n",
       "      <th>target</th>\n",
       "    </tr>\n",
       "  </thead>\n",
       "  <tbody>\n",
       "    <tr>\n",
       "      <th>0</th>\n",
       "      <td>Magnolia Warbler</td>\n",
       "      <td>2</td>\n",
       "      <td>United States</td>\n",
       "      <td>Illinois</td>\n",
       "      <td>Cook</td>\n",
       "      <td>41.775629</td>\n",
       "      <td>-87.583273</td>\n",
       "      <td>1995-08-27</td>\n",
       "      <td>8</td>\n",
       "      <td>Summer</td>\n",
       "      <td>Cook,Illinois</td>\n",
       "      <td>Illinois</td>\n",
       "      <td>Cook</td>\n",
       "      <td>Great Lakes</td>\n",
       "      <td>Uncommon</td>\n",
       "      <td>1</td>\n",
       "    </tr>\n",
       "    <tr>\n",
       "      <th>1</th>\n",
       "      <td>Great Blue Heron</td>\n",
       "      <td>2</td>\n",
       "      <td>United States</td>\n",
       "      <td>Illinois</td>\n",
       "      <td>Cook</td>\n",
       "      <td>41.956746</td>\n",
       "      <td>-87.913027</td>\n",
       "      <td>1999-07-24</td>\n",
       "      <td>7</td>\n",
       "      <td>Summer</td>\n",
       "      <td>Cook,Illinois</td>\n",
       "      <td>Illinois</td>\n",
       "      <td>Cook</td>\n",
       "      <td>Great Lakes</td>\n",
       "      <td>Common</td>\n",
       "      <td>0</td>\n",
       "    </tr>\n",
       "    <tr>\n",
       "      <th>2</th>\n",
       "      <td>Purple Martin</td>\n",
       "      <td>6</td>\n",
       "      <td>United States</td>\n",
       "      <td>Illinois</td>\n",
       "      <td>Cook</td>\n",
       "      <td>41.707907</td>\n",
       "      <td>-87.886848</td>\n",
       "      <td>1965-06-19</td>\n",
       "      <td>6</td>\n",
       "      <td>Summer</td>\n",
       "      <td>Cook,Illinois</td>\n",
       "      <td>Illinois</td>\n",
       "      <td>Cook</td>\n",
       "      <td>Great Lakes</td>\n",
       "      <td>Common</td>\n",
       "      <td>0</td>\n",
       "    </tr>\n",
       "    <tr>\n",
       "      <th>3</th>\n",
       "      <td>Common Yellowthroat</td>\n",
       "      <td>3</td>\n",
       "      <td>United States</td>\n",
       "      <td>Illinois</td>\n",
       "      <td>Cook</td>\n",
       "      <td>41.707907</td>\n",
       "      <td>-87.886848</td>\n",
       "      <td>1965-06-19</td>\n",
       "      <td>6</td>\n",
       "      <td>Summer</td>\n",
       "      <td>Cook,Illinois</td>\n",
       "      <td>Illinois</td>\n",
       "      <td>Cook</td>\n",
       "      <td>Great Lakes</td>\n",
       "      <td>Common</td>\n",
       "      <td>0</td>\n",
       "    </tr>\n",
       "    <tr>\n",
       "      <th>4</th>\n",
       "      <td>Eastern Towhee</td>\n",
       "      <td>3</td>\n",
       "      <td>United States</td>\n",
       "      <td>Illinois</td>\n",
       "      <td>Cook</td>\n",
       "      <td>41.707907</td>\n",
       "      <td>-87.886848</td>\n",
       "      <td>1965-06-19</td>\n",
       "      <td>6</td>\n",
       "      <td>Summer</td>\n",
       "      <td>Cook,Illinois</td>\n",
       "      <td>Illinois</td>\n",
       "      <td>Cook</td>\n",
       "      <td>Great Lakes</td>\n",
       "      <td>Common</td>\n",
       "      <td>0</td>\n",
       "    </tr>\n",
       "  </tbody>\n",
       "</table>\n",
       "</div>"
      ],
      "text/plain": [
       "                  name  observ_count        country     state county  \\\n",
       "0     Magnolia Warbler             2  United States  Illinois   Cook   \n",
       "1     Great Blue Heron             2  United States  Illinois   Cook   \n",
       "2        Purple Martin             6  United States  Illinois   Cook   \n",
       "3  Common Yellowthroat             3  United States  Illinois   Cook   \n",
       "4       Eastern Towhee             3  United States  Illinois   Cook   \n",
       "\n",
       "    latitude  longitude observ_date  month  season   county_state     State  \\\n",
       "0  41.775629 -87.583273  1995-08-27      8  Summer  Cook,Illinois  Illinois   \n",
       "1  41.956746 -87.913027  1999-07-24      7  Summer  Cook,Illinois  Illinois   \n",
       "2  41.707907 -87.886848  1965-06-19      6  Summer  Cook,Illinois  Illinois   \n",
       "3  41.707907 -87.886848  1965-06-19      6  Summer  Cook,Illinois  Illinois   \n",
       "4  41.707907 -87.886848  1965-06-19      6  Summer  Cook,Illinois  Illinois   \n",
       "\n",
       "  CountyName       region seas_reg_rare  target  \n",
       "0       Cook  Great Lakes      Uncommon       1  \n",
       "1       Cook  Great Lakes        Common       0  \n",
       "2       Cook  Great Lakes        Common       0  \n",
       "3       Cook  Great Lakes        Common       0  \n",
       "4       Cook  Great Lakes        Common       0  "
      ]
     },
     "execution_count": 16,
     "metadata": {},
     "output_type": "execute_result"
    }
   ],
   "source": [
    "df.head()"
   ]
  },
  {
   "cell_type": "code",
   "execution_count": 22,
   "metadata": {},
   "outputs": [
    {
     "ename": "AttributeError",
     "evalue": "'DataFrame' object has no attribute 'unique'",
     "output_type": "error",
     "traceback": [
      "\u001b[1;31m-----------------------------------------------------------------\u001b[0m",
      "\u001b[1;31mAttributeError\u001b[0m                  Traceback (most recent call last)",
      "\u001b[1;32m<ipython-input-22-97d47d069ba7>\u001b[0m in \u001b[0;36m<module>\u001b[1;34m\u001b[0m\n\u001b[1;32m----> 1\u001b[1;33m \u001b[0mcounties\u001b[0m \u001b[1;33m=\u001b[0m \u001b[0mdf\u001b[0m\u001b[1;33m[\u001b[0m\u001b[1;33m[\u001b[0m\u001b[1;34m'county'\u001b[0m\u001b[1;33m,\u001b[0m \u001b[1;34m'state'\u001b[0m\u001b[1;33m]\u001b[0m\u001b[1;33m]\u001b[0m\u001b[1;33m.\u001b[0m\u001b[0munique\u001b[0m\u001b[1;33m(\u001b[0m\u001b[1;33m)\u001b[0m\u001b[1;33m\u001b[0m\u001b[1;33m\u001b[0m\u001b[0m\n\u001b[0m\u001b[0;32m      2\u001b[0m \u001b[0mcounties\u001b[0m\u001b[1;33m\u001b[0m\u001b[1;33m\u001b[0m\u001b[0m\n",
      "\u001b[1;32m~\\anaconda3\\envs\\books-kernel\\lib\\site-packages\\pandas\\core\\generic.py\u001b[0m in \u001b[0;36m__getattr__\u001b[1;34m(self, name)\u001b[0m\n\u001b[0;32m   5272\u001b[0m             \u001b[1;32mif\u001b[0m \u001b[0mself\u001b[0m\u001b[1;33m.\u001b[0m\u001b[0m_info_axis\u001b[0m\u001b[1;33m.\u001b[0m\u001b[0m_can_hold_identifiers_and_holds_name\u001b[0m\u001b[1;33m(\u001b[0m\u001b[0mname\u001b[0m\u001b[1;33m)\u001b[0m\u001b[1;33m:\u001b[0m\u001b[1;33m\u001b[0m\u001b[1;33m\u001b[0m\u001b[0m\n\u001b[0;32m   5273\u001b[0m                 \u001b[1;32mreturn\u001b[0m \u001b[0mself\u001b[0m\u001b[1;33m[\u001b[0m\u001b[0mname\u001b[0m\u001b[1;33m]\u001b[0m\u001b[1;33m\u001b[0m\u001b[1;33m\u001b[0m\u001b[0m\n\u001b[1;32m-> 5274\u001b[1;33m             \u001b[1;32mreturn\u001b[0m \u001b[0mobject\u001b[0m\u001b[1;33m.\u001b[0m\u001b[0m__getattribute__\u001b[0m\u001b[1;33m(\u001b[0m\u001b[0mself\u001b[0m\u001b[1;33m,\u001b[0m \u001b[0mname\u001b[0m\u001b[1;33m)\u001b[0m\u001b[1;33m\u001b[0m\u001b[1;33m\u001b[0m\u001b[0m\n\u001b[0m\u001b[0;32m   5275\u001b[0m \u001b[1;33m\u001b[0m\u001b[0m\n\u001b[0;32m   5276\u001b[0m     \u001b[1;32mdef\u001b[0m \u001b[0m__setattr__\u001b[0m\u001b[1;33m(\u001b[0m\u001b[0mself\u001b[0m\u001b[1;33m,\u001b[0m \u001b[0mname\u001b[0m\u001b[1;33m:\u001b[0m \u001b[0mstr\u001b[0m\u001b[1;33m,\u001b[0m \u001b[0mvalue\u001b[0m\u001b[1;33m)\u001b[0m \u001b[1;33m->\u001b[0m \u001b[1;32mNone\u001b[0m\u001b[1;33m:\u001b[0m\u001b[1;33m\u001b[0m\u001b[1;33m\u001b[0m\u001b[0m\n",
      "\u001b[1;31mAttributeError\u001b[0m: 'DataFrame' object has no attribute 'unique'"
     ]
    }
   ],
   "source": [
    "counties = df[['county', 'state']].unique()\n",
    "counties"
   ]
  },
  {
   "cell_type": "code",
   "execution_count": 19,
   "metadata": {},
   "outputs": [
    {
     "data": {
      "text/plain": [
       "0                  Alabama\n",
       "1                   Alaska\n",
       "2                  Arizona\n",
       "3                 Arkansas\n",
       "4               California\n",
       "5                 Colorado\n",
       "6              Connecticut\n",
       "7                 Delaware\n",
       "8     District of Columbia\n",
       "9                  Florida\n",
       "10                 Georgia\n",
       "11                  Hawaii\n",
       "12                   Idaho\n",
       "13                Illinois\n",
       "14                 Indiana\n",
       "15                    Iowa\n",
       "16                  Kansas\n",
       "17                Kentucky\n",
       "18               Louisiana\n",
       "19                   Maine\n",
       "20                Maryland\n",
       "21           Massachusetts\n",
       "22                Michigan\n",
       "23               Minnesota\n",
       "24             Mississippi\n",
       "25                Missouri\n",
       "26                 Montana\n",
       "27                Nebraska\n",
       "28                  Nevada\n",
       "29           New Hampshire\n",
       "30              New Jersey\n",
       "31              New Mexico\n",
       "32                New York\n",
       "33          North Carolina\n",
       "34            North Dakota\n",
       "35                    Ohio\n",
       "36                Oklahoma\n",
       "37                  Oregon\n",
       "38            Pennsylvania\n",
       "39            Rhode Island\n",
       "40          South Carolina\n",
       "41            South Dakota\n",
       "42               Tennessee\n",
       "43                   Texas\n",
       "44                    Utah\n",
       "45                 Vermont\n",
       "46                Virginia\n",
       "47              Washington\n",
       "48           West Virginia\n",
       "49               Wisconsin\n",
       "50                 Wyoming\n",
       "dtype: object"
      ]
     },
     "execution_count": 19,
     "metadata": {},
     "output_type": "execute_result"
    }
   ],
   "source": [
    "states = pd.Series(sorted(df['state'].unique().tolist()))\n",
    "states"
   ]
  },
  {
   "cell_type": "code",
   "execution_count": 20,
   "metadata": {},
   "outputs": [],
   "source": [
    "states.to_csv(\"state.csv\", index=False)"
   ]
  },
  {
   "cell_type": "code",
   "execution_count": null,
   "metadata": {},
   "outputs": [],
   "source": []
  }
 ],
 "metadata": {
  "kernelspec": {
   "display_name": "book-kernel",
   "language": "python",
   "name": "book-kernel"
  },
  "language_info": {
   "codemirror_mode": {
    "name": "ipython",
    "version": 3
   },
   "file_extension": ".py",
   "mimetype": "text/x-python",
   "name": "python",
   "nbconvert_exporter": "python",
   "pygments_lexer": "ipython3",
   "version": "3.7.7"
  }
 },
 "nbformat": 4,
 "nbformat_minor": 4
}
