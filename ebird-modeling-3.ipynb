{
 "cells": [
  {
   "cell_type": "code",
   "execution_count": 74,
   "metadata": {},
   "outputs": [],
   "source": [
    "import numpy as np\n",
    "import pandas as pd\n",
    "from sklearn.linear_model import LogisticRegression\n",
    "from sklearn.model_selection import train_test_split\n",
    "from sklearn.ensemble import RandomForestClassifier"
   ]
  },
  {
   "cell_type": "code",
   "execution_count": 75,
   "metadata": {},
   "outputs": [
    {
     "name": "stdout",
     "output_type": "stream",
     "text": [
      "(103992, 15)\n"
     ]
    },
    {
     "data": {
      "text/html": [
       "<div>\n",
       "<style scoped>\n",
       "    .dataframe tbody tr th:only-of-type {\n",
       "        vertical-align: middle;\n",
       "    }\n",
       "\n",
       "    .dataframe tbody tr th {\n",
       "        vertical-align: top;\n",
       "    }\n",
       "\n",
       "    .dataframe thead th {\n",
       "        text-align: right;\n",
       "    }\n",
       "</style>\n",
       "<table border=\"1\" class=\"dataframe\">\n",
       "  <thead>\n",
       "    <tr style=\"text-align: right;\">\n",
       "      <th></th>\n",
       "      <th>name</th>\n",
       "      <th>observ_count</th>\n",
       "      <th>country</th>\n",
       "      <th>state</th>\n",
       "      <th>county</th>\n",
       "      <th>latitude</th>\n",
       "      <th>longitude</th>\n",
       "      <th>observ_date</th>\n",
       "      <th>month</th>\n",
       "      <th>season</th>\n",
       "      <th>county_state</th>\n",
       "      <th>State</th>\n",
       "      <th>CountyName</th>\n",
       "      <th>RegionName</th>\n",
       "      <th>seas_reg_rare</th>\n",
       "    </tr>\n",
       "  </thead>\n",
       "  <tbody>\n",
       "    <tr>\n",
       "      <th>0</th>\n",
       "      <td>Magnolia Warbler</td>\n",
       "      <td>2</td>\n",
       "      <td>United States</td>\n",
       "      <td>Illinois</td>\n",
       "      <td>Cook</td>\n",
       "      <td>41.775629</td>\n",
       "      <td>-87.583273</td>\n",
       "      <td>1995-08-27</td>\n",
       "      <td>8</td>\n",
       "      <td>Summer</td>\n",
       "      <td>CookIllinois</td>\n",
       "      <td>Illinois</td>\n",
       "      <td>Cook</td>\n",
       "      <td>Great Lakes</td>\n",
       "      <td>Uncommon</td>\n",
       "    </tr>\n",
       "    <tr>\n",
       "      <th>1</th>\n",
       "      <td>Great Blue Heron</td>\n",
       "      <td>2</td>\n",
       "      <td>United States</td>\n",
       "      <td>Illinois</td>\n",
       "      <td>Cook</td>\n",
       "      <td>41.956746</td>\n",
       "      <td>-87.913027</td>\n",
       "      <td>1999-07-24</td>\n",
       "      <td>7</td>\n",
       "      <td>Summer</td>\n",
       "      <td>CookIllinois</td>\n",
       "      <td>Illinois</td>\n",
       "      <td>Cook</td>\n",
       "      <td>Great Lakes</td>\n",
       "      <td>Common</td>\n",
       "    </tr>\n",
       "    <tr>\n",
       "      <th>2</th>\n",
       "      <td>Purple Martin</td>\n",
       "      <td>6</td>\n",
       "      <td>United States</td>\n",
       "      <td>Illinois</td>\n",
       "      <td>Cook</td>\n",
       "      <td>41.707907</td>\n",
       "      <td>-87.886848</td>\n",
       "      <td>1965-06-19</td>\n",
       "      <td>6</td>\n",
       "      <td>Summer</td>\n",
       "      <td>CookIllinois</td>\n",
       "      <td>Illinois</td>\n",
       "      <td>Cook</td>\n",
       "      <td>Great Lakes</td>\n",
       "      <td>Common</td>\n",
       "    </tr>\n",
       "    <tr>\n",
       "      <th>3</th>\n",
       "      <td>Common Yellowthroat</td>\n",
       "      <td>3</td>\n",
       "      <td>United States</td>\n",
       "      <td>Illinois</td>\n",
       "      <td>Cook</td>\n",
       "      <td>41.707907</td>\n",
       "      <td>-87.886848</td>\n",
       "      <td>1965-06-19</td>\n",
       "      <td>6</td>\n",
       "      <td>Summer</td>\n",
       "      <td>CookIllinois</td>\n",
       "      <td>Illinois</td>\n",
       "      <td>Cook</td>\n",
       "      <td>Great Lakes</td>\n",
       "      <td>Common</td>\n",
       "    </tr>\n",
       "    <tr>\n",
       "      <th>4</th>\n",
       "      <td>Eastern Towhee</td>\n",
       "      <td>3</td>\n",
       "      <td>United States</td>\n",
       "      <td>Illinois</td>\n",
       "      <td>Cook</td>\n",
       "      <td>41.707907</td>\n",
       "      <td>-87.886848</td>\n",
       "      <td>1965-06-19</td>\n",
       "      <td>6</td>\n",
       "      <td>Summer</td>\n",
       "      <td>CookIllinois</td>\n",
       "      <td>Illinois</td>\n",
       "      <td>Cook</td>\n",
       "      <td>Great Lakes</td>\n",
       "      <td>Common</td>\n",
       "    </tr>\n",
       "  </tbody>\n",
       "</table>\n",
       "</div>"
      ],
      "text/plain": [
       "                  name  observ_count        country     state county  \\\n",
       "0     Magnolia Warbler             2  United States  Illinois   Cook   \n",
       "1     Great Blue Heron             2  United States  Illinois   Cook   \n",
       "2        Purple Martin             6  United States  Illinois   Cook   \n",
       "3  Common Yellowthroat             3  United States  Illinois   Cook   \n",
       "4       Eastern Towhee             3  United States  Illinois   Cook   \n",
       "\n",
       "    latitude  longitude observ_date  month  season  county_state     State  \\\n",
       "0  41.775629 -87.583273  1995-08-27      8  Summer  CookIllinois  Illinois   \n",
       "1  41.956746 -87.913027  1999-07-24      7  Summer  CookIllinois  Illinois   \n",
       "2  41.707907 -87.886848  1965-06-19      6  Summer  CookIllinois  Illinois   \n",
       "3  41.707907 -87.886848  1965-06-19      6  Summer  CookIllinois  Illinois   \n",
       "4  41.707907 -87.886848  1965-06-19      6  Summer  CookIllinois  Illinois   \n",
       "\n",
       "  CountyName   RegionName seas_reg_rare  \n",
       "0       Cook  Great Lakes      Uncommon  \n",
       "1       Cook  Great Lakes        Common  \n",
       "2       Cook  Great Lakes        Common  \n",
       "3       Cook  Great Lakes        Common  \n",
       "4       Cook  Great Lakes        Common  "
      ]
     },
     "execution_count": 75,
     "metadata": {},
     "output_type": "execute_result"
    }
   ],
   "source": [
    "df = pd.read_csv(\"C:\\\\Users\\\\ajaco\\\\Desktop\\\\repos\\\\noreallyimfine\\\\ebird-project\\\\labelled_bird_sample.csv\")\n",
    "\n",
    "print(df.shape)\n",
    "\n",
    "df.head()"
   ]
  },
  {
   "cell_type": "code",
   "execution_count": 76,
   "metadata": {},
   "outputs": [
    {
     "data": {
      "text/html": [
       "<div>\n",
       "<style scoped>\n",
       "    .dataframe tbody tr th:only-of-type {\n",
       "        vertical-align: middle;\n",
       "    }\n",
       "\n",
       "    .dataframe tbody tr th {\n",
       "        vertical-align: top;\n",
       "    }\n",
       "\n",
       "    .dataframe thead th {\n",
       "        text-align: right;\n",
       "    }\n",
       "</style>\n",
       "<table border=\"1\" class=\"dataframe\">\n",
       "  <thead>\n",
       "    <tr style=\"text-align: right;\">\n",
       "      <th></th>\n",
       "      <th>name</th>\n",
       "      <th>observ_count</th>\n",
       "      <th>country</th>\n",
       "      <th>state</th>\n",
       "      <th>county</th>\n",
       "      <th>latitude</th>\n",
       "      <th>longitude</th>\n",
       "      <th>observ_date</th>\n",
       "      <th>month</th>\n",
       "      <th>season</th>\n",
       "      <th>county_state</th>\n",
       "      <th>State</th>\n",
       "      <th>CountyName</th>\n",
       "      <th>RegionName</th>\n",
       "      <th>seas_reg_rare</th>\n",
       "      <th>target</th>\n",
       "    </tr>\n",
       "  </thead>\n",
       "  <tbody>\n",
       "    <tr>\n",
       "      <th>0</th>\n",
       "      <td>Magnolia Warbler</td>\n",
       "      <td>2</td>\n",
       "      <td>United States</td>\n",
       "      <td>Illinois</td>\n",
       "      <td>Cook</td>\n",
       "      <td>41.775629</td>\n",
       "      <td>-87.583273</td>\n",
       "      <td>1995-08-27</td>\n",
       "      <td>8</td>\n",
       "      <td>Summer</td>\n",
       "      <td>CookIllinois</td>\n",
       "      <td>Illinois</td>\n",
       "      <td>Cook</td>\n",
       "      <td>Great Lakes</td>\n",
       "      <td>Uncommon</td>\n",
       "      <td>1</td>\n",
       "    </tr>\n",
       "    <tr>\n",
       "      <th>1</th>\n",
       "      <td>Great Blue Heron</td>\n",
       "      <td>2</td>\n",
       "      <td>United States</td>\n",
       "      <td>Illinois</td>\n",
       "      <td>Cook</td>\n",
       "      <td>41.956746</td>\n",
       "      <td>-87.913027</td>\n",
       "      <td>1999-07-24</td>\n",
       "      <td>7</td>\n",
       "      <td>Summer</td>\n",
       "      <td>CookIllinois</td>\n",
       "      <td>Illinois</td>\n",
       "      <td>Cook</td>\n",
       "      <td>Great Lakes</td>\n",
       "      <td>Common</td>\n",
       "      <td>0</td>\n",
       "    </tr>\n",
       "    <tr>\n",
       "      <th>2</th>\n",
       "      <td>Purple Martin</td>\n",
       "      <td>6</td>\n",
       "      <td>United States</td>\n",
       "      <td>Illinois</td>\n",
       "      <td>Cook</td>\n",
       "      <td>41.707907</td>\n",
       "      <td>-87.886848</td>\n",
       "      <td>1965-06-19</td>\n",
       "      <td>6</td>\n",
       "      <td>Summer</td>\n",
       "      <td>CookIllinois</td>\n",
       "      <td>Illinois</td>\n",
       "      <td>Cook</td>\n",
       "      <td>Great Lakes</td>\n",
       "      <td>Common</td>\n",
       "      <td>0</td>\n",
       "    </tr>\n",
       "    <tr>\n",
       "      <th>3</th>\n",
       "      <td>Common Yellowthroat</td>\n",
       "      <td>3</td>\n",
       "      <td>United States</td>\n",
       "      <td>Illinois</td>\n",
       "      <td>Cook</td>\n",
       "      <td>41.707907</td>\n",
       "      <td>-87.886848</td>\n",
       "      <td>1965-06-19</td>\n",
       "      <td>6</td>\n",
       "      <td>Summer</td>\n",
       "      <td>CookIllinois</td>\n",
       "      <td>Illinois</td>\n",
       "      <td>Cook</td>\n",
       "      <td>Great Lakes</td>\n",
       "      <td>Common</td>\n",
       "      <td>0</td>\n",
       "    </tr>\n",
       "    <tr>\n",
       "      <th>4</th>\n",
       "      <td>Eastern Towhee</td>\n",
       "      <td>3</td>\n",
       "      <td>United States</td>\n",
       "      <td>Illinois</td>\n",
       "      <td>Cook</td>\n",
       "      <td>41.707907</td>\n",
       "      <td>-87.886848</td>\n",
       "      <td>1965-06-19</td>\n",
       "      <td>6</td>\n",
       "      <td>Summer</td>\n",
       "      <td>CookIllinois</td>\n",
       "      <td>Illinois</td>\n",
       "      <td>Cook</td>\n",
       "      <td>Great Lakes</td>\n",
       "      <td>Common</td>\n",
       "      <td>0</td>\n",
       "    </tr>\n",
       "  </tbody>\n",
       "</table>\n",
       "</div>"
      ],
      "text/plain": [
       "                  name  observ_count        country     state county  \\\n",
       "0     Magnolia Warbler             2  United States  Illinois   Cook   \n",
       "1     Great Blue Heron             2  United States  Illinois   Cook   \n",
       "2        Purple Martin             6  United States  Illinois   Cook   \n",
       "3  Common Yellowthroat             3  United States  Illinois   Cook   \n",
       "4       Eastern Towhee             3  United States  Illinois   Cook   \n",
       "\n",
       "    latitude  longitude observ_date  month  season  county_state     State  \\\n",
       "0  41.775629 -87.583273  1995-08-27      8  Summer  CookIllinois  Illinois   \n",
       "1  41.956746 -87.913027  1999-07-24      7  Summer  CookIllinois  Illinois   \n",
       "2  41.707907 -87.886848  1965-06-19      6  Summer  CookIllinois  Illinois   \n",
       "3  41.707907 -87.886848  1965-06-19      6  Summer  CookIllinois  Illinois   \n",
       "4  41.707907 -87.886848  1965-06-19      6  Summer  CookIllinois  Illinois   \n",
       "\n",
       "  CountyName   RegionName seas_reg_rare  target  \n",
       "0       Cook  Great Lakes      Uncommon       1  \n",
       "1       Cook  Great Lakes        Common       0  \n",
       "2       Cook  Great Lakes        Common       0  \n",
       "3       Cook  Great Lakes        Common       0  \n",
       "4       Cook  Great Lakes        Common       0  "
      ]
     },
     "execution_count": 76,
     "metadata": {},
     "output_type": "execute_result"
    }
   ],
   "source": [
    "df['target'] = df['seas_reg_rare'].map({\"Common\": 0,\n",
    "                                        \"Uncommon\": 1,\n",
    "                                        \"Rare\": 2})\n",
    "\n",
    "df.head()"
   ]
  },
  {
   "cell_type": "code",
   "execution_count": 77,
   "metadata": {},
   "outputs": [
    {
     "data": {
      "text/plain": [
       "0    0.654406\n",
       "1    0.304495\n",
       "2    0.041099\n",
       "Name: target, dtype: float64"
      ]
     },
     "execution_count": 77,
     "metadata": {},
     "output_type": "execute_result"
    }
   ],
   "source": [
    "df.target.value_counts(normalize=True)"
   ]
  },
  {
   "cell_type": "code",
   "execution_count": null,
   "metadata": {},
   "outputs": [],
   "source": []
  },
  {
   "cell_type": "code",
   "execution_count": 78,
   "metadata": {},
   "outputs": [],
   "source": [
    "import category_encoders as ce"
   ]
  },
  {
   "cell_type": "code",
   "execution_count": 79,
   "metadata": {},
   "outputs": [
    {
     "data": {
      "text/plain": [
       "((83193, 16), (20799, 16))"
      ]
     },
     "execution_count": 79,
     "metadata": {},
     "output_type": "execute_result"
    }
   ],
   "source": [
    "train, test = train_test_split(df, test_size=0.2, stratify=df['seas_reg_rare'])\n",
    "\n",
    "train.shape, test.shape"
   ]
  },
  {
   "cell_type": "code",
   "execution_count": 80,
   "metadata": {},
   "outputs": [
    {
     "data": {
      "text/plain": [
       "((83193, 5), (83193,), (20799, 5), (20799,))"
      ]
     },
     "execution_count": 80,
     "metadata": {},
     "output_type": "execute_result"
    }
   ],
   "source": [
    "features = ['name', 'season', 'RegionName', 'latitude', 'longitude']\n",
    "target = 'target'\n",
    "\n",
    "X_train = train[features]\n",
    "y_train = train[target]\n",
    "X_test = test[features]\n",
    "y_test = test[target]\n",
    "\n",
    "X_train.shape, y_train.shape, X_test.shape, y_test.shape"
   ]
  },
  {
   "cell_type": "markdown",
   "metadata": {},
   "source": [
    "## CatBoost Encoder"
   ]
  },
  {
   "cell_type": "code",
   "execution_count": 97,
   "metadata": {},
   "outputs": [],
   "source": [
    "df['target'] = df['seas_reg_rare'].map({\"Common\": 2,\n",
    "                                        \"Uncommon\": 1,\n",
    "                                        \"Rare\": 0})"
   ]
  },
  {
   "cell_type": "code",
   "execution_count": 119,
   "metadata": {},
   "outputs": [
    {
     "data": {
      "text/html": [
       "<div>\n",
       "<style scoped>\n",
       "    .dataframe tbody tr th:only-of-type {\n",
       "        vertical-align: middle;\n",
       "    }\n",
       "\n",
       "    .dataframe tbody tr th {\n",
       "        vertical-align: top;\n",
       "    }\n",
       "\n",
       "    .dataframe thead th {\n",
       "        text-align: right;\n",
       "    }\n",
       "</style>\n",
       "<table border=\"1\" class=\"dataframe\">\n",
       "  <thead>\n",
       "    <tr style=\"text-align: right;\">\n",
       "      <th></th>\n",
       "      <th>name</th>\n",
       "      <th>season</th>\n",
       "      <th>RegionName</th>\n",
       "      <th>latitude</th>\n",
       "      <th>longitude</th>\n",
       "    </tr>\n",
       "  </thead>\n",
       "  <tbody>\n",
       "    <tr>\n",
       "      <th>0</th>\n",
       "      <td>1.613307</td>\n",
       "      <td>1.613307</td>\n",
       "      <td>1.613307</td>\n",
       "      <td>41.775629</td>\n",
       "      <td>-87.583273</td>\n",
       "    </tr>\n",
       "    <tr>\n",
       "      <th>1</th>\n",
       "      <td>1.613307</td>\n",
       "      <td>1.306653</td>\n",
       "      <td>1.306653</td>\n",
       "      <td>41.956746</td>\n",
       "      <td>-87.913027</td>\n",
       "    </tr>\n",
       "    <tr>\n",
       "      <th>2</th>\n",
       "      <td>1.613307</td>\n",
       "      <td>1.537769</td>\n",
       "      <td>1.537769</td>\n",
       "      <td>41.707907</td>\n",
       "      <td>-87.886848</td>\n",
       "    </tr>\n",
       "    <tr>\n",
       "      <th>3</th>\n",
       "      <td>1.613307</td>\n",
       "      <td>1.653327</td>\n",
       "      <td>1.653327</td>\n",
       "      <td>41.707907</td>\n",
       "      <td>-87.886848</td>\n",
       "    </tr>\n",
       "    <tr>\n",
       "      <th>4</th>\n",
       "      <td>1.613307</td>\n",
       "      <td>1.722661</td>\n",
       "      <td>1.722661</td>\n",
       "      <td>41.707907</td>\n",
       "      <td>-87.886848</td>\n",
       "    </tr>\n",
       "    <tr>\n",
       "      <th>...</th>\n",
       "      <td>...</td>\n",
       "      <td>...</td>\n",
       "      <td>...</td>\n",
       "      <td>...</td>\n",
       "      <td>...</td>\n",
       "    </tr>\n",
       "    <tr>\n",
       "      <th>103987</th>\n",
       "      <td>1.337333</td>\n",
       "      <td>1.617486</td>\n",
       "      <td>1.666266</td>\n",
       "      <td>34.426782</td>\n",
       "      <td>-97.149598</td>\n",
       "    </tr>\n",
       "    <tr>\n",
       "      <th>103988</th>\n",
       "      <td>1.832528</td>\n",
       "      <td>1.574056</td>\n",
       "      <td>1.666069</td>\n",
       "      <td>34.426782</td>\n",
       "      <td>-97.149598</td>\n",
       "    </tr>\n",
       "    <tr>\n",
       "      <th>103989</th>\n",
       "      <td>1.339844</td>\n",
       "      <td>1.574067</td>\n",
       "      <td>1.628092</td>\n",
       "      <td>31.667925</td>\n",
       "      <td>-81.845470</td>\n",
       "    </tr>\n",
       "    <tr>\n",
       "      <th>103990</th>\n",
       "      <td>1.945871</td>\n",
       "      <td>1.574052</td>\n",
       "      <td>1.666108</td>\n",
       "      <td>35.116398</td>\n",
       "      <td>-87.208443</td>\n",
       "    </tr>\n",
       "    <tr>\n",
       "      <th>103991</th>\n",
       "      <td>1.978707</td>\n",
       "      <td>1.574063</td>\n",
       "      <td>1.628021</td>\n",
       "      <td>32.647283</td>\n",
       "      <td>-88.495162</td>\n",
       "    </tr>\n",
       "  </tbody>\n",
       "</table>\n",
       "<p>103992 rows × 5 columns</p>\n",
       "</div>"
      ],
      "text/plain": [
       "            name    season  RegionName   latitude  longitude\n",
       "0       1.613307  1.613307    1.613307  41.775629 -87.583273\n",
       "1       1.613307  1.306653    1.306653  41.956746 -87.913027\n",
       "2       1.613307  1.537769    1.537769  41.707907 -87.886848\n",
       "3       1.613307  1.653327    1.653327  41.707907 -87.886848\n",
       "4       1.613307  1.722661    1.722661  41.707907 -87.886848\n",
       "...          ...       ...         ...        ...        ...\n",
       "103987  1.337333  1.617486    1.666266  34.426782 -97.149598\n",
       "103988  1.832528  1.574056    1.666069  34.426782 -97.149598\n",
       "103989  1.339844  1.574067    1.628092  31.667925 -81.845470\n",
       "103990  1.945871  1.574052    1.666108  35.116398 -87.208443\n",
       "103991  1.978707  1.574063    1.628021  32.647283 -88.495162\n",
       "\n",
       "[103992 rows x 5 columns]"
      ]
     },
     "execution_count": 119,
     "metadata": {},
     "output_type": "execute_result"
    }
   ],
   "source": [
    "features = ['name', 'season', 'RegionName', 'latitude', 'longitude']\n",
    "target = 'target'\n",
    "\n",
    "X = df[features]\n",
    "y = df[target]\n",
    "\n",
    "encoder = ce.CatBoostEncoder()\n",
    "\n",
    "X = encoder.fit_transform(X, y)\n",
    "\n",
    "X"
   ]
  },
  {
   "cell_type": "code",
   "execution_count": 120,
   "metadata": {},
   "outputs": [
    {
     "data": {
      "text/plain": [
       "((83193, 5), (20799, 5), (83193,), (20799,))"
      ]
     },
     "execution_count": 120,
     "metadata": {},
     "output_type": "execute_result"
    }
   ],
   "source": [
    "X_train, X_test, y_train, y_test = train_test_split(X, y, test_size=0.2)\n",
    "\n",
    "X_train.shape, X_test.shape, y_train.shape, y_test.shape"
   ]
  },
  {
   "cell_type": "markdown",
   "metadata": {},
   "source": [
    "### Random Forest \n",
    "\n",
    "    (1000 trees, 'entropy' criterion, No max_depth)"
   ]
  },
  {
   "cell_type": "code",
   "execution_count": 123,
   "metadata": {},
   "outputs": [
    {
     "data": {
      "text/plain": [
       "0.7907110918794172"
      ]
     },
     "execution_count": 123,
     "metadata": {},
     "output_type": "execute_result"
    }
   ],
   "source": [
    "forest = RandomForestClassifier(n_estimators=1000, max_features=0.25, max_depth=None, random_state=42)\n",
    "\n",
    "forest.fit(X_train, y_train)\n",
    "\n",
    "forest.score(X_test, y_test)"
   ]
  },
  {
   "cell_type": "code",
   "execution_count": 104,
   "metadata": {},
   "outputs": [],
   "source": [
    "from sklearn.metrics import roc_auc_score, confusion_matrix, recall_score, precision_score, accuracy_score"
   ]
  },
  {
   "cell_type": "code",
   "execution_count": 124,
   "metadata": {},
   "outputs": [
    {
     "name": "stdout",
     "output_type": "stream",
     "text": [
      "Random Forest Accuracy Score 0.7907110918794172\n",
      "Random Forest Recall Score 0.7907110918794172\n",
      "Random Forest Precision Score 0.7768295401468783\n"
     ]
    }
   ],
   "source": [
    "preds = forest.predict(X_test)\n",
    "\n",
    "print(\"Random Forest Accuracy Score\", accuracy_score(y_test, preds))\n",
    "print(\"Random Forest Recall Score\", recall_score(y_test, preds, average='weighted'))\n",
    "print(\"Random Forest Precision Score\", precision_score(y_test, preds, average='weighted'))\n",
    "#print(\"Random Forest ROC-AUC Score\", roc_auc_score(y_test, preds, average='weighted', multi_class='ovo'))"
   ]
  },
  {
   "cell_type": "markdown",
   "metadata": {},
   "source": [
    "### Random Forest w/o Lat/Lon"
   ]
  },
  {
   "cell_type": "code",
   "execution_count": 111,
   "metadata": {},
   "outputs": [
    {
     "data": {
      "text/html": [
       "<div>\n",
       "<style scoped>\n",
       "    .dataframe tbody tr th:only-of-type {\n",
       "        vertical-align: middle;\n",
       "    }\n",
       "\n",
       "    .dataframe tbody tr th {\n",
       "        vertical-align: top;\n",
       "    }\n",
       "\n",
       "    .dataframe thead th {\n",
       "        text-align: right;\n",
       "    }\n",
       "</style>\n",
       "<table border=\"1\" class=\"dataframe\">\n",
       "  <thead>\n",
       "    <tr style=\"text-align: right;\">\n",
       "      <th></th>\n",
       "      <th>name</th>\n",
       "      <th>season</th>\n",
       "      <th>RegionName</th>\n",
       "    </tr>\n",
       "  </thead>\n",
       "  <tbody>\n",
       "    <tr>\n",
       "      <th>0</th>\n",
       "      <td>1.613307</td>\n",
       "      <td>1.613307</td>\n",
       "      <td>1.613307</td>\n",
       "    </tr>\n",
       "    <tr>\n",
       "      <th>1</th>\n",
       "      <td>1.613307</td>\n",
       "      <td>1.306653</td>\n",
       "      <td>1.306653</td>\n",
       "    </tr>\n",
       "    <tr>\n",
       "      <th>2</th>\n",
       "      <td>1.613307</td>\n",
       "      <td>1.537769</td>\n",
       "      <td>1.537769</td>\n",
       "    </tr>\n",
       "    <tr>\n",
       "      <th>3</th>\n",
       "      <td>1.613307</td>\n",
       "      <td>1.653327</td>\n",
       "      <td>1.653327</td>\n",
       "    </tr>\n",
       "    <tr>\n",
       "      <th>4</th>\n",
       "      <td>1.613307</td>\n",
       "      <td>1.722661</td>\n",
       "      <td>1.722661</td>\n",
       "    </tr>\n",
       "    <tr>\n",
       "      <th>...</th>\n",
       "      <td>...</td>\n",
       "      <td>...</td>\n",
       "      <td>...</td>\n",
       "    </tr>\n",
       "    <tr>\n",
       "      <th>103987</th>\n",
       "      <td>1.337333</td>\n",
       "      <td>1.617486</td>\n",
       "      <td>1.666266</td>\n",
       "    </tr>\n",
       "    <tr>\n",
       "      <th>103988</th>\n",
       "      <td>1.832528</td>\n",
       "      <td>1.574056</td>\n",
       "      <td>1.666069</td>\n",
       "    </tr>\n",
       "    <tr>\n",
       "      <th>103989</th>\n",
       "      <td>1.339844</td>\n",
       "      <td>1.574067</td>\n",
       "      <td>1.628092</td>\n",
       "    </tr>\n",
       "    <tr>\n",
       "      <th>103990</th>\n",
       "      <td>1.945871</td>\n",
       "      <td>1.574052</td>\n",
       "      <td>1.666108</td>\n",
       "    </tr>\n",
       "    <tr>\n",
       "      <th>103991</th>\n",
       "      <td>1.978707</td>\n",
       "      <td>1.574063</td>\n",
       "      <td>1.628021</td>\n",
       "    </tr>\n",
       "  </tbody>\n",
       "</table>\n",
       "<p>103992 rows × 3 columns</p>\n",
       "</div>"
      ],
      "text/plain": [
       "            name    season  RegionName\n",
       "0       1.613307  1.613307    1.613307\n",
       "1       1.613307  1.306653    1.306653\n",
       "2       1.613307  1.537769    1.537769\n",
       "3       1.613307  1.653327    1.653327\n",
       "4       1.613307  1.722661    1.722661\n",
       "...          ...       ...         ...\n",
       "103987  1.337333  1.617486    1.666266\n",
       "103988  1.832528  1.574056    1.666069\n",
       "103989  1.339844  1.574067    1.628092\n",
       "103990  1.945871  1.574052    1.666108\n",
       "103991  1.978707  1.574063    1.628021\n",
       "\n",
       "[103992 rows x 3 columns]"
      ]
     },
     "execution_count": 111,
     "metadata": {},
     "output_type": "execute_result"
    }
   ],
   "source": [
    "features = ['name', 'season', 'RegionName']\n",
    "target = 'target'\n",
    "\n",
    "X = df[features]\n",
    "y = df[target]\n",
    "\n",
    "encoder = ce.CatBoostEncoder()\n",
    "\n",
    "X = encoder.fit_transform(X, y)\n",
    "\n",
    "X"
   ]
  },
  {
   "cell_type": "code",
   "execution_count": 112,
   "metadata": {},
   "outputs": [
    {
     "data": {
      "text/plain": [
       "((83193, 3), (20799, 3), (83193,), (20799,))"
      ]
     },
     "execution_count": 112,
     "metadata": {},
     "output_type": "execute_result"
    }
   ],
   "source": [
    "X_train, X_test, y_train, y_test = train_test_split(X, y, test_size=0.2)\n",
    "\n",
    "X_train.shape, X_test.shape, y_train.shape, y_test.shape"
   ]
  },
  {
   "cell_type": "code",
   "execution_count": 113,
   "metadata": {},
   "outputs": [
    {
     "data": {
      "text/plain": [
       "0.7792201548151353"
      ]
     },
     "execution_count": 113,
     "metadata": {},
     "output_type": "execute_result"
    }
   ],
   "source": [
    "forest = RandomForestClassifier(n_estimators=1000, max_depth=None, random_state=42)\n",
    "\n",
    "forest.fit(X_train, y_train)\n",
    "\n",
    "forest.score(X_test, y_test)"
   ]
  },
  {
   "cell_type": "code",
   "execution_count": 114,
   "metadata": {},
   "outputs": [
    {
     "name": "stdout",
     "output_type": "stream",
     "text": [
      "Random Forest Accuracy Score 0.7792201548151353\n",
      "Random Forest Recall Score 0.7792201548151353\n",
      "Random Forest Precision Score 0.7653383477960596\n"
     ]
    }
   ],
   "source": [
    "preds = forest.predict(X_test)\n",
    "\n",
    "print(\"Random Forest Accuracy Score\", accuracy_score(y_test, preds))\n",
    "print(\"Random Forest Recall Score\", recall_score(y_test, preds, average='weighted'))\n",
    "print(\"Random Forest Precision Score\", precision_score(y_test, preds, average='weighted'))\n",
    "#print(\"Random Forest ROC-AUC Score\", roc_auc_score(y_test, preds, average='weighted', multi_class='ovo'))"
   ]
  },
  {
   "cell_type": "markdown",
   "metadata": {},
   "source": [
    "### RF including CountyState"
   ]
  },
  {
   "cell_type": "code",
   "execution_count": 115,
   "metadata": {},
   "outputs": [
    {
     "data": {
      "text/html": [
       "<div>\n",
       "<style scoped>\n",
       "    .dataframe tbody tr th:only-of-type {\n",
       "        vertical-align: middle;\n",
       "    }\n",
       "\n",
       "    .dataframe tbody tr th {\n",
       "        vertical-align: top;\n",
       "    }\n",
       "\n",
       "    .dataframe thead th {\n",
       "        text-align: right;\n",
       "    }\n",
       "</style>\n",
       "<table border=\"1\" class=\"dataframe\">\n",
       "  <thead>\n",
       "    <tr style=\"text-align: right;\">\n",
       "      <th></th>\n",
       "      <th>name</th>\n",
       "      <th>season</th>\n",
       "      <th>RegionName</th>\n",
       "      <th>latitude</th>\n",
       "      <th>longitude</th>\n",
       "      <th>county_state</th>\n",
       "    </tr>\n",
       "  </thead>\n",
       "  <tbody>\n",
       "    <tr>\n",
       "      <th>0</th>\n",
       "      <td>1.613307</td>\n",
       "      <td>1.613307</td>\n",
       "      <td>1.613307</td>\n",
       "      <td>41.775629</td>\n",
       "      <td>-87.583273</td>\n",
       "      <td>1.613307</td>\n",
       "    </tr>\n",
       "    <tr>\n",
       "      <th>1</th>\n",
       "      <td>1.613307</td>\n",
       "      <td>1.306653</td>\n",
       "      <td>1.306653</td>\n",
       "      <td>41.956746</td>\n",
       "      <td>-87.913027</td>\n",
       "      <td>1.306653</td>\n",
       "    </tr>\n",
       "    <tr>\n",
       "      <th>2</th>\n",
       "      <td>1.613307</td>\n",
       "      <td>1.537769</td>\n",
       "      <td>1.537769</td>\n",
       "      <td>41.707907</td>\n",
       "      <td>-87.886848</td>\n",
       "      <td>1.537769</td>\n",
       "    </tr>\n",
       "    <tr>\n",
       "      <th>3</th>\n",
       "      <td>1.613307</td>\n",
       "      <td>1.653327</td>\n",
       "      <td>1.653327</td>\n",
       "      <td>41.707907</td>\n",
       "      <td>-87.886848</td>\n",
       "      <td>1.653327</td>\n",
       "    </tr>\n",
       "    <tr>\n",
       "      <th>4</th>\n",
       "      <td>1.613307</td>\n",
       "      <td>1.722661</td>\n",
       "      <td>1.722661</td>\n",
       "      <td>41.707907</td>\n",
       "      <td>-87.886848</td>\n",
       "      <td>1.722661</td>\n",
       "    </tr>\n",
       "    <tr>\n",
       "      <th>...</th>\n",
       "      <td>...</td>\n",
       "      <td>...</td>\n",
       "      <td>...</td>\n",
       "      <td>...</td>\n",
       "      <td>...</td>\n",
       "      <td>...</td>\n",
       "    </tr>\n",
       "    <tr>\n",
       "      <th>103987</th>\n",
       "      <td>1.337333</td>\n",
       "      <td>1.617486</td>\n",
       "      <td>1.666266</td>\n",
       "      <td>34.426782</td>\n",
       "      <td>-97.149598</td>\n",
       "      <td>1.613307</td>\n",
       "    </tr>\n",
       "    <tr>\n",
       "      <th>103988</th>\n",
       "      <td>1.832528</td>\n",
       "      <td>1.574056</td>\n",
       "      <td>1.666069</td>\n",
       "      <td>34.426782</td>\n",
       "      <td>-97.149598</td>\n",
       "      <td>0.806653</td>\n",
       "    </tr>\n",
       "    <tr>\n",
       "      <th>103989</th>\n",
       "      <td>1.339844</td>\n",
       "      <td>1.574067</td>\n",
       "      <td>1.628092</td>\n",
       "      <td>31.667925</td>\n",
       "      <td>-81.845470</td>\n",
       "      <td>1.613307</td>\n",
       "    </tr>\n",
       "    <tr>\n",
       "      <th>103990</th>\n",
       "      <td>1.945871</td>\n",
       "      <td>1.574052</td>\n",
       "      <td>1.666108</td>\n",
       "      <td>35.116398</td>\n",
       "      <td>-87.208443</td>\n",
       "      <td>1.613307</td>\n",
       "    </tr>\n",
       "    <tr>\n",
       "      <th>103991</th>\n",
       "      <td>1.978707</td>\n",
       "      <td>1.574063</td>\n",
       "      <td>1.628021</td>\n",
       "      <td>32.647283</td>\n",
       "      <td>-88.495162</td>\n",
       "      <td>1.613307</td>\n",
       "    </tr>\n",
       "  </tbody>\n",
       "</table>\n",
       "<p>103992 rows × 6 columns</p>\n",
       "</div>"
      ],
      "text/plain": [
       "            name    season  RegionName   latitude  longitude  county_state\n",
       "0       1.613307  1.613307    1.613307  41.775629 -87.583273      1.613307\n",
       "1       1.613307  1.306653    1.306653  41.956746 -87.913027      1.306653\n",
       "2       1.613307  1.537769    1.537769  41.707907 -87.886848      1.537769\n",
       "3       1.613307  1.653327    1.653327  41.707907 -87.886848      1.653327\n",
       "4       1.613307  1.722661    1.722661  41.707907 -87.886848      1.722661\n",
       "...          ...       ...         ...        ...        ...           ...\n",
       "103987  1.337333  1.617486    1.666266  34.426782 -97.149598      1.613307\n",
       "103988  1.832528  1.574056    1.666069  34.426782 -97.149598      0.806653\n",
       "103989  1.339844  1.574067    1.628092  31.667925 -81.845470      1.613307\n",
       "103990  1.945871  1.574052    1.666108  35.116398 -87.208443      1.613307\n",
       "103991  1.978707  1.574063    1.628021  32.647283 -88.495162      1.613307\n",
       "\n",
       "[103992 rows x 6 columns]"
      ]
     },
     "execution_count": 115,
     "metadata": {},
     "output_type": "execute_result"
    }
   ],
   "source": [
    "features = ['name', 'season', 'RegionName', 'latitude', 'longitude', 'county_state']\n",
    "target = 'target'\n",
    "\n",
    "X = df[features]\n",
    "y = df[target]\n",
    "\n",
    "encoder = ce.CatBoostEncoder()\n",
    "\n",
    "X = encoder.fit_transform(X, y)\n",
    "\n",
    "X"
   ]
  },
  {
   "cell_type": "code",
   "execution_count": 116,
   "metadata": {},
   "outputs": [
    {
     "data": {
      "text/plain": [
       "((83193, 6), (20799, 6), (83193,), (20799,))"
      ]
     },
     "execution_count": 116,
     "metadata": {},
     "output_type": "execute_result"
    }
   ],
   "source": [
    "X_train, X_test, y_train, y_test = train_test_split(X, y, test_size=0.2)\n",
    "\n",
    "X_train.shape, X_test.shape, y_train.shape, y_test.shape"
   ]
  },
  {
   "cell_type": "code",
   "execution_count": 117,
   "metadata": {},
   "outputs": [
    {
     "data": {
      "text/plain": [
       "0.7913361219289389"
      ]
     },
     "execution_count": 117,
     "metadata": {},
     "output_type": "execute_result"
    }
   ],
   "source": [
    "forest = RandomForestClassifier(n_estimators=1000, max_depth=None, random_state=42)\n",
    "\n",
    "forest.fit(X_train, y_train)\n",
    "\n",
    "forest.score(X_test, y_test)"
   ]
  },
  {
   "cell_type": "code",
   "execution_count": 118,
   "metadata": {},
   "outputs": [
    {
     "name": "stdout",
     "output_type": "stream",
     "text": [
      "Random Forest Accuracy Score 0.7913361219289389\n",
      "Random Forest Recall Score 0.7913361219289389\n",
      "Random Forest Precision Score 0.7776867687549218\n"
     ]
    }
   ],
   "source": [
    "preds = forest.predict(X_test)\n",
    "\n",
    "print(\"Random Forest Accuracy Score\", accuracy_score(y_test, preds))\n",
    "print(\"Random Forest Recall Score\", recall_score(y_test, preds, average='weighted'))\n",
    "print(\"Random Forest Precision Score\", precision_score(y_test, preds, average='weighted'))\n",
    "#print(\"Random Forest ROC-AUC Score\", roc_auc_score(y_test, preds, average='weighted', multi_class='ovo'))"
   ]
  },
  {
   "cell_type": "code",
   "execution_count": 84,
   "metadata": {},
   "outputs": [],
   "source": [
    "from sklearn.model_selection import GridSearchCV"
   ]
  },
  {
   "cell_type": "code",
   "execution_count": 85,
   "metadata": {},
   "outputs": [
    {
     "name": "stdout",
     "output_type": "stream",
     "text": [
      "Fitting 3 folds for each of 48 candidates, totalling 144 fits\n"
     ]
    },
    {
     "name": "stderr",
     "output_type": "stream",
     "text": [
      "[Parallel(n_jobs=-1)]: Using backend LokyBackend with 4 concurrent workers.\n",
      "[Parallel(n_jobs=-1)]: Done   5 tasks      | elapsed:   48.3s\n",
      "[Parallel(n_jobs=-1)]: Done  10 tasks      | elapsed:  1.8min\n",
      "[Parallel(n_jobs=-1)]: Done  17 tasks      | elapsed:  2.9min\n",
      "[Parallel(n_jobs=-1)]: Done  24 tasks      | elapsed:  4.9min\n",
      "[Parallel(n_jobs=-1)]: Done  33 tasks      | elapsed:  7.8min\n",
      "[Parallel(n_jobs=-1)]: Done  42 tasks      | elapsed: 11.8min\n",
      "[Parallel(n_jobs=-1)]: Done  53 tasks      | elapsed: 16.9min\n",
      "[Parallel(n_jobs=-1)]: Done  64 tasks      | elapsed: 20.5min\n",
      "[Parallel(n_jobs=-1)]: Done  77 tasks      | elapsed: 26.5min\n",
      "[Parallel(n_jobs=-1)]: Done  90 tasks      | elapsed: 36.1min\n",
      "[Parallel(n_jobs=-1)]: Done 105 tasks      | elapsed: 47.4min\n",
      "[Parallel(n_jobs=-1)]: Done 120 tasks      | elapsed: 54.8min\n",
      "[Parallel(n_jobs=-1)]: Done 137 tasks      | elapsed: 68.2min\n",
      "[Parallel(n_jobs=-1)]: Done 144 out of 144 | elapsed: 82.6min finished\n"
     ]
    },
    {
     "data": {
      "text/plain": [
       "GridSearchCV(cv=3, error_score=nan,\n",
       "             estimator=RandomForestClassifier(bootstrap=True, ccp_alpha=0.0,\n",
       "                                              class_weight=None,\n",
       "                                              criterion='gini', max_depth=None,\n",
       "                                              max_features='auto',\n",
       "                                              max_leaf_nodes=None,\n",
       "                                              max_samples=None,\n",
       "                                              min_impurity_decrease=0.0,\n",
       "                                              min_impurity_split=None,\n",
       "                                              min_samples_leaf=1,\n",
       "                                              min_samples_split=2,\n",
       "                                              min_weight_fraction_leaf=0.0,\n",
       "                                              n_estimators=100, n_jobs=None,\n",
       "                                              oob_score=False, random_state=42,\n",
       "                                              verbose=0, warm_start=False),\n",
       "             iid='deprecated', n_jobs=-1,\n",
       "             param_grid={'max_depth': [5, 10, 15],\n",
       "                         'max_features': [0.25, 0.5, 0.75, 1.0],\n",
       "                         'n_estimators': [100, 250, 500, 1000]},\n",
       "             pre_dispatch='2*n_jobs', refit=True, return_train_score=False,\n",
       "             scoring=None, verbose=10)"
      ]
     },
     "execution_count": 85,
     "metadata": {},
     "output_type": "execute_result"
    }
   ],
   "source": [
    "param_grid = {\n",
    "    \"n_estimators\": [100, 250, 500, 1000],\n",
    "    \"max_depth\": [5,10,15],\n",
    "    \"max_features\": [.25, .5, .75, 1.0]\n",
    "}\n",
    "\n",
    "forest = RandomForestClassifier(random_state=42)\n",
    "grid = GridSearchCV(forest, param_grid, n_jobs=-1, cv=3, verbose=10)\n",
    "\n",
    "grid.fit(X, y)"
   ]
  },
  {
   "cell_type": "code",
   "execution_count": 88,
   "metadata": {},
   "outputs": [
    {
     "data": {
      "text/plain": [
       "0.7731940918532195"
      ]
     },
     "execution_count": 88,
     "metadata": {},
     "output_type": "execute_result"
    }
   ],
   "source": [
    "grid.best_score_"
   ]
  },
  {
   "cell_type": "code",
   "execution_count": 89,
   "metadata": {},
   "outputs": [
    {
     "data": {
      "text/plain": [
       "{'max_depth': 10, 'max_features': 0.75, 'n_estimators': 1000}"
      ]
     },
     "execution_count": 89,
     "metadata": {},
     "output_type": "execute_result"
    }
   ],
   "source": [
    "grid.best_params_"
   ]
  },
  {
   "cell_type": "code",
   "execution_count": 96,
   "metadata": {},
   "outputs": [
    {
     "data": {
      "text/plain": [
       "0.7957113322755902"
      ]
     },
     "execution_count": 96,
     "metadata": {},
     "output_type": "execute_result"
    }
   ],
   "source": [
    "forest = RandomForestClassifier(n_estimators=1000, max_depth=None, random_state=42)\n",
    "\n",
    "X_train, X_test, y_train, y_test = train_test_split(X, y, test_size=0.2)\n",
    "\n",
    "forest.fit(X_train, y_train)\n",
    "\n",
    "forest.score(X_test, y_test)"
   ]
  },
  {
   "cell_type": "markdown",
   "metadata": {},
   "source": [
    "### Gradient Boosting"
   ]
  },
  {
   "cell_type": "code",
   "execution_count": 91,
   "metadata": {},
   "outputs": [],
   "source": [
    "from sklearn.ensemble import GradientBoostingClassifier"
   ]
  },
  {
   "cell_type": "code",
   "execution_count": 93,
   "metadata": {
    "collapsed": true,
    "jupyter": {
     "outputs_hidden": true
    }
   },
   "outputs": [
    {
     "name": "stdout",
     "output_type": "stream",
     "text": [
      "Fitting 3 folds for each of 36 candidates, totalling 108 fits\n"
     ]
    },
    {
     "name": "stderr",
     "output_type": "stream",
     "text": [
      "[Parallel(n_jobs=-1)]: Using backend LokyBackend with 4 concurrent workers.\n",
      "[Parallel(n_jobs=-1)]: Done   5 tasks      | elapsed:  8.7min\n",
      "[Parallel(n_jobs=-1)]: Done  10 tasks      | elapsed: 17.0min\n",
      "[Parallel(n_jobs=-1)]: Done  17 tasks      | elapsed: 45.1min\n",
      "[Parallel(n_jobs=-1)]: Done  24 tasks      | elapsed: 75.4min\n"
     ]
    },
    {
     "ename": "KeyboardInterrupt",
     "evalue": "",
     "output_type": "error",
     "traceback": [
      "\u001b[1;31m---------------------------------------------------------------------------\u001b[0m",
      "\u001b[1;31mKeyboardInterrupt\u001b[0m                         Traceback (most recent call last)",
      "\u001b[1;32m<ipython-input-93-3fff75593f2b>\u001b[0m in \u001b[0;36m<module>\u001b[1;34m\u001b[0m\n\u001b[0;32m      9\u001b[0m \u001b[0mgrid\u001b[0m \u001b[1;33m=\u001b[0m \u001b[0mGridSearchCV\u001b[0m\u001b[1;33m(\u001b[0m\u001b[0mboost\u001b[0m\u001b[1;33m,\u001b[0m \u001b[0mparam_grid\u001b[0m\u001b[1;33m,\u001b[0m \u001b[0mn_jobs\u001b[0m\u001b[1;33m=\u001b[0m\u001b[1;33m-\u001b[0m\u001b[1;36m1\u001b[0m\u001b[1;33m,\u001b[0m \u001b[0mcv\u001b[0m\u001b[1;33m=\u001b[0m\u001b[1;36m3\u001b[0m\u001b[1;33m,\u001b[0m \u001b[0mverbose\u001b[0m\u001b[1;33m=\u001b[0m\u001b[1;36m10\u001b[0m\u001b[1;33m)\u001b[0m\u001b[1;33m\u001b[0m\u001b[1;33m\u001b[0m\u001b[0m\n\u001b[0;32m     10\u001b[0m \u001b[1;33m\u001b[0m\u001b[0m\n\u001b[1;32m---> 11\u001b[1;33m \u001b[0mgrid\u001b[0m\u001b[1;33m.\u001b[0m\u001b[0mfit\u001b[0m\u001b[1;33m(\u001b[0m\u001b[0mX\u001b[0m\u001b[1;33m,\u001b[0m \u001b[0my\u001b[0m\u001b[1;33m)\u001b[0m\u001b[1;33m\u001b[0m\u001b[1;33m\u001b[0m\u001b[0m\n\u001b[0m",
      "\u001b[1;32m~\\Anaconda3\\envs\\ebird-project\\lib\\site-packages\\sklearn\\model_selection\\_search.py\u001b[0m in \u001b[0;36mfit\u001b[1;34m(self, X, y, groups, **fit_params)\u001b[0m\n\u001b[0;32m    708\u001b[0m                 \u001b[1;32mreturn\u001b[0m \u001b[0mresults\u001b[0m\u001b[1;33m\u001b[0m\u001b[1;33m\u001b[0m\u001b[0m\n\u001b[0;32m    709\u001b[0m \u001b[1;33m\u001b[0m\u001b[0m\n\u001b[1;32m--> 710\u001b[1;33m             \u001b[0mself\u001b[0m\u001b[1;33m.\u001b[0m\u001b[0m_run_search\u001b[0m\u001b[1;33m(\u001b[0m\u001b[0mevaluate_candidates\u001b[0m\u001b[1;33m)\u001b[0m\u001b[1;33m\u001b[0m\u001b[1;33m\u001b[0m\u001b[0m\n\u001b[0m\u001b[0;32m    711\u001b[0m \u001b[1;33m\u001b[0m\u001b[0m\n\u001b[0;32m    712\u001b[0m         \u001b[1;31m# For multi-metric evaluation, store the best_index_, best_params_ and\u001b[0m\u001b[1;33m\u001b[0m\u001b[1;33m\u001b[0m\u001b[1;33m\u001b[0m\u001b[0m\n",
      "\u001b[1;32m~\\Anaconda3\\envs\\ebird-project\\lib\\site-packages\\sklearn\\model_selection\\_search.py\u001b[0m in \u001b[0;36m_run_search\u001b[1;34m(self, evaluate_candidates)\u001b[0m\n\u001b[0;32m   1149\u001b[0m     \u001b[1;32mdef\u001b[0m \u001b[0m_run_search\u001b[0m\u001b[1;33m(\u001b[0m\u001b[0mself\u001b[0m\u001b[1;33m,\u001b[0m \u001b[0mevaluate_candidates\u001b[0m\u001b[1;33m)\u001b[0m\u001b[1;33m:\u001b[0m\u001b[1;33m\u001b[0m\u001b[1;33m\u001b[0m\u001b[0m\n\u001b[0;32m   1150\u001b[0m         \u001b[1;34m\"\"\"Search all candidates in param_grid\"\"\"\u001b[0m\u001b[1;33m\u001b[0m\u001b[1;33m\u001b[0m\u001b[0m\n\u001b[1;32m-> 1151\u001b[1;33m         \u001b[0mevaluate_candidates\u001b[0m\u001b[1;33m(\u001b[0m\u001b[0mParameterGrid\u001b[0m\u001b[1;33m(\u001b[0m\u001b[0mself\u001b[0m\u001b[1;33m.\u001b[0m\u001b[0mparam_grid\u001b[0m\u001b[1;33m)\u001b[0m\u001b[1;33m)\u001b[0m\u001b[1;33m\u001b[0m\u001b[1;33m\u001b[0m\u001b[0m\n\u001b[0m\u001b[0;32m   1152\u001b[0m \u001b[1;33m\u001b[0m\u001b[0m\n\u001b[0;32m   1153\u001b[0m \u001b[1;33m\u001b[0m\u001b[0m\n",
      "\u001b[1;32m~\\Anaconda3\\envs\\ebird-project\\lib\\site-packages\\sklearn\\model_selection\\_search.py\u001b[0m in \u001b[0;36mevaluate_candidates\u001b[1;34m(candidate_params)\u001b[0m\n\u001b[0;32m    680\u001b[0m                               n_splits, n_candidates, n_candidates * n_splits))\n\u001b[0;32m    681\u001b[0m \u001b[1;33m\u001b[0m\u001b[0m\n\u001b[1;32m--> 682\u001b[1;33m                 out = parallel(delayed(_fit_and_score)(clone(base_estimator),\n\u001b[0m\u001b[0;32m    683\u001b[0m                                                        \u001b[0mX\u001b[0m\u001b[1;33m,\u001b[0m \u001b[0my\u001b[0m\u001b[1;33m,\u001b[0m\u001b[1;33m\u001b[0m\u001b[1;33m\u001b[0m\u001b[0m\n\u001b[0;32m    684\u001b[0m                                                        \u001b[0mtrain\u001b[0m\u001b[1;33m=\u001b[0m\u001b[0mtrain\u001b[0m\u001b[1;33m,\u001b[0m \u001b[0mtest\u001b[0m\u001b[1;33m=\u001b[0m\u001b[0mtest\u001b[0m\u001b[1;33m,\u001b[0m\u001b[1;33m\u001b[0m\u001b[1;33m\u001b[0m\u001b[0m\n",
      "\u001b[1;32m~\\Anaconda3\\envs\\ebird-project\\lib\\site-packages\\joblib\\parallel.py\u001b[0m in \u001b[0;36m__call__\u001b[1;34m(self, iterable)\u001b[0m\n\u001b[0;32m   1015\u001b[0m \u001b[1;33m\u001b[0m\u001b[0m\n\u001b[0;32m   1016\u001b[0m             \u001b[1;32mwith\u001b[0m \u001b[0mself\u001b[0m\u001b[1;33m.\u001b[0m\u001b[0m_backend\u001b[0m\u001b[1;33m.\u001b[0m\u001b[0mretrieval_context\u001b[0m\u001b[1;33m(\u001b[0m\u001b[1;33m)\u001b[0m\u001b[1;33m:\u001b[0m\u001b[1;33m\u001b[0m\u001b[1;33m\u001b[0m\u001b[0m\n\u001b[1;32m-> 1017\u001b[1;33m                 \u001b[0mself\u001b[0m\u001b[1;33m.\u001b[0m\u001b[0mretrieve\u001b[0m\u001b[1;33m(\u001b[0m\u001b[1;33m)\u001b[0m\u001b[1;33m\u001b[0m\u001b[1;33m\u001b[0m\u001b[0m\n\u001b[0m\u001b[0;32m   1018\u001b[0m             \u001b[1;31m# Make sure that we get a last message telling us we are done\u001b[0m\u001b[1;33m\u001b[0m\u001b[1;33m\u001b[0m\u001b[1;33m\u001b[0m\u001b[0m\n\u001b[0;32m   1019\u001b[0m             \u001b[0melapsed_time\u001b[0m \u001b[1;33m=\u001b[0m \u001b[0mtime\u001b[0m\u001b[1;33m.\u001b[0m\u001b[0mtime\u001b[0m\u001b[1;33m(\u001b[0m\u001b[1;33m)\u001b[0m \u001b[1;33m-\u001b[0m \u001b[0mself\u001b[0m\u001b[1;33m.\u001b[0m\u001b[0m_start_time\u001b[0m\u001b[1;33m\u001b[0m\u001b[1;33m\u001b[0m\u001b[0m\n",
      "\u001b[1;32m~\\Anaconda3\\envs\\ebird-project\\lib\\site-packages\\joblib\\parallel.py\u001b[0m in \u001b[0;36mretrieve\u001b[1;34m(self)\u001b[0m\n\u001b[0;32m    907\u001b[0m             \u001b[1;32mtry\u001b[0m\u001b[1;33m:\u001b[0m\u001b[1;33m\u001b[0m\u001b[1;33m\u001b[0m\u001b[0m\n\u001b[0;32m    908\u001b[0m                 \u001b[1;32mif\u001b[0m \u001b[0mgetattr\u001b[0m\u001b[1;33m(\u001b[0m\u001b[0mself\u001b[0m\u001b[1;33m.\u001b[0m\u001b[0m_backend\u001b[0m\u001b[1;33m,\u001b[0m \u001b[1;34m'supports_timeout'\u001b[0m\u001b[1;33m,\u001b[0m \u001b[1;32mFalse\u001b[0m\u001b[1;33m)\u001b[0m\u001b[1;33m:\u001b[0m\u001b[1;33m\u001b[0m\u001b[1;33m\u001b[0m\u001b[0m\n\u001b[1;32m--> 909\u001b[1;33m                     \u001b[0mself\u001b[0m\u001b[1;33m.\u001b[0m\u001b[0m_output\u001b[0m\u001b[1;33m.\u001b[0m\u001b[0mextend\u001b[0m\u001b[1;33m(\u001b[0m\u001b[0mjob\u001b[0m\u001b[1;33m.\u001b[0m\u001b[0mget\u001b[0m\u001b[1;33m(\u001b[0m\u001b[0mtimeout\u001b[0m\u001b[1;33m=\u001b[0m\u001b[0mself\u001b[0m\u001b[1;33m.\u001b[0m\u001b[0mtimeout\u001b[0m\u001b[1;33m)\u001b[0m\u001b[1;33m)\u001b[0m\u001b[1;33m\u001b[0m\u001b[1;33m\u001b[0m\u001b[0m\n\u001b[0m\u001b[0;32m    910\u001b[0m                 \u001b[1;32melse\u001b[0m\u001b[1;33m:\u001b[0m\u001b[1;33m\u001b[0m\u001b[1;33m\u001b[0m\u001b[0m\n\u001b[0;32m    911\u001b[0m                     \u001b[0mself\u001b[0m\u001b[1;33m.\u001b[0m\u001b[0m_output\u001b[0m\u001b[1;33m.\u001b[0m\u001b[0mextend\u001b[0m\u001b[1;33m(\u001b[0m\u001b[0mjob\u001b[0m\u001b[1;33m.\u001b[0m\u001b[0mget\u001b[0m\u001b[1;33m(\u001b[0m\u001b[1;33m)\u001b[0m\u001b[1;33m)\u001b[0m\u001b[1;33m\u001b[0m\u001b[1;33m\u001b[0m\u001b[0m\n",
      "\u001b[1;32m~\\Anaconda3\\envs\\ebird-project\\lib\\site-packages\\joblib\\_parallel_backends.py\u001b[0m in \u001b[0;36mwrap_future_result\u001b[1;34m(future, timeout)\u001b[0m\n\u001b[0;32m    560\u001b[0m         AsyncResults.get from multiprocessing.\"\"\"\n\u001b[0;32m    561\u001b[0m         \u001b[1;32mtry\u001b[0m\u001b[1;33m:\u001b[0m\u001b[1;33m\u001b[0m\u001b[1;33m\u001b[0m\u001b[0m\n\u001b[1;32m--> 562\u001b[1;33m             \u001b[1;32mreturn\u001b[0m \u001b[0mfuture\u001b[0m\u001b[1;33m.\u001b[0m\u001b[0mresult\u001b[0m\u001b[1;33m(\u001b[0m\u001b[0mtimeout\u001b[0m\u001b[1;33m=\u001b[0m\u001b[0mtimeout\u001b[0m\u001b[1;33m)\u001b[0m\u001b[1;33m\u001b[0m\u001b[1;33m\u001b[0m\u001b[0m\n\u001b[0m\u001b[0;32m    563\u001b[0m         \u001b[1;32mexcept\u001b[0m \u001b[0mLokyTimeoutError\u001b[0m\u001b[1;33m:\u001b[0m\u001b[1;33m\u001b[0m\u001b[1;33m\u001b[0m\u001b[0m\n\u001b[0;32m    564\u001b[0m             \u001b[1;32mraise\u001b[0m \u001b[0mTimeoutError\u001b[0m\u001b[1;33m(\u001b[0m\u001b[1;33m)\u001b[0m\u001b[1;33m\u001b[0m\u001b[1;33m\u001b[0m\u001b[0m\n",
      "\u001b[1;32m~\\Anaconda3\\envs\\ebird-project\\lib\\concurrent\\futures\\_base.py\u001b[0m in \u001b[0;36mresult\u001b[1;34m(self, timeout)\u001b[0m\n\u001b[0;32m    432\u001b[0m                 \u001b[1;32mreturn\u001b[0m \u001b[0mself\u001b[0m\u001b[1;33m.\u001b[0m\u001b[0m__get_result\u001b[0m\u001b[1;33m(\u001b[0m\u001b[1;33m)\u001b[0m\u001b[1;33m\u001b[0m\u001b[1;33m\u001b[0m\u001b[0m\n\u001b[0;32m    433\u001b[0m \u001b[1;33m\u001b[0m\u001b[0m\n\u001b[1;32m--> 434\u001b[1;33m             \u001b[0mself\u001b[0m\u001b[1;33m.\u001b[0m\u001b[0m_condition\u001b[0m\u001b[1;33m.\u001b[0m\u001b[0mwait\u001b[0m\u001b[1;33m(\u001b[0m\u001b[0mtimeout\u001b[0m\u001b[1;33m)\u001b[0m\u001b[1;33m\u001b[0m\u001b[1;33m\u001b[0m\u001b[0m\n\u001b[0m\u001b[0;32m    435\u001b[0m \u001b[1;33m\u001b[0m\u001b[0m\n\u001b[0;32m    436\u001b[0m             \u001b[1;32mif\u001b[0m \u001b[0mself\u001b[0m\u001b[1;33m.\u001b[0m\u001b[0m_state\u001b[0m \u001b[1;32min\u001b[0m \u001b[1;33m[\u001b[0m\u001b[0mCANCELLED\u001b[0m\u001b[1;33m,\u001b[0m \u001b[0mCANCELLED_AND_NOTIFIED\u001b[0m\u001b[1;33m]\u001b[0m\u001b[1;33m:\u001b[0m\u001b[1;33m\u001b[0m\u001b[1;33m\u001b[0m\u001b[0m\n",
      "\u001b[1;32m~\\Anaconda3\\envs\\ebird-project\\lib\\threading.py\u001b[0m in \u001b[0;36mwait\u001b[1;34m(self, timeout)\u001b[0m\n\u001b[0;32m    300\u001b[0m         \u001b[1;32mtry\u001b[0m\u001b[1;33m:\u001b[0m    \u001b[1;31m# restore state no matter what (e.g., KeyboardInterrupt)\u001b[0m\u001b[1;33m\u001b[0m\u001b[1;33m\u001b[0m\u001b[0m\n\u001b[0;32m    301\u001b[0m             \u001b[1;32mif\u001b[0m \u001b[0mtimeout\u001b[0m \u001b[1;32mis\u001b[0m \u001b[1;32mNone\u001b[0m\u001b[1;33m:\u001b[0m\u001b[1;33m\u001b[0m\u001b[1;33m\u001b[0m\u001b[0m\n\u001b[1;32m--> 302\u001b[1;33m                 \u001b[0mwaiter\u001b[0m\u001b[1;33m.\u001b[0m\u001b[0macquire\u001b[0m\u001b[1;33m(\u001b[0m\u001b[1;33m)\u001b[0m\u001b[1;33m\u001b[0m\u001b[1;33m\u001b[0m\u001b[0m\n\u001b[0m\u001b[0;32m    303\u001b[0m                 \u001b[0mgotit\u001b[0m \u001b[1;33m=\u001b[0m \u001b[1;32mTrue\u001b[0m\u001b[1;33m\u001b[0m\u001b[1;33m\u001b[0m\u001b[0m\n\u001b[0;32m    304\u001b[0m             \u001b[1;32melse\u001b[0m\u001b[1;33m:\u001b[0m\u001b[1;33m\u001b[0m\u001b[1;33m\u001b[0m\u001b[0m\n",
      "\u001b[1;31mKeyboardInterrupt\u001b[0m: "
     ]
    }
   ],
   "source": [
    "# boost = GradientBoostingClassifier(random_state=42)\n",
    "\n",
    "# param_grid = {\n",
    "#     \"n_estimators\": [100, 500, 1000],\n",
    "#     \"learning_rate\": [0.001, 0.01, 0.1],\n",
    "#     \"max_depth\": [3, 5, 10, None]\n",
    "# }\n",
    "\n",
    "# grid = GridSearchCV(boost, param_grid, n_jobs=-1, cv=3, verbose=10)\n",
    "\n",
    "# grid.fit(X, y)"
   ]
  },
  {
   "cell_type": "code",
   "execution_count": 94,
   "metadata": {},
   "outputs": [
    {
     "data": {
      "text/plain": [
       "0.7713832395788259"
      ]
     },
     "execution_count": 94,
     "metadata": {},
     "output_type": "execute_result"
    }
   ],
   "source": [
    "boost = GradientBoostingClassifier(n_estimators=500, learning_rate=0.01, random_state=42)\n",
    "\n",
    "X_train, X_test, y_train, y_test = train_test_split(X, y, test_size=0.2)\n",
    "\n",
    "boost.fit(X_train, y_train)\n",
    "\n",
    "boost.score(X_test, y_test)"
   ]
  },
  {
   "cell_type": "markdown",
   "metadata": {},
   "source": [
    "## Hashing Encoder"
   ]
  },
  {
   "cell_type": "code",
   "execution_count": 62,
   "metadata": {},
   "outputs": [
    {
     "data": {
      "text/html": [
       "<div>\n",
       "<style scoped>\n",
       "    .dataframe tbody tr th:only-of-type {\n",
       "        vertical-align: middle;\n",
       "    }\n",
       "\n",
       "    .dataframe tbody tr th {\n",
       "        vertical-align: top;\n",
       "    }\n",
       "\n",
       "    .dataframe thead th {\n",
       "        text-align: right;\n",
       "    }\n",
       "</style>\n",
       "<table border=\"1\" class=\"dataframe\">\n",
       "  <thead>\n",
       "    <tr style=\"text-align: right;\">\n",
       "      <th></th>\n",
       "      <th>name</th>\n",
       "      <th>season</th>\n",
       "      <th>RegionName</th>\n",
       "      <th>latitude</th>\n",
       "      <th>longitude</th>\n",
       "    </tr>\n",
       "  </thead>\n",
       "  <tbody>\n",
       "    <tr>\n",
       "      <th>0</th>\n",
       "      <td>Magnolia Warbler</td>\n",
       "      <td>Summer</td>\n",
       "      <td>Great Lakes</td>\n",
       "      <td>41.775629</td>\n",
       "      <td>-87.583273</td>\n",
       "    </tr>\n",
       "    <tr>\n",
       "      <th>1</th>\n",
       "      <td>Great Blue Heron</td>\n",
       "      <td>Summer</td>\n",
       "      <td>Great Lakes</td>\n",
       "      <td>41.956746</td>\n",
       "      <td>-87.913027</td>\n",
       "    </tr>\n",
       "    <tr>\n",
       "      <th>2</th>\n",
       "      <td>Purple Martin</td>\n",
       "      <td>Summer</td>\n",
       "      <td>Great Lakes</td>\n",
       "      <td>41.707907</td>\n",
       "      <td>-87.886848</td>\n",
       "    </tr>\n",
       "    <tr>\n",
       "      <th>3</th>\n",
       "      <td>Common Yellowthroat</td>\n",
       "      <td>Summer</td>\n",
       "      <td>Great Lakes</td>\n",
       "      <td>41.707907</td>\n",
       "      <td>-87.886848</td>\n",
       "    </tr>\n",
       "    <tr>\n",
       "      <th>4</th>\n",
       "      <td>Eastern Towhee</td>\n",
       "      <td>Summer</td>\n",
       "      <td>Great Lakes</td>\n",
       "      <td>41.707907</td>\n",
       "      <td>-87.886848</td>\n",
       "    </tr>\n",
       "    <tr>\n",
       "      <th>...</th>\n",
       "      <td>...</td>\n",
       "      <td>...</td>\n",
       "      <td>...</td>\n",
       "      <td>...</td>\n",
       "      <td>...</td>\n",
       "    </tr>\n",
       "    <tr>\n",
       "      <th>103987</th>\n",
       "      <td>Inca Dove</td>\n",
       "      <td>Summer</td>\n",
       "      <td>Appohzarka</td>\n",
       "      <td>34.426782</td>\n",
       "      <td>-97.149598</td>\n",
       "    </tr>\n",
       "    <tr>\n",
       "      <th>103988</th>\n",
       "      <td>Eastern Phoebe</td>\n",
       "      <td>Spring</td>\n",
       "      <td>Appohzarka</td>\n",
       "      <td>34.426782</td>\n",
       "      <td>-97.149598</td>\n",
       "    </tr>\n",
       "    <tr>\n",
       "      <th>103989</th>\n",
       "      <td>Wood Stork</td>\n",
       "      <td>Spring</td>\n",
       "      <td>Deep South</td>\n",
       "      <td>31.667925</td>\n",
       "      <td>-81.845470</td>\n",
       "    </tr>\n",
       "    <tr>\n",
       "      <th>103990</th>\n",
       "      <td>Eastern Towhee</td>\n",
       "      <td>Spring</td>\n",
       "      <td>Appohzarka</td>\n",
       "      <td>35.116398</td>\n",
       "      <td>-87.208443</td>\n",
       "    </tr>\n",
       "    <tr>\n",
       "      <th>103991</th>\n",
       "      <td>American Crow</td>\n",
       "      <td>Spring</td>\n",
       "      <td>Deep South</td>\n",
       "      <td>32.647283</td>\n",
       "      <td>-88.495162</td>\n",
       "    </tr>\n",
       "  </tbody>\n",
       "</table>\n",
       "<p>103992 rows × 5 columns</p>\n",
       "</div>"
      ],
      "text/plain": [
       "                       name  season   RegionName   latitude  longitude\n",
       "0          Magnolia Warbler  Summer  Great Lakes  41.775629 -87.583273\n",
       "1          Great Blue Heron  Summer  Great Lakes  41.956746 -87.913027\n",
       "2             Purple Martin  Summer  Great Lakes  41.707907 -87.886848\n",
       "3       Common Yellowthroat  Summer  Great Lakes  41.707907 -87.886848\n",
       "4            Eastern Towhee  Summer  Great Lakes  41.707907 -87.886848\n",
       "...                     ...     ...          ...        ...        ...\n",
       "103987            Inca Dove  Summer   Appohzarka  34.426782 -97.149598\n",
       "103988       Eastern Phoebe  Spring   Appohzarka  34.426782 -97.149598\n",
       "103989           Wood Stork  Spring   Deep South  31.667925 -81.845470\n",
       "103990       Eastern Towhee  Spring   Appohzarka  35.116398 -87.208443\n",
       "103991        American Crow  Spring   Deep South  32.647283 -88.495162\n",
       "\n",
       "[103992 rows x 5 columns]"
      ]
     },
     "execution_count": 62,
     "metadata": {},
     "output_type": "execute_result"
    }
   ],
   "source": [
    "features = ['name', 'season', 'RegionName', 'latitude', 'longitude']\n",
    "target = 'target'\n",
    "\n",
    "X = df[features]\n",
    "y = df[target]\n",
    "\n",
    "encoder = ce.HashingEncoder()\n",
    "\n",
    "X = encoder.fit_transform(X)\n",
    "\n",
    "X"
   ]
  },
  {
   "cell_type": "code",
   "execution_count": 65,
   "metadata": {},
   "outputs": [
    {
     "data": {
      "text/html": [
       "<div>\n",
       "<style scoped>\n",
       "    .dataframe tbody tr th:only-of-type {\n",
       "        vertical-align: middle;\n",
       "    }\n",
       "\n",
       "    .dataframe tbody tr th {\n",
       "        vertical-align: top;\n",
       "    }\n",
       "\n",
       "    .dataframe thead th {\n",
       "        text-align: right;\n",
       "    }\n",
       "</style>\n",
       "<table border=\"1\" class=\"dataframe\">\n",
       "  <thead>\n",
       "    <tr style=\"text-align: right;\">\n",
       "      <th></th>\n",
       "      <th>name</th>\n",
       "      <th>season</th>\n",
       "      <th>RegionName</th>\n",
       "      <th>latitude</th>\n",
       "      <th>longitude</th>\n",
       "    </tr>\n",
       "  </thead>\n",
       "  <tbody>\n",
       "    <tr>\n",
       "      <th>0</th>\n",
       "      <td>Magnolia Warbler</td>\n",
       "      <td>Summer</td>\n",
       "      <td>Great Lakes</td>\n",
       "      <td>41.775629</td>\n",
       "      <td>-87.583273</td>\n",
       "    </tr>\n",
       "    <tr>\n",
       "      <th>1</th>\n",
       "      <td>Great Blue Heron</td>\n",
       "      <td>Summer</td>\n",
       "      <td>Great Lakes</td>\n",
       "      <td>41.956746</td>\n",
       "      <td>-87.913027</td>\n",
       "    </tr>\n",
       "    <tr>\n",
       "      <th>2</th>\n",
       "      <td>Purple Martin</td>\n",
       "      <td>Summer</td>\n",
       "      <td>Great Lakes</td>\n",
       "      <td>41.707907</td>\n",
       "      <td>-87.886848</td>\n",
       "    </tr>\n",
       "    <tr>\n",
       "      <th>3</th>\n",
       "      <td>Common Yellowthroat</td>\n",
       "      <td>Summer</td>\n",
       "      <td>Great Lakes</td>\n",
       "      <td>41.707907</td>\n",
       "      <td>-87.886848</td>\n",
       "    </tr>\n",
       "    <tr>\n",
       "      <th>4</th>\n",
       "      <td>Eastern Towhee</td>\n",
       "      <td>Summer</td>\n",
       "      <td>Great Lakes</td>\n",
       "      <td>41.707907</td>\n",
       "      <td>-87.886848</td>\n",
       "    </tr>\n",
       "    <tr>\n",
       "      <th>...</th>\n",
       "      <td>...</td>\n",
       "      <td>...</td>\n",
       "      <td>...</td>\n",
       "      <td>...</td>\n",
       "      <td>...</td>\n",
       "    </tr>\n",
       "    <tr>\n",
       "      <th>103987</th>\n",
       "      <td>Inca Dove</td>\n",
       "      <td>Summer</td>\n",
       "      <td>Appohzarka</td>\n",
       "      <td>34.426782</td>\n",
       "      <td>-97.149598</td>\n",
       "    </tr>\n",
       "    <tr>\n",
       "      <th>103988</th>\n",
       "      <td>Eastern Phoebe</td>\n",
       "      <td>Spring</td>\n",
       "      <td>Appohzarka</td>\n",
       "      <td>34.426782</td>\n",
       "      <td>-97.149598</td>\n",
       "    </tr>\n",
       "    <tr>\n",
       "      <th>103989</th>\n",
       "      <td>Wood Stork</td>\n",
       "      <td>Spring</td>\n",
       "      <td>Deep South</td>\n",
       "      <td>31.667925</td>\n",
       "      <td>-81.845470</td>\n",
       "    </tr>\n",
       "    <tr>\n",
       "      <th>103990</th>\n",
       "      <td>Eastern Towhee</td>\n",
       "      <td>Spring</td>\n",
       "      <td>Appohzarka</td>\n",
       "      <td>35.116398</td>\n",
       "      <td>-87.208443</td>\n",
       "    </tr>\n",
       "    <tr>\n",
       "      <th>103991</th>\n",
       "      <td>American Crow</td>\n",
       "      <td>Spring</td>\n",
       "      <td>Deep South</td>\n",
       "      <td>32.647283</td>\n",
       "      <td>-88.495162</td>\n",
       "    </tr>\n",
       "  </tbody>\n",
       "</table>\n",
       "<p>103992 rows × 5 columns</p>\n",
       "</div>"
      ],
      "text/plain": [
       "                       name  season   RegionName   latitude  longitude\n",
       "0          Magnolia Warbler  Summer  Great Lakes  41.775629 -87.583273\n",
       "1          Great Blue Heron  Summer  Great Lakes  41.956746 -87.913027\n",
       "2             Purple Martin  Summer  Great Lakes  41.707907 -87.886848\n",
       "3       Common Yellowthroat  Summer  Great Lakes  41.707907 -87.886848\n",
       "4            Eastern Towhee  Summer  Great Lakes  41.707907 -87.886848\n",
       "...                     ...     ...          ...        ...        ...\n",
       "103987            Inca Dove  Summer   Appohzarka  34.426782 -97.149598\n",
       "103988       Eastern Phoebe  Spring   Appohzarka  34.426782 -97.149598\n",
       "103989           Wood Stork  Spring   Deep South  31.667925 -81.845470\n",
       "103990       Eastern Towhee  Spring   Appohzarka  35.116398 -87.208443\n",
       "103991        American Crow  Spring   Deep South  32.647283 -88.495162\n",
       "\n",
       "[103992 rows x 5 columns]"
      ]
     },
     "execution_count": 65,
     "metadata": {},
     "output_type": "execute_result"
    }
   ],
   "source": [
    "encoder.fit(X).transform(X)"
   ]
  },
  {
   "cell_type": "code",
   "execution_count": 66,
   "metadata": {},
   "outputs": [
    {
     "data": {
      "text/plain": [
       "HashingEncoder(cols=['name', 'season', 'RegionName'], drop_invariant=False,\n",
       "               hash_method='md5', max_process=2, max_sample=51996,\n",
       "               n_components=8, return_df=True, verbose=0)"
      ]
     },
     "execution_count": 66,
     "metadata": {},
     "output_type": "execute_result"
    }
   ],
   "source": [
    "encoder"
   ]
  },
  {
   "cell_type": "markdown",
   "metadata": {},
   "source": [
    "## Target Encoding"
   ]
  },
  {
   "cell_type": "code",
   "execution_count": 34,
   "metadata": {},
   "outputs": [],
   "source": [
    "encoder = ce.TargetEncoder()\n",
    "\n",
    "features = ['name', 'season', 'RegionName', 'latitude', 'longitude']\n",
    "target = 'target'\n",
    "\n",
    "X = df[features]\n",
    "y = df[target]\n",
    "\n",
    "\n",
    "X = encoder.fit_transform(X, y)"
   ]
  },
  {
   "cell_type": "code",
   "execution_count": 35,
   "metadata": {},
   "outputs": [
    {
     "data": {
      "text/html": [
       "<div>\n",
       "<style scoped>\n",
       "    .dataframe tbody tr th:only-of-type {\n",
       "        vertical-align: middle;\n",
       "    }\n",
       "\n",
       "    .dataframe tbody tr th {\n",
       "        vertical-align: top;\n",
       "    }\n",
       "\n",
       "    .dataframe thead th {\n",
       "        text-align: right;\n",
       "    }\n",
       "</style>\n",
       "<table border=\"1\" class=\"dataframe\">\n",
       "  <thead>\n",
       "    <tr style=\"text-align: right;\">\n",
       "      <th></th>\n",
       "      <th>name</th>\n",
       "      <th>season</th>\n",
       "      <th>RegionName</th>\n",
       "      <th>latitude</th>\n",
       "      <th>longitude</th>\n",
       "    </tr>\n",
       "  </thead>\n",
       "  <tbody>\n",
       "    <tr>\n",
       "      <th>0</th>\n",
       "      <td>0.717277</td>\n",
       "      <td>0.382578</td>\n",
       "      <td>0.351550</td>\n",
       "      <td>41.775629</td>\n",
       "      <td>-87.583273</td>\n",
       "    </tr>\n",
       "    <tr>\n",
       "      <th>1</th>\n",
       "      <td>0.007663</td>\n",
       "      <td>0.382578</td>\n",
       "      <td>0.351550</td>\n",
       "      <td>41.956746</td>\n",
       "      <td>-87.913027</td>\n",
       "    </tr>\n",
       "    <tr>\n",
       "      <th>2</th>\n",
       "      <td>0.502128</td>\n",
       "      <td>0.382578</td>\n",
       "      <td>0.351550</td>\n",
       "      <td>41.707907</td>\n",
       "      <td>-87.886848</td>\n",
       "    </tr>\n",
       "    <tr>\n",
       "      <th>3</th>\n",
       "      <td>0.105183</td>\n",
       "      <td>0.382578</td>\n",
       "      <td>0.351550</td>\n",
       "      <td>41.707907</td>\n",
       "      <td>-87.886848</td>\n",
       "    </tr>\n",
       "    <tr>\n",
       "      <th>4</th>\n",
       "      <td>0.053305</td>\n",
       "      <td>0.382578</td>\n",
       "      <td>0.351550</td>\n",
       "      <td>41.707907</td>\n",
       "      <td>-87.886848</td>\n",
       "    </tr>\n",
       "    <tr>\n",
       "      <th>...</th>\n",
       "      <td>...</td>\n",
       "      <td>...</td>\n",
       "      <td>...</td>\n",
       "      <td>...</td>\n",
       "      <td>...</td>\n",
       "    </tr>\n",
       "    <tr>\n",
       "      <th>103987</th>\n",
       "      <td>0.685714</td>\n",
       "      <td>0.382578</td>\n",
       "      <td>0.333846</td>\n",
       "      <td>34.426782</td>\n",
       "      <td>-97.149598</td>\n",
       "    </tr>\n",
       "    <tr>\n",
       "      <th>103988</th>\n",
       "      <td>0.166667</td>\n",
       "      <td>0.425927</td>\n",
       "      <td>0.333846</td>\n",
       "      <td>34.426782</td>\n",
       "      <td>-97.149598</td>\n",
       "    </tr>\n",
       "    <tr>\n",
       "      <th>103989</th>\n",
       "      <td>0.674419</td>\n",
       "      <td>0.425927</td>\n",
       "      <td>0.371935</td>\n",
       "      <td>31.667925</td>\n",
       "      <td>-81.845470</td>\n",
       "    </tr>\n",
       "    <tr>\n",
       "      <th>103990</th>\n",
       "      <td>0.053305</td>\n",
       "      <td>0.425927</td>\n",
       "      <td>0.333846</td>\n",
       "      <td>35.116398</td>\n",
       "      <td>-87.208443</td>\n",
       "    </tr>\n",
       "    <tr>\n",
       "      <th>103991</th>\n",
       "      <td>0.021039</td>\n",
       "      <td>0.425927</td>\n",
       "      <td>0.371935</td>\n",
       "      <td>32.647283</td>\n",
       "      <td>-88.495162</td>\n",
       "    </tr>\n",
       "  </tbody>\n",
       "</table>\n",
       "<p>103992 rows × 5 columns</p>\n",
       "</div>"
      ],
      "text/plain": [
       "            name    season  RegionName   latitude  longitude\n",
       "0       0.717277  0.382578    0.351550  41.775629 -87.583273\n",
       "1       0.007663  0.382578    0.351550  41.956746 -87.913027\n",
       "2       0.502128  0.382578    0.351550  41.707907 -87.886848\n",
       "3       0.105183  0.382578    0.351550  41.707907 -87.886848\n",
       "4       0.053305  0.382578    0.351550  41.707907 -87.886848\n",
       "...          ...       ...         ...        ...        ...\n",
       "103987  0.685714  0.382578    0.333846  34.426782 -97.149598\n",
       "103988  0.166667  0.425927    0.333846  34.426782 -97.149598\n",
       "103989  0.674419  0.425927    0.371935  31.667925 -81.845470\n",
       "103990  0.053305  0.425927    0.333846  35.116398 -87.208443\n",
       "103991  0.021039  0.425927    0.371935  32.647283 -88.495162\n",
       "\n",
       "[103992 rows x 5 columns]"
      ]
     },
     "execution_count": 35,
     "metadata": {},
     "output_type": "execute_result"
    }
   ],
   "source": [
    "X"
   ]
  },
  {
   "cell_type": "code",
   "execution_count": 37,
   "metadata": {},
   "outputs": [
    {
     "data": {
      "text/plain": [
       "((83193, 5), (20799, 5), (83193,), (20799,))"
      ]
     },
     "execution_count": 37,
     "metadata": {},
     "output_type": "execute_result"
    }
   ],
   "source": [
    "X_train, X_test, y_train, y_test = train_test_split(X, y, test_size=0.2)\n",
    "\n",
    "X_train.shape, X_test.shape, y_train.shape, y_test.shape"
   ]
  },
  {
   "cell_type": "code",
   "execution_count": 40,
   "metadata": {},
   "outputs": [
    {
     "data": {
      "text/plain": [
       "0.9101399105726237"
      ]
     },
     "execution_count": 40,
     "metadata": {},
     "output_type": "execute_result"
    }
   ],
   "source": [
    "forest = RandomForestClassifier()\n",
    "\n",
    "forest.fit(X_train, y_train)\n",
    "\n",
    "forest.score(X_test, y_test)"
   ]
  },
  {
   "cell_type": "code",
   "execution_count": 44,
   "metadata": {},
   "outputs": [],
   "source": [
    "preds = forest.predict(X_test)\n",
    "\n",
    "pred_df = pd.DataFrame({\"bird\": X_test['name'],\n",
    "              \"season\": X_test['season'],\n",
    "              \"region\": X_test['RegionName'],\n",
    "              \"true_label\": y_test,\n",
    "              \"pred_label\": preds})"
   ]
  },
  {
   "cell_type": "code",
   "execution_count": 46,
   "metadata": {},
   "outputs": [
    {
     "data": {
      "text/plain": [
       "0    14334\n",
       "1     6102\n",
       "2      363\n",
       "Name: pred_label, dtype: int64"
      ]
     },
     "execution_count": 46,
     "metadata": {},
     "output_type": "execute_result"
    }
   ],
   "source": [
    "pred_df.pred_label.value_counts()"
   ]
  },
  {
   "cell_type": "code",
   "execution_count": 47,
   "metadata": {},
   "outputs": [
    {
     "data": {
      "text/plain": [
       "0    13723\n",
       "1     6186\n",
       "2      890\n",
       "Name: target, dtype: int64"
      ]
     },
     "execution_count": 47,
     "metadata": {},
     "output_type": "execute_result"
    }
   ],
   "source": [
    "y_test.value_counts()"
   ]
  },
  {
   "cell_type": "code",
   "execution_count": 48,
   "metadata": {},
   "outputs": [
    {
     "data": {
      "text/plain": [
       "['__class__',\n",
       " '__delattr__',\n",
       " '__dict__',\n",
       " '__dir__',\n",
       " '__doc__',\n",
       " '__eq__',\n",
       " '__format__',\n",
       " '__ge__',\n",
       " '__getattribute__',\n",
       " '__getstate__',\n",
       " '__gt__',\n",
       " '__hash__',\n",
       " '__init__',\n",
       " '__init_subclass__',\n",
       " '__le__',\n",
       " '__lt__',\n",
       " '__module__',\n",
       " '__ne__',\n",
       " '__new__',\n",
       " '__reduce__',\n",
       " '__reduce_ex__',\n",
       " '__repr__',\n",
       " '__setattr__',\n",
       " '__setstate__',\n",
       " '__sizeof__',\n",
       " '__str__',\n",
       " '__subclasshook__',\n",
       " '__weakref__',\n",
       " '_dim',\n",
       " '_get_param_names',\n",
       " '_get_tags',\n",
       " '_mean',\n",
       " '_more_tags',\n",
       " 'cols',\n",
       " 'drop_cols',\n",
       " 'drop_invariant',\n",
       " 'feature_names',\n",
       " 'fit',\n",
       " 'fit_target_encoding',\n",
       " 'fit_transform',\n",
       " 'get_feature_names',\n",
       " 'get_params',\n",
       " 'handle_missing',\n",
       " 'handle_unknown',\n",
       " 'mapping',\n",
       " 'min_samples_leaf',\n",
       " 'ordinal_encoder',\n",
       " 'return_df',\n",
       " 'set_params',\n",
       " 'smoothing',\n",
       " 'target_encode',\n",
       " 'transform',\n",
       " 'verbose']"
      ]
     },
     "execution_count": 48,
     "metadata": {},
     "output_type": "execute_result"
    }
   ],
   "source": [
    "dir(encoder)"
   ]
  },
  {
   "cell_type": "code",
   "execution_count": 61,
   "metadata": {},
   "outputs": [
    {
     "ename": "TypeError",
     "evalue": "fit_target_encoding() missing 2 required positional arguments: 'X' and 'y'",
     "output_type": "error",
     "traceback": [
      "\u001b[1;31m---------------------------------------------------------------------------\u001b[0m",
      "\u001b[1;31mTypeError\u001b[0m                                 Traceback (most recent call last)",
      "\u001b[1;32m<ipython-input-61-a35748df2f29>\u001b[0m in \u001b[0;36m<module>\u001b[1;34m\u001b[0m\n\u001b[1;32m----> 1\u001b[1;33m \u001b[0mencoder\u001b[0m\u001b[1;33m.\u001b[0m\u001b[0mfit_target_encoding\u001b[0m\u001b[1;33m(\u001b[0m\u001b[1;33m)\u001b[0m\u001b[1;33m\u001b[0m\u001b[1;33m\u001b[0m\u001b[0m\n\u001b[0m",
      "\u001b[1;31mTypeError\u001b[0m: fit_target_encoding() missing 2 required positional arguments: 'X' and 'y'"
     ]
    }
   ],
   "source": [
    "encoder.fit_target_encoding()"
   ]
  },
  {
   "cell_type": "code",
   "execution_count": 55,
   "metadata": {},
   "outputs": [
    {
     "data": {
      "text/plain": [
       "{'name': name\n",
       "  1      0.717277\n",
       "  2      0.007663\n",
       "  3      0.502128\n",
       "  4      0.105183\n",
       "  5      0.053305\n",
       "           ...   \n",
       "  788    0.386693\n",
       "  789    0.386693\n",
       "  790    0.386693\n",
       " -1      0.386693\n",
       " -2      0.386693\n",
       " Length: 792, dtype: float64,\n",
       " 'season': season\n",
       "  1    0.382578\n",
       "  2    0.425927\n",
       "  3    0.400542\n",
       "  4    0.284406\n",
       " -1    0.386693\n",
       " -2    0.386693\n",
       " dtype: float64,\n",
       " 'RegionName': RegionName\n",
       "  1     0.351550\n",
       "  2     0.404454\n",
       "  3     0.525745\n",
       "  4     0.515620\n",
       "  5     0.314624\n",
       "  6     0.231455\n",
       "  7     0.371935\n",
       "  8     0.333846\n",
       "  9     0.336313\n",
       "  10    0.364355\n",
       "  11    0.394645\n",
       "  12    0.466930\n",
       "  13    0.364209\n",
       "  14    0.337215\n",
       " -1     0.386693\n",
       " -2     0.386693\n",
       " dtype: float64}"
      ]
     },
     "execution_count": 55,
     "metadata": {},
     "output_type": "execute_result"
    }
   ],
   "source": [
    "encoder.mapping"
   ]
  },
  {
   "cell_type": "code",
   "execution_count": 6,
   "metadata": {},
   "outputs": [],
   "source": [
    "from sklearn.cluster import KMeans"
   ]
  },
  {
   "cell_type": "code",
   "execution_count": 12,
   "metadata": {},
   "outputs": [
    {
     "ename": "ValueError",
     "evalue": "operands could not be broadcast together with shapes (103992,3) (103992,2) ",
     "output_type": "error",
     "traceback": [
      "\u001b[1;31m---------------------------------------------------------------------------\u001b[0m",
      "\u001b[1;31mValueError\u001b[0m                                Traceback (most recent call last)",
      "\u001b[1;32m<ipython-input-12-e0399fc7705f>\u001b[0m in \u001b[0;36m<module>\u001b[1;34m\u001b[0m\n\u001b[0;32m      4\u001b[0m \u001b[0mnum_data\u001b[0m \u001b[1;33m=\u001b[0m \u001b[0mdf\u001b[0m\u001b[1;33m[\u001b[0m\u001b[1;33m[\u001b[0m\u001b[1;34m'latitude'\u001b[0m\u001b[1;33m,\u001b[0m \u001b[1;34m'longitude'\u001b[0m\u001b[1;33m]\u001b[0m\u001b[1;33m]\u001b[0m\u001b[1;33m.\u001b[0m\u001b[0mvalues\u001b[0m\u001b[1;33m\u001b[0m\u001b[1;33m\u001b[0m\u001b[0m\n\u001b[0;32m      5\u001b[0m \u001b[1;33m\u001b[0m\u001b[0m\n\u001b[1;32m----> 6\u001b[1;33m \u001b[0mdata\u001b[0m \u001b[1;33m=\u001b[0m \u001b[0mcat_data\u001b[0m\u001b[1;33m.\u001b[0m\u001b[0mvalues\u001b[0m \u001b[1;33m+\u001b[0m \u001b[0mnum_data\u001b[0m\u001b[1;33m\u001b[0m\u001b[1;33m\u001b[0m\u001b[0m\n\u001b[0m\u001b[0;32m      7\u001b[0m \u001b[0mdata\u001b[0m\u001b[1;33m\u001b[0m\u001b[1;33m\u001b[0m\u001b[0m\n",
      "\u001b[1;31mValueError\u001b[0m: operands could not be broadcast together with shapes (103992,3) (103992,2) "
     ]
    }
   ],
   "source": [
    "encoder = ce.OrdinalEncoder()\n",
    "\n",
    "cat_data = encoder.fit_transform(df[['name', 'season', 'RegionName']])\n",
    "num_data = df[['latitude', 'longitude']].values\n",
    "\n",
    "# data = cat_data.values + num_data\n",
    "# data"
   ]
  },
  {
   "cell_type": "code",
   "execution_count": null,
   "metadata": {},
   "outputs": [],
   "source": []
  },
  {
   "cell_type": "code",
   "execution_count": 14,
   "metadata": {},
   "outputs": [],
   "source": [
    "kmeans = KMeans(n_clusters=3)\n",
    "\n",
    "groups = kmeans.fit_predict(cat_data)"
   ]
  },
  {
   "cell_type": "code",
   "execution_count": 15,
   "metadata": {},
   "outputs": [
    {
     "data": {
      "text/html": [
       "<div>\n",
       "<style scoped>\n",
       "    .dataframe tbody tr th:only-of-type {\n",
       "        vertical-align: middle;\n",
       "    }\n",
       "\n",
       "    .dataframe tbody tr th {\n",
       "        vertical-align: top;\n",
       "    }\n",
       "\n",
       "    .dataframe thead th {\n",
       "        text-align: right;\n",
       "    }\n",
       "</style>\n",
       "<table border=\"1\" class=\"dataframe\">\n",
       "  <thead>\n",
       "    <tr style=\"text-align: right;\">\n",
       "      <th></th>\n",
       "      <th>name</th>\n",
       "      <th>observ_count</th>\n",
       "      <th>country</th>\n",
       "      <th>state</th>\n",
       "      <th>county</th>\n",
       "      <th>latitude</th>\n",
       "      <th>longitude</th>\n",
       "      <th>observ_date</th>\n",
       "      <th>month</th>\n",
       "      <th>season</th>\n",
       "      <th>county_state</th>\n",
       "      <th>State</th>\n",
       "      <th>CountyName</th>\n",
       "      <th>RegionName</th>\n",
       "      <th>seas_reg_rare</th>\n",
       "      <th>pred_groups</th>\n",
       "    </tr>\n",
       "  </thead>\n",
       "  <tbody>\n",
       "    <tr>\n",
       "      <th>0</th>\n",
       "      <td>Magnolia Warbler</td>\n",
       "      <td>2</td>\n",
       "      <td>United States</td>\n",
       "      <td>Illinois</td>\n",
       "      <td>Cook</td>\n",
       "      <td>41.775629</td>\n",
       "      <td>-87.583273</td>\n",
       "      <td>1995-08-27</td>\n",
       "      <td>8</td>\n",
       "      <td>Summer</td>\n",
       "      <td>CookIllinois</td>\n",
       "      <td>Illinois</td>\n",
       "      <td>Cook</td>\n",
       "      <td>Great Lakes</td>\n",
       "      <td>Uncommon</td>\n",
       "      <td>0</td>\n",
       "    </tr>\n",
       "    <tr>\n",
       "      <th>1</th>\n",
       "      <td>Great Blue Heron</td>\n",
       "      <td>2</td>\n",
       "      <td>United States</td>\n",
       "      <td>Illinois</td>\n",
       "      <td>Cook</td>\n",
       "      <td>41.956746</td>\n",
       "      <td>-87.913027</td>\n",
       "      <td>1999-07-24</td>\n",
       "      <td>7</td>\n",
       "      <td>Summer</td>\n",
       "      <td>CookIllinois</td>\n",
       "      <td>Illinois</td>\n",
       "      <td>Cook</td>\n",
       "      <td>Great Lakes</td>\n",
       "      <td>Common</td>\n",
       "      <td>0</td>\n",
       "    </tr>\n",
       "    <tr>\n",
       "      <th>2</th>\n",
       "      <td>Purple Martin</td>\n",
       "      <td>6</td>\n",
       "      <td>United States</td>\n",
       "      <td>Illinois</td>\n",
       "      <td>Cook</td>\n",
       "      <td>41.707907</td>\n",
       "      <td>-87.886848</td>\n",
       "      <td>1965-06-19</td>\n",
       "      <td>6</td>\n",
       "      <td>Summer</td>\n",
       "      <td>CookIllinois</td>\n",
       "      <td>Illinois</td>\n",
       "      <td>Cook</td>\n",
       "      <td>Great Lakes</td>\n",
       "      <td>Common</td>\n",
       "      <td>0</td>\n",
       "    </tr>\n",
       "    <tr>\n",
       "      <th>3</th>\n",
       "      <td>Common Yellowthroat</td>\n",
       "      <td>3</td>\n",
       "      <td>United States</td>\n",
       "      <td>Illinois</td>\n",
       "      <td>Cook</td>\n",
       "      <td>41.707907</td>\n",
       "      <td>-87.886848</td>\n",
       "      <td>1965-06-19</td>\n",
       "      <td>6</td>\n",
       "      <td>Summer</td>\n",
       "      <td>CookIllinois</td>\n",
       "      <td>Illinois</td>\n",
       "      <td>Cook</td>\n",
       "      <td>Great Lakes</td>\n",
       "      <td>Common</td>\n",
       "      <td>0</td>\n",
       "    </tr>\n",
       "    <tr>\n",
       "      <th>4</th>\n",
       "      <td>Eastern Towhee</td>\n",
       "      <td>3</td>\n",
       "      <td>United States</td>\n",
       "      <td>Illinois</td>\n",
       "      <td>Cook</td>\n",
       "      <td>41.707907</td>\n",
       "      <td>-87.886848</td>\n",
       "      <td>1965-06-19</td>\n",
       "      <td>6</td>\n",
       "      <td>Summer</td>\n",
       "      <td>CookIllinois</td>\n",
       "      <td>Illinois</td>\n",
       "      <td>Cook</td>\n",
       "      <td>Great Lakes</td>\n",
       "      <td>Common</td>\n",
       "      <td>0</td>\n",
       "    </tr>\n",
       "  </tbody>\n",
       "</table>\n",
       "</div>"
      ],
      "text/plain": [
       "                  name  observ_count        country     state county  \\\n",
       "0     Magnolia Warbler             2  United States  Illinois   Cook   \n",
       "1     Great Blue Heron             2  United States  Illinois   Cook   \n",
       "2        Purple Martin             6  United States  Illinois   Cook   \n",
       "3  Common Yellowthroat             3  United States  Illinois   Cook   \n",
       "4       Eastern Towhee             3  United States  Illinois   Cook   \n",
       "\n",
       "    latitude  longitude observ_date  month  season  county_state     State  \\\n",
       "0  41.775629 -87.583273  1995-08-27      8  Summer  CookIllinois  Illinois   \n",
       "1  41.956746 -87.913027  1999-07-24      7  Summer  CookIllinois  Illinois   \n",
       "2  41.707907 -87.886848  1965-06-19      6  Summer  CookIllinois  Illinois   \n",
       "3  41.707907 -87.886848  1965-06-19      6  Summer  CookIllinois  Illinois   \n",
       "4  41.707907 -87.886848  1965-06-19      6  Summer  CookIllinois  Illinois   \n",
       "\n",
       "  CountyName   RegionName seas_reg_rare  pred_groups  \n",
       "0       Cook  Great Lakes      Uncommon            0  \n",
       "1       Cook  Great Lakes        Common            0  \n",
       "2       Cook  Great Lakes        Common            0  \n",
       "3       Cook  Great Lakes        Common            0  \n",
       "4       Cook  Great Lakes        Common            0  "
      ]
     },
     "execution_count": 15,
     "metadata": {},
     "output_type": "execute_result"
    }
   ],
   "source": [
    "df['pred_groups'] = groups\n",
    "\n",
    "df.head()"
   ]
  },
  {
   "cell_type": "code",
   "execution_count": 17,
   "metadata": {},
   "outputs": [
    {
     "data": {
      "text/plain": [
       "0    0.539378\n",
       "2    0.315149\n",
       "1    0.145473\n",
       "Name: pred_groups, dtype: float64"
      ]
     },
     "execution_count": 17,
     "metadata": {},
     "output_type": "execute_result"
    }
   ],
   "source": [
    "df.pred_groups.value_counts(normalize=True)"
   ]
  },
  {
   "cell_type": "code",
   "execution_count": 18,
   "metadata": {},
   "outputs": [],
   "source": [
    "from sklearn.metrics import confusion_matrix"
   ]
  },
  {
   "cell_type": "code",
   "execution_count": 20,
   "metadata": {},
   "outputs": [
    {
     "data": {
      "text/plain": [
       "array([[43422,  5594, 19037],\n",
       "       [11674,  7587, 12404],\n",
       "       [  995,  1947,  1332]], dtype=int64)"
      ]
     },
     "execution_count": 20,
     "metadata": {},
     "output_type": "execute_result"
    }
   ],
   "source": [
    "confusion_matrix(df['seas_reg_rare'].map({\"Common\": 0,\n",
    "                                          \"Uncommon\": 1,\n",
    "                                          \"Rare\": 2}), df['pred_groups'])\n",
    "\n"
   ]
  },
  {
   "cell_type": "code",
   "execution_count": 21,
   "metadata": {},
   "outputs": [],
   "source": [
    "from sklearn.preprocessing import OneHotEncoder"
   ]
  },
  {
   "cell_type": "code",
   "execution_count": 22,
   "metadata": {},
   "outputs": [
    {
     "ename": "ValueError",
     "evalue": "Found unknown categories ['Antillean Nighthawk', 'Kalij Pheasant', 'Great Skua', 'Corn Crake', 'Little Curlew', 'Kauai Elepaio', 'Masked Duck', 'Passenger Pigeon', \"Bulwer's Petrel\"] in column 0 during transform",
     "output_type": "error",
     "traceback": [
      "\u001b[1;31m---------------------------------------------------------------------------\u001b[0m",
      "\u001b[1;31mValueError\u001b[0m                                Traceback (most recent call last)",
      "\u001b[1;32m<ipython-input-22-b534aa6d6b81>\u001b[0m in \u001b[0;36m<module>\u001b[1;34m\u001b[0m\n\u001b[0;32m      2\u001b[0m \u001b[1;33m\u001b[0m\u001b[0m\n\u001b[0;32m      3\u001b[0m \u001b[0mX_train\u001b[0m \u001b[1;33m=\u001b[0m \u001b[0mencoder\u001b[0m\u001b[1;33m.\u001b[0m\u001b[0mfit_transform\u001b[0m\u001b[1;33m(\u001b[0m\u001b[0mX_train\u001b[0m\u001b[1;33m)\u001b[0m\u001b[1;33m\u001b[0m\u001b[1;33m\u001b[0m\u001b[0m\n\u001b[1;32m----> 4\u001b[1;33m \u001b[0mX_test\u001b[0m \u001b[1;33m=\u001b[0m \u001b[0mencoder\u001b[0m\u001b[1;33m.\u001b[0m\u001b[0mtransform\u001b[0m\u001b[1;33m(\u001b[0m\u001b[0mX_test\u001b[0m\u001b[1;33m)\u001b[0m\u001b[1;33m\u001b[0m\u001b[1;33m\u001b[0m\u001b[0m\n\u001b[0m",
      "\u001b[1;32m~\\Anaconda3\\envs\\ebird-project\\lib\\site-packages\\sklearn\\preprocessing\\_encoders.py\u001b[0m in \u001b[0;36mtransform\u001b[1;34m(self, X)\u001b[0m\n\u001b[0;32m    388\u001b[0m         \u001b[0mcheck_is_fitted\u001b[0m\u001b[1;33m(\u001b[0m\u001b[0mself\u001b[0m\u001b[1;33m)\u001b[0m\u001b[1;33m\u001b[0m\u001b[1;33m\u001b[0m\u001b[0m\n\u001b[0;32m    389\u001b[0m         \u001b[1;31m# validation of X happens in _check_X called by _transform\u001b[0m\u001b[1;33m\u001b[0m\u001b[1;33m\u001b[0m\u001b[1;33m\u001b[0m\u001b[0m\n\u001b[1;32m--> 390\u001b[1;33m         \u001b[0mX_int\u001b[0m\u001b[1;33m,\u001b[0m \u001b[0mX_mask\u001b[0m \u001b[1;33m=\u001b[0m \u001b[0mself\u001b[0m\u001b[1;33m.\u001b[0m\u001b[0m_transform\u001b[0m\u001b[1;33m(\u001b[0m\u001b[0mX\u001b[0m\u001b[1;33m,\u001b[0m \u001b[0mhandle_unknown\u001b[0m\u001b[1;33m=\u001b[0m\u001b[0mself\u001b[0m\u001b[1;33m.\u001b[0m\u001b[0mhandle_unknown\u001b[0m\u001b[1;33m)\u001b[0m\u001b[1;33m\u001b[0m\u001b[1;33m\u001b[0m\u001b[0m\n\u001b[0m\u001b[0;32m    391\u001b[0m \u001b[1;33m\u001b[0m\u001b[0m\n\u001b[0;32m    392\u001b[0m         \u001b[0mn_samples\u001b[0m\u001b[1;33m,\u001b[0m \u001b[0mn_features\u001b[0m \u001b[1;33m=\u001b[0m \u001b[0mX_int\u001b[0m\u001b[1;33m.\u001b[0m\u001b[0mshape\u001b[0m\u001b[1;33m\u001b[0m\u001b[1;33m\u001b[0m\u001b[0m\n",
      "\u001b[1;32m~\\Anaconda3\\envs\\ebird-project\\lib\\site-packages\\sklearn\\preprocessing\\_encoders.py\u001b[0m in \u001b[0;36m_transform\u001b[1;34m(self, X, handle_unknown)\u001b[0m\n\u001b[0;32m    122\u001b[0m                     msg = (\"Found unknown categories {0} in column {1}\"\n\u001b[0;32m    123\u001b[0m                            \" during transform\".format(diff, i))\n\u001b[1;32m--> 124\u001b[1;33m                     \u001b[1;32mraise\u001b[0m \u001b[0mValueError\u001b[0m\u001b[1;33m(\u001b[0m\u001b[0mmsg\u001b[0m\u001b[1;33m)\u001b[0m\u001b[1;33m\u001b[0m\u001b[1;33m\u001b[0m\u001b[0m\n\u001b[0m\u001b[0;32m    125\u001b[0m                 \u001b[1;32melse\u001b[0m\u001b[1;33m:\u001b[0m\u001b[1;33m\u001b[0m\u001b[1;33m\u001b[0m\u001b[0m\n\u001b[0;32m    126\u001b[0m                     \u001b[1;31m# Set the problematic rows to an acceptable value and\u001b[0m\u001b[1;33m\u001b[0m\u001b[1;33m\u001b[0m\u001b[1;33m\u001b[0m\u001b[0m\n",
      "\u001b[1;31mValueError\u001b[0m: Found unknown categories ['Antillean Nighthawk', 'Kalij Pheasant', 'Great Skua', 'Corn Crake', 'Little Curlew', 'Kauai Elepaio', 'Masked Duck', 'Passenger Pigeon', \"Bulwer's Petrel\"] in column 0 during transform"
     ]
    }
   ],
   "source": [
    "encoder = OneHotEncoder()\n",
    "\n",
    "X_train = encoder.fit_transform(X_train)\n",
    "X_test = encoder.transform(X_test)"
   ]
  },
  {
   "cell_type": "markdown",
   "metadata": {},
   "source": [
    "### Hashing Encoder\n",
    "\n",
    "- breaking away from this cuz its not working"
   ]
  },
  {
   "cell_type": "code",
   "execution_count": 7,
   "metadata": {},
   "outputs": [],
   "source": [
    "encoder = ce.HashingEncoder()\n",
    "\n",
    "X_train = encoder.fit_transform(X_train)\n",
    "X_test = encoder.transform(X_test)"
   ]
  },
  {
   "cell_type": "code",
   "execution_count": 8,
   "metadata": {},
   "outputs": [
    {
     "data": {
      "text/html": [
       "<div>\n",
       "<style scoped>\n",
       "    .dataframe tbody tr th:only-of-type {\n",
       "        vertical-align: middle;\n",
       "    }\n",
       "\n",
       "    .dataframe tbody tr th {\n",
       "        vertical-align: top;\n",
       "    }\n",
       "\n",
       "    .dataframe thead th {\n",
       "        text-align: right;\n",
       "    }\n",
       "</style>\n",
       "<table border=\"1\" class=\"dataframe\">\n",
       "  <thead>\n",
       "    <tr style=\"text-align: right;\">\n",
       "      <th></th>\n",
       "      <th>name</th>\n",
       "      <th>season</th>\n",
       "      <th>RegionName</th>\n",
       "      <th>latitude</th>\n",
       "      <th>longitude</th>\n",
       "    </tr>\n",
       "  </thead>\n",
       "  <tbody>\n",
       "    <tr>\n",
       "      <th>68458</th>\n",
       "      <td>Red-necked Phalarope</td>\n",
       "      <td>Fall</td>\n",
       "      <td>Heartland</td>\n",
       "      <td>45.177800</td>\n",
       "      <td>-93.501600</td>\n",
       "    </tr>\n",
       "    <tr>\n",
       "      <th>51708</th>\n",
       "      <td>House Finch</td>\n",
       "      <td>Spring</td>\n",
       "      <td>Mountain West</td>\n",
       "      <td>36.030221</td>\n",
       "      <td>-112.851305</td>\n",
       "    </tr>\n",
       "    <tr>\n",
       "      <th>43560</th>\n",
       "      <td>House Finch</td>\n",
       "      <td>Spring</td>\n",
       "      <td>Heartland</td>\n",
       "      <td>43.045578</td>\n",
       "      <td>-89.466100</td>\n",
       "    </tr>\n",
       "    <tr>\n",
       "      <th>22842</th>\n",
       "      <td>Mourning Dove</td>\n",
       "      <td>Winter</td>\n",
       "      <td>West Coast</td>\n",
       "      <td>32.759226</td>\n",
       "      <td>-117.221841</td>\n",
       "    </tr>\n",
       "    <tr>\n",
       "      <th>59836</th>\n",
       "      <td>Common Raven</td>\n",
       "      <td>Summer</td>\n",
       "      <td>Northwest</td>\n",
       "      <td>39.227499</td>\n",
       "      <td>-123.764377</td>\n",
       "    </tr>\n",
       "    <tr>\n",
       "      <th>...</th>\n",
       "      <td>...</td>\n",
       "      <td>...</td>\n",
       "      <td>...</td>\n",
       "      <td>...</td>\n",
       "      <td>...</td>\n",
       "    </tr>\n",
       "    <tr>\n",
       "      <th>103260</th>\n",
       "      <td>Northern Rough-winged Swallow</td>\n",
       "      <td>Summer</td>\n",
       "      <td>Appohzarka</td>\n",
       "      <td>34.724472</td>\n",
       "      <td>-92.761774</td>\n",
       "    </tr>\n",
       "    <tr>\n",
       "      <th>62751</th>\n",
       "      <td>Turkey Vulture</td>\n",
       "      <td>Spring</td>\n",
       "      <td>Southern Florida</td>\n",
       "      <td>26.949311</td>\n",
       "      <td>-81.030693</td>\n",
       "    </tr>\n",
       "    <tr>\n",
       "      <th>3344</th>\n",
       "      <td>Mallard</td>\n",
       "      <td>Spring</td>\n",
       "      <td>Mid-Atlantic North</td>\n",
       "      <td>39.397850</td>\n",
       "      <td>-76.986394</td>\n",
       "    </tr>\n",
       "    <tr>\n",
       "      <th>86682</th>\n",
       "      <td>Red-eyed Vireo</td>\n",
       "      <td>Spring</td>\n",
       "      <td>Northeast</td>\n",
       "      <td>42.368437</td>\n",
       "      <td>-74.439239</td>\n",
       "    </tr>\n",
       "    <tr>\n",
       "      <th>87821</th>\n",
       "      <td>Black-and-white Warbler</td>\n",
       "      <td>Summer</td>\n",
       "      <td>Mid-Atlantic North</td>\n",
       "      <td>39.582341</td>\n",
       "      <td>-75.899734</td>\n",
       "    </tr>\n",
       "  </tbody>\n",
       "</table>\n",
       "<p>83193 rows × 5 columns</p>\n",
       "</div>"
      ],
      "text/plain": [
       "                                 name  season          RegionName   latitude  \\\n",
       "68458            Red-necked Phalarope    Fall           Heartland  45.177800   \n",
       "51708                     House Finch  Spring       Mountain West  36.030221   \n",
       "43560                     House Finch  Spring           Heartland  43.045578   \n",
       "22842                   Mourning Dove  Winter          West Coast  32.759226   \n",
       "59836                    Common Raven  Summer           Northwest  39.227499   \n",
       "...                               ...     ...                 ...        ...   \n",
       "103260  Northern Rough-winged Swallow  Summer          Appohzarka  34.724472   \n",
       "62751                  Turkey Vulture  Spring    Southern Florida  26.949311   \n",
       "3344                          Mallard  Spring  Mid-Atlantic North  39.397850   \n",
       "86682                  Red-eyed Vireo  Spring           Northeast  42.368437   \n",
       "87821         Black-and-white Warbler  Summer  Mid-Atlantic North  39.582341   \n",
       "\n",
       "         longitude  \n",
       "68458   -93.501600  \n",
       "51708  -112.851305  \n",
       "43560   -89.466100  \n",
       "22842  -117.221841  \n",
       "59836  -123.764377  \n",
       "...            ...  \n",
       "103260  -92.761774  \n",
       "62751   -81.030693  \n",
       "3344    -76.986394  \n",
       "86682   -74.439239  \n",
       "87821   -75.899734  \n",
       "\n",
       "[83193 rows x 5 columns]"
      ]
     },
     "execution_count": 8,
     "metadata": {},
     "output_type": "execute_result"
    }
   ],
   "source": [
    "X_train"
   ]
  },
  {
   "cell_type": "code",
   "execution_count": 14,
   "metadata": {},
   "outputs": [
    {
     "ename": "ValueError",
     "evalue": "could not convert string to float: 'Northern Harrier'",
     "output_type": "error",
     "traceback": [
      "\u001b[1;31m---------------------------------------------------------------------------\u001b[0m",
      "\u001b[1;31mValueError\u001b[0m                                Traceback (most recent call last)",
      "\u001b[1;32m<ipython-input-14-ed5f4f24e161>\u001b[0m in \u001b[0;36m<module>\u001b[1;34m\u001b[0m\n\u001b[0;32m      1\u001b[0m \u001b[0mforest\u001b[0m \u001b[1;33m=\u001b[0m \u001b[0mRandomForestClassifier\u001b[0m\u001b[1;33m(\u001b[0m\u001b[1;33m)\u001b[0m\u001b[1;33m\u001b[0m\u001b[1;33m\u001b[0m\u001b[0m\n\u001b[0;32m      2\u001b[0m \u001b[1;33m\u001b[0m\u001b[0m\n\u001b[1;32m----> 3\u001b[1;33m \u001b[0mforest\u001b[0m\u001b[1;33m.\u001b[0m\u001b[0mfit\u001b[0m\u001b[1;33m(\u001b[0m\u001b[0mX_train\u001b[0m\u001b[1;33m,\u001b[0m \u001b[0my_train\u001b[0m\u001b[1;33m)\u001b[0m\u001b[1;33m\u001b[0m\u001b[1;33m\u001b[0m\u001b[0m\n\u001b[0m\u001b[0;32m      4\u001b[0m \u001b[0mforest\u001b[0m\u001b[1;33m.\u001b[0m\u001b[0mscore\u001b[0m\u001b[1;33m(\u001b[0m\u001b[0mX_test\u001b[0m\u001b[1;33m,\u001b[0m \u001b[0my_test\u001b[0m\u001b[1;33m)\u001b[0m\u001b[1;33m\u001b[0m\u001b[1;33m\u001b[0m\u001b[0m\n",
      "\u001b[1;32m~\\Anaconda3\\envs\\ebird-project\\lib\\site-packages\\sklearn\\ensemble\\_forest.py\u001b[0m in \u001b[0;36mfit\u001b[1;34m(self, X, y, sample_weight)\u001b[0m\n\u001b[0;32m    293\u001b[0m         \"\"\"\n\u001b[0;32m    294\u001b[0m         \u001b[1;31m# Validate or convert input data\u001b[0m\u001b[1;33m\u001b[0m\u001b[1;33m\u001b[0m\u001b[1;33m\u001b[0m\u001b[0m\n\u001b[1;32m--> 295\u001b[1;33m         \u001b[0mX\u001b[0m \u001b[1;33m=\u001b[0m \u001b[0mcheck_array\u001b[0m\u001b[1;33m(\u001b[0m\u001b[0mX\u001b[0m\u001b[1;33m,\u001b[0m \u001b[0maccept_sparse\u001b[0m\u001b[1;33m=\u001b[0m\u001b[1;34m\"csc\"\u001b[0m\u001b[1;33m,\u001b[0m \u001b[0mdtype\u001b[0m\u001b[1;33m=\u001b[0m\u001b[0mDTYPE\u001b[0m\u001b[1;33m)\u001b[0m\u001b[1;33m\u001b[0m\u001b[1;33m\u001b[0m\u001b[0m\n\u001b[0m\u001b[0;32m    296\u001b[0m         \u001b[0my\u001b[0m \u001b[1;33m=\u001b[0m \u001b[0mcheck_array\u001b[0m\u001b[1;33m(\u001b[0m\u001b[0my\u001b[0m\u001b[1;33m,\u001b[0m \u001b[0maccept_sparse\u001b[0m\u001b[1;33m=\u001b[0m\u001b[1;34m'csc'\u001b[0m\u001b[1;33m,\u001b[0m \u001b[0mensure_2d\u001b[0m\u001b[1;33m=\u001b[0m\u001b[1;32mFalse\u001b[0m\u001b[1;33m,\u001b[0m \u001b[0mdtype\u001b[0m\u001b[1;33m=\u001b[0m\u001b[1;32mNone\u001b[0m\u001b[1;33m)\u001b[0m\u001b[1;33m\u001b[0m\u001b[1;33m\u001b[0m\u001b[0m\n\u001b[0;32m    297\u001b[0m         \u001b[1;32mif\u001b[0m \u001b[0msample_weight\u001b[0m \u001b[1;32mis\u001b[0m \u001b[1;32mnot\u001b[0m \u001b[1;32mNone\u001b[0m\u001b[1;33m:\u001b[0m\u001b[1;33m\u001b[0m\u001b[1;33m\u001b[0m\u001b[0m\n",
      "\u001b[1;32m~\\Anaconda3\\envs\\ebird-project\\lib\\site-packages\\sklearn\\utils\\validation.py\u001b[0m in \u001b[0;36mcheck_array\u001b[1;34m(array, accept_sparse, accept_large_sparse, dtype, order, copy, force_all_finite, ensure_2d, allow_nd, ensure_min_samples, ensure_min_features, warn_on_dtype, estimator)\u001b[0m\n\u001b[0;32m    529\u001b[0m                     \u001b[0marray\u001b[0m \u001b[1;33m=\u001b[0m \u001b[0marray\u001b[0m\u001b[1;33m.\u001b[0m\u001b[0mastype\u001b[0m\u001b[1;33m(\u001b[0m\u001b[0mdtype\u001b[0m\u001b[1;33m,\u001b[0m \u001b[0mcasting\u001b[0m\u001b[1;33m=\u001b[0m\u001b[1;34m\"unsafe\"\u001b[0m\u001b[1;33m,\u001b[0m \u001b[0mcopy\u001b[0m\u001b[1;33m=\u001b[0m\u001b[1;32mFalse\u001b[0m\u001b[1;33m)\u001b[0m\u001b[1;33m\u001b[0m\u001b[1;33m\u001b[0m\u001b[0m\n\u001b[0;32m    530\u001b[0m                 \u001b[1;32melse\u001b[0m\u001b[1;33m:\u001b[0m\u001b[1;33m\u001b[0m\u001b[1;33m\u001b[0m\u001b[0m\n\u001b[1;32m--> 531\u001b[1;33m                     \u001b[0marray\u001b[0m \u001b[1;33m=\u001b[0m \u001b[0mnp\u001b[0m\u001b[1;33m.\u001b[0m\u001b[0masarray\u001b[0m\u001b[1;33m(\u001b[0m\u001b[0marray\u001b[0m\u001b[1;33m,\u001b[0m \u001b[0morder\u001b[0m\u001b[1;33m=\u001b[0m\u001b[0morder\u001b[0m\u001b[1;33m,\u001b[0m \u001b[0mdtype\u001b[0m\u001b[1;33m=\u001b[0m\u001b[0mdtype\u001b[0m\u001b[1;33m)\u001b[0m\u001b[1;33m\u001b[0m\u001b[1;33m\u001b[0m\u001b[0m\n\u001b[0m\u001b[0;32m    532\u001b[0m             \u001b[1;32mexcept\u001b[0m \u001b[0mComplexWarning\u001b[0m\u001b[1;33m:\u001b[0m\u001b[1;33m\u001b[0m\u001b[1;33m\u001b[0m\u001b[0m\n\u001b[0;32m    533\u001b[0m                 raise ValueError(\"Complex data not supported\\n\"\n",
      "\u001b[1;32m~\\Anaconda3\\envs\\ebird-project\\lib\\site-packages\\numpy\\core\\_asarray.py\u001b[0m in \u001b[0;36masarray\u001b[1;34m(a, dtype, order)\u001b[0m\n\u001b[0;32m     83\u001b[0m \u001b[1;33m\u001b[0m\u001b[0m\n\u001b[0;32m     84\u001b[0m     \"\"\"\n\u001b[1;32m---> 85\u001b[1;33m     \u001b[1;32mreturn\u001b[0m \u001b[0marray\u001b[0m\u001b[1;33m(\u001b[0m\u001b[0ma\u001b[0m\u001b[1;33m,\u001b[0m \u001b[0mdtype\u001b[0m\u001b[1;33m,\u001b[0m \u001b[0mcopy\u001b[0m\u001b[1;33m=\u001b[0m\u001b[1;32mFalse\u001b[0m\u001b[1;33m,\u001b[0m \u001b[0morder\u001b[0m\u001b[1;33m=\u001b[0m\u001b[0morder\u001b[0m\u001b[1;33m)\u001b[0m\u001b[1;33m\u001b[0m\u001b[1;33m\u001b[0m\u001b[0m\n\u001b[0m\u001b[0;32m     86\u001b[0m \u001b[1;33m\u001b[0m\u001b[0m\n\u001b[0;32m     87\u001b[0m \u001b[1;33m\u001b[0m\u001b[0m\n",
      "\u001b[1;31mValueError\u001b[0m: could not convert string to float: 'Northern Harrier'"
     ]
    }
   ],
   "source": [
    "forest = RandomForestClassifier()\n",
    "\n",
    "forest.fit(X_train, y_train)\n",
    "forest.score(X_test, y_test)"
   ]
  },
  {
   "cell_type": "code",
   "execution_count": null,
   "metadata": {},
   "outputs": [],
   "source": []
  }
 ],
 "metadata": {
  "kernelspec": {
   "display_name": "ebird",
   "language": "python",
   "name": "ebird-project"
  },
  "language_info": {
   "codemirror_mode": {
    "name": "ipython",
    "version": 3
   },
   "file_extension": ".py",
   "mimetype": "text/x-python",
   "name": "python",
   "nbconvert_exporter": "python",
   "pygments_lexer": "ipython3",
   "version": "3.8.2"
  }
 },
 "nbformat": 4,
 "nbformat_minor": 4
}
