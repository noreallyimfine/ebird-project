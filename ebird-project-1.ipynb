{
 "cells": [
  {
   "cell_type": "code",
   "execution_count": 1,
   "metadata": {},
   "outputs": [],
   "source": [
    "import pandas as pd"
   ]
  },
  {
   "cell_type": "code",
   "execution_count": 2,
   "metadata": {},
   "outputs": [],
   "source": [
    "import sys"
   ]
  },
  {
   "cell_type": "code",
   "execution_count": 3,
   "metadata": {},
   "outputs": [
    {
     "data": {
      "text/plain": [
       "['C:\\\\Users\\\\ajaco\\\\Desktop',\n",
       " 'C:\\\\Users\\\\ajaco\\\\Desktop\\\\repos\\\\noreallyimfine\\\\deploying-machine-learning-models\\\\packages\\\\regression_model',\n",
       " 'C:\\\\Users\\\\ajaco\\\\Anaconda3\\\\python37.zip',\n",
       " 'C:\\\\Users\\\\ajaco\\\\Anaconda3\\\\DLLs',\n",
       " 'C:\\\\Users\\\\ajaco\\\\Anaconda3\\\\lib',\n",
       " 'C:\\\\Users\\\\ajaco\\\\Anaconda3',\n",
       " '',\n",
       " 'C:\\\\Users\\\\ajaco\\\\AppData\\\\Roaming\\\\Python\\\\Python37\\\\site-packages',\n",
       " 'C:\\\\Users\\\\ajaco\\\\Anaconda3\\\\lib\\\\site-packages',\n",
       " 'C:\\\\Users\\\\ajaco\\\\Anaconda3\\\\lib\\\\site-packages\\\\win32',\n",
       " 'C:\\\\Users\\\\ajaco\\\\Anaconda3\\\\lib\\\\site-packages\\\\win32\\\\lib',\n",
       " 'C:\\\\Users\\\\ajaco\\\\Anaconda3\\\\lib\\\\site-packages\\\\Pythonwin',\n",
       " 'C:\\\\Users\\\\ajaco\\\\Anaconda3\\\\lib\\\\site-packages\\\\IPython\\\\extensions',\n",
       " 'C:\\\\Users\\\\ajaco\\\\.ipython']"
      ]
     },
     "execution_count": 3,
     "metadata": {},
     "output_type": "execute_result"
    }
   ],
   "source": [
    "sys.path"
   ]
  },
  {
   "cell_type": "code",
   "execution_count": 4,
   "metadata": {},
   "outputs": [
    {
     "name": "stdout",
     "output_type": "stream",
     "text": [
      "(10000, 46)\n"
     ]
    },
    {
     "data": {
      "text/html": [
       "<div>\n",
       "<style scoped>\n",
       "    .dataframe tbody tr th:only-of-type {\n",
       "        vertical-align: middle;\n",
       "    }\n",
       "\n",
       "    .dataframe tbody tr th {\n",
       "        vertical-align: top;\n",
       "    }\n",
       "\n",
       "    .dataframe thead th {\n",
       "        text-align: right;\n",
       "    }\n",
       "</style>\n",
       "<table border=\"1\" class=\"dataframe\">\n",
       "  <thead>\n",
       "    <tr style=\"text-align: right;\">\n",
       "      <th></th>\n",
       "      <th>GLOBAL UNIQUE IDENTIFIER</th>\n",
       "      <th>LAST EDITED DATE</th>\n",
       "      <th>TAXONOMIC ORDER</th>\n",
       "      <th>CATEGORY</th>\n",
       "      <th>COMMON NAME</th>\n",
       "      <th>SCIENTIFIC NAME</th>\n",
       "      <th>SUBSPECIES COMMON NAME</th>\n",
       "      <th>SUBSPECIES SCIENTIFIC NAME</th>\n",
       "      <th>OBSERVATION COUNT</th>\n",
       "      <th>BREEDING BIRD ATLAS CODE</th>\n",
       "      <th>...</th>\n",
       "      <th>EFFORT AREA HA</th>\n",
       "      <th>NUMBER OBSERVERS</th>\n",
       "      <th>ALL SPECIES REPORTED</th>\n",
       "      <th>GROUP IDENTIFIER</th>\n",
       "      <th>HAS MEDIA</th>\n",
       "      <th>APPROVED</th>\n",
       "      <th>REVIEWED</th>\n",
       "      <th>REASON</th>\n",
       "      <th>TRIP COMMENTS</th>\n",
       "      <th>SPECIES COMMENTS</th>\n",
       "    </tr>\n",
       "  </thead>\n",
       "  <tbody>\n",
       "    <tr>\n",
       "      <td>0</td>\n",
       "      <td>URN:CornellLabOfOrnithology:EBIRD:OBS635851573</td>\n",
       "      <td>2018-06-30 16:56:40</td>\n",
       "      <td>32793</td>\n",
       "      <td>species</td>\n",
       "      <td>Magnolia Warbler</td>\n",
       "      <td>Setophaga magnolia</td>\n",
       "      <td>NaN</td>\n",
       "      <td>NaN</td>\n",
       "      <td>2</td>\n",
       "      <td>NaN</td>\n",
       "      <td>...</td>\n",
       "      <td>NaN</td>\n",
       "      <td>1.0</td>\n",
       "      <td>1</td>\n",
       "      <td>NaN</td>\n",
       "      <td>0</td>\n",
       "      <td>1</td>\n",
       "      <td>0</td>\n",
       "      <td>NaN</td>\n",
       "      <td>Historical data from 1995 computer print-out, ...</td>\n",
       "      <td>at berm area (SW corner) of North Golf Course</td>\n",
       "    </tr>\n",
       "    <tr>\n",
       "      <td>1</td>\n",
       "      <td>URN:CornellLabOfOrnithology:EBIRD:OBS659449016</td>\n",
       "      <td>2018-09-22 14:39:01</td>\n",
       "      <td>5893</td>\n",
       "      <td>species</td>\n",
       "      <td>White-rumped Sandpiper</td>\n",
       "      <td>Calidris fuscicollis</td>\n",
       "      <td>NaN</td>\n",
       "      <td>NaN</td>\n",
       "      <td>4</td>\n",
       "      <td>NaN</td>\n",
       "      <td>...</td>\n",
       "      <td>NaN</td>\n",
       "      <td>1.0</td>\n",
       "      <td>1</td>\n",
       "      <td>NaN</td>\n",
       "      <td>0</td>\n",
       "      <td>1</td>\n",
       "      <td>0</td>\n",
       "      <td>NaN</td>\n",
       "      <td>Feuillet d'ÉPOQ no 243616. Observateur : Gilbe...</td>\n",
       "      <td>NaN</td>\n",
       "    </tr>\n",
       "    <tr>\n",
       "      <td>2</td>\n",
       "      <td>URN:CornellLabOfOrnithology:EBIRD:OBS681631650</td>\n",
       "      <td>2019-03-28 17:38:29</td>\n",
       "      <td>635</td>\n",
       "      <td>species</td>\n",
       "      <td>Common Scoter</td>\n",
       "      <td>Melanitta nigra</td>\n",
       "      <td>NaN</td>\n",
       "      <td>NaN</td>\n",
       "      <td>1</td>\n",
       "      <td>NaN</td>\n",
       "      <td>...</td>\n",
       "      <td>NaN</td>\n",
       "      <td>NaN</td>\n",
       "      <td>0</td>\n",
       "      <td>NaN</td>\n",
       "      <td>0</td>\n",
       "      <td>1</td>\n",
       "      <td>0</td>\n",
       "      <td>NaN</td>\n",
       "      <td>NaN</td>\n",
       "      <td>NaN</td>\n",
       "    </tr>\n",
       "    <tr>\n",
       "      <td>3</td>\n",
       "      <td>URN:CornellLabOfOrnithology:EBIRD:OBS683242740</td>\n",
       "      <td>2018-12-29 13:08:07</td>\n",
       "      <td>6263</td>\n",
       "      <td>species</td>\n",
       "      <td>Ring-billed Gull</td>\n",
       "      <td>Larus delawarensis</td>\n",
       "      <td>NaN</td>\n",
       "      <td>NaN</td>\n",
       "      <td>15</td>\n",
       "      <td>NaN</td>\n",
       "      <td>...</td>\n",
       "      <td>NaN</td>\n",
       "      <td>1.0</td>\n",
       "      <td>1</td>\n",
       "      <td>G3629866</td>\n",
       "      <td>0</td>\n",
       "      <td>1</td>\n",
       "      <td>0</td>\n",
       "      <td>NaN</td>\n",
       "      <td>NaN</td>\n",
       "      <td>NaN</td>\n",
       "    </tr>\n",
       "    <tr>\n",
       "      <td>4</td>\n",
       "      <td>URN:CornellLabOfOrnithology:EBIRD:OBS695389355</td>\n",
       "      <td>2019-01-07 13:49:08</td>\n",
       "      <td>32501</td>\n",
       "      <td>species</td>\n",
       "      <td>Red-winged Blackbird</td>\n",
       "      <td>Agelaius phoeniceus</td>\n",
       "      <td>NaN</td>\n",
       "      <td>NaN</td>\n",
       "      <td>500</td>\n",
       "      <td>NaN</td>\n",
       "      <td>...</td>\n",
       "      <td>NaN</td>\n",
       "      <td>3.0</td>\n",
       "      <td>1</td>\n",
       "      <td>G3736371</td>\n",
       "      <td>0</td>\n",
       "      <td>1</td>\n",
       "      <td>0</td>\n",
       "      <td>NaN</td>\n",
       "      <td>With Richard Knapton and Russ Tkachuk</td>\n",
       "      <td>NaN</td>\n",
       "    </tr>\n",
       "  </tbody>\n",
       "</table>\n",
       "<p>5 rows × 46 columns</p>\n",
       "</div>"
      ],
      "text/plain": [
       "                         GLOBAL UNIQUE IDENTIFIER     LAST EDITED DATE  \\\n",
       "0  URN:CornellLabOfOrnithology:EBIRD:OBS635851573  2018-06-30 16:56:40   \n",
       "1  URN:CornellLabOfOrnithology:EBIRD:OBS659449016  2018-09-22 14:39:01   \n",
       "2  URN:CornellLabOfOrnithology:EBIRD:OBS681631650  2019-03-28 17:38:29   \n",
       "3  URN:CornellLabOfOrnithology:EBIRD:OBS683242740  2018-12-29 13:08:07   \n",
       "4  URN:CornellLabOfOrnithology:EBIRD:OBS695389355  2019-01-07 13:49:08   \n",
       "\n",
       "   TAXONOMIC ORDER CATEGORY             COMMON NAME       SCIENTIFIC NAME  \\\n",
       "0            32793  species        Magnolia Warbler    Setophaga magnolia   \n",
       "1             5893  species  White-rumped Sandpiper  Calidris fuscicollis   \n",
       "2              635  species           Common Scoter       Melanitta nigra   \n",
       "3             6263  species        Ring-billed Gull    Larus delawarensis   \n",
       "4            32501  species    Red-winged Blackbird   Agelaius phoeniceus   \n",
       "\n",
       "  SUBSPECIES COMMON NAME SUBSPECIES SCIENTIFIC NAME OBSERVATION COUNT  \\\n",
       "0                    NaN                        NaN                 2   \n",
       "1                    NaN                        NaN                 4   \n",
       "2                    NaN                        NaN                 1   \n",
       "3                    NaN                        NaN                15   \n",
       "4                    NaN                        NaN               500   \n",
       "\n",
       "  BREEDING BIRD ATLAS CODE  ... EFFORT AREA HA NUMBER OBSERVERS  \\\n",
       "0                      NaN  ...            NaN              1.0   \n",
       "1                      NaN  ...            NaN              1.0   \n",
       "2                      NaN  ...            NaN              NaN   \n",
       "3                      NaN  ...            NaN              1.0   \n",
       "4                      NaN  ...            NaN              3.0   \n",
       "\n",
       "  ALL SPECIES REPORTED GROUP IDENTIFIER HAS MEDIA APPROVED REVIEWED REASON  \\\n",
       "0                    1              NaN         0        1        0    NaN   \n",
       "1                    1              NaN         0        1        0    NaN   \n",
       "2                    0              NaN         0        1        0    NaN   \n",
       "3                    1         G3629866         0        1        0    NaN   \n",
       "4                    1         G3736371         0        1        0    NaN   \n",
       "\n",
       "                                       TRIP COMMENTS  \\\n",
       "0  Historical data from 1995 computer print-out, ...   \n",
       "1  Feuillet d'ÉPOQ no 243616. Observateur : Gilbe...   \n",
       "2                                                NaN   \n",
       "3                                                NaN   \n",
       "4              With Richard Knapton and Russ Tkachuk   \n",
       "\n",
       "                                SPECIES COMMENTS  \n",
       "0  at berm area (SW corner) of North Golf Course  \n",
       "1                                            NaN  \n",
       "2                                            NaN  \n",
       "3                                            NaN  \n",
       "4                                            NaN  \n",
       "\n",
       "[5 rows x 46 columns]"
      ]
     },
     "execution_count": 4,
     "metadata": {},
     "output_type": "execute_result"
    }
   ],
   "source": [
    "df = pd.read_csv('C:\\\\Users\\\\ajaco\\\\Downloads\\\\ebd_relJan-2020.txt', sep='\\t', nrows=10000)\n",
    "\n",
    "print(df.shape)\n",
    "\n",
    "df.head()"
   ]
  },
  {
   "cell_type": "code",
   "execution_count": 5,
   "metadata": {},
   "outputs": [
    {
     "data": {
      "text/plain": [
       "Index(['GLOBAL UNIQUE IDENTIFIER', 'LAST EDITED DATE', 'TAXONOMIC ORDER',\n",
       "       'CATEGORY', 'COMMON NAME', 'SCIENTIFIC NAME', 'SUBSPECIES COMMON NAME',\n",
       "       'SUBSPECIES SCIENTIFIC NAME', 'OBSERVATION COUNT',\n",
       "       'BREEDING BIRD ATLAS CODE', 'BREEDING BIRD ATLAS CATEGORY', 'AGE/SEX',\n",
       "       'COUNTRY', 'COUNTRY CODE', 'STATE', 'STATE CODE', 'COUNTY',\n",
       "       'COUNTY CODE', 'IBA CODE', 'BCR CODE', 'USFWS CODE', 'ATLAS BLOCK',\n",
       "       'LOCALITY', 'LOCALITY ID', 'LOCALITY TYPE', 'LATITUDE', 'LONGITUDE',\n",
       "       'OBSERVATION DATE', 'TIME OBSERVATIONS STARTED', 'OBSERVER ID',\n",
       "       'SAMPLING EVENT IDENTIFIER', 'PROTOCOL TYPE', 'PROTOCOL CODE',\n",
       "       'PROJECT CODE', 'DURATION MINUTES', 'EFFORT DISTANCE KM',\n",
       "       'EFFORT AREA HA', 'NUMBER OBSERVERS', 'ALL SPECIES REPORTED',\n",
       "       'GROUP IDENTIFIER', 'HAS MEDIA', 'APPROVED', 'REVIEWED', 'REASON',\n",
       "       'TRIP COMMENTS', 'SPECIES COMMENTS'],\n",
       "      dtype='object')"
      ]
     },
     "execution_count": 5,
     "metadata": {},
     "output_type": "execute_result"
    }
   ],
   "source": [
    "df.columns"
   ]
  },
  {
   "cell_type": "code",
   "execution_count": 6,
   "metadata": {},
   "outputs": [
    {
     "name": "stdout",
     "output_type": "stream",
     "text": [
      "Earliest bird sighting:  1885-06-05\n",
      "Latest bird sighting:  1999-12-30\n"
     ]
    }
   ],
   "source": [
    "print('Earliest bird sighting: ', df['OBSERVATION DATE'].min())\n",
    "print('Latest bird sighting: ', df['OBSERVATION DATE'].max())"
   ]
  },
  {
   "cell_type": "code",
   "execution_count": 7,
   "metadata": {},
   "outputs": [
    {
     "data": {
      "text/plain": [
       "1497"
      ]
     },
     "execution_count": 7,
     "metadata": {},
     "output_type": "execute_result"
    }
   ],
   "source": [
    "df['COMMON NAME'].nunique()"
   ]
  },
  {
   "cell_type": "code",
   "execution_count": 8,
   "metadata": {},
   "outputs": [
    {
     "data": {
      "text/plain": [
       "116"
      ]
     },
     "execution_count": 8,
     "metadata": {},
     "output_type": "execute_result"
    }
   ],
   "source": [
    "df['COUNTRY'].nunique()"
   ]
  },
  {
   "cell_type": "code",
   "execution_count": 9,
   "metadata": {},
   "outputs": [
    {
     "data": {
      "text/plain": [
       "array(['United States', 'Canada', 'Sweden', 'Indonesia', 'Bermuda',\n",
       "       'United Kingdom', 'Australia', 'Mexico', 'Poland', 'Malaysia',\n",
       "       'Kenya', 'Spain', 'Argentina', 'Taiwan', 'India', 'Mali',\n",
       "       'United Arab Emirates', 'Ecuador', 'Gambia', 'Belgium', 'Morocco',\n",
       "       'France', 'Germany', 'Tanzania', 'Madagascar', 'Switzerland',\n",
       "       'Thailand', 'Israel', 'Senegal', 'Brazil', 'Costa Rica', 'Oman',\n",
       "       'Uruguay', 'Venezuela', 'Niger', 'Greece', 'Papua New Guinea',\n",
       "       'Denmark', 'Mauritius', 'Peru', 'Tunisia', 'Hungary',\n",
       "       'Netherlands', 'Norway', 'Puerto Rico', 'Portugal', 'Saudi Arabia',\n",
       "       'Finland', 'Ireland', 'Russia', 'Panama', 'Japan', 'Turkey',\n",
       "       'Philippines', 'New Zealand', 'Seychelles', 'Honduras', 'Suriname',\n",
       "       'Guadeloupe', 'Guatemala', 'Sri Lanka', 'Austria', 'Jamaica',\n",
       "       'Slovenia', 'Guyana', 'French Guiana', 'Bahamas', 'Hong Kong',\n",
       "       'Iceland', 'Zambia', 'Zimbabwe', 'Paraguay', 'Trinidad and Tobago',\n",
       "       'Barbados', 'Nepal', 'Belize', 'Tonga', 'South Africa',\n",
       "       'High Seas', 'Malawi', 'China', 'Saint Kitts and Nevis',\n",
       "       'Dominica', 'DR Congo', 'Romania', 'Dominican Republic', 'Cuba',\n",
       "       'Namibia', 'Fiji', 'Italy', 'Croatia', 'Bulgaria', 'Chile',\n",
       "       'Nicaragua', 'Albania', 'Jersey', 'Vietnam', 'Czech Republic',\n",
       "       'Uganda', 'Bangladesh', 'El Salvador',\n",
       "       'Falkland Islands (Malvinas)', 'Botswana', 'Bolivia', 'Colombia',\n",
       "       'Cameroon', 'Iran', \"Côte d'Ivoire\", 'Mauritania', 'Gabon',\n",
       "       'Northern Mariana Islands', 'Singapore', 'Cyprus', 'Egypt',\n",
       "       'Saint Lucia', 'Algeria'], dtype=object)"
      ]
     },
     "execution_count": 9,
     "metadata": {},
     "output_type": "execute_result"
    }
   ],
   "source": [
    "df['COUNTRY'].unique()"
   ]
  },
  {
   "cell_type": "code",
   "execution_count": 12,
   "metadata": {},
   "outputs": [],
   "source": [
    "countries = df['COUNTRY'].unique().tolist()"
   ]
  },
  {
   "cell_type": "code",
   "execution_count": 17,
   "metadata": {},
   "outputs": [
    {
     "data": {
      "text/plain": [
       "United States     5498\n",
       "Canada            2264\n",
       "United Kingdom     465\n",
       "Australia          250\n",
       "Taiwan             169\n",
       "                  ... \n",
       "Cameroon             1\n",
       "Bangladesh           1\n",
       "Mauritania           1\n",
       "Barbados             1\n",
       "Cyprus               1\n",
       "Name: COUNTRY, Length: 116, dtype: int64"
      ]
     },
     "execution_count": 17,
     "metadata": {},
     "output_type": "execute_result"
    }
   ],
   "source": [
    "df['COUNTRY'].value_counts()"
   ]
  },
  {
   "cell_type": "code",
   "execution_count": 18,
   "metadata": {},
   "outputs": [
    {
     "data": {
      "text/plain": [
       "European Starling           132\n",
       "American Robin              126\n",
       "Mallard                     117\n",
       "American Crow               112\n",
       "Red-winged Blackbird        108\n",
       "                           ... \n",
       "Masked Yellowthroat           1\n",
       "Mottle-backed Elaenia         1\n",
       "Ivory-billed Aracari          1\n",
       "Silvery-fronted Tapaculo      1\n",
       "Olive Flyrobin                1\n",
       "Name: COMMON NAME, Length: 1497, dtype: int64"
      ]
     },
     "execution_count": 18,
     "metadata": {},
     "output_type": "execute_result"
    }
   ],
   "source": [
    "df['COMMON NAME'].value_counts()"
   ]
  },
  {
   "cell_type": "code",
   "execution_count": 15,
   "metadata": {},
   "outputs": [],
   "source": [
    "date_df = df[['COMMON NAME', 'COUNTRY', 'OBSERVATION DATE']]"
   ]
  },
  {
   "cell_type": "code",
   "execution_count": 20,
   "metadata": {},
   "outputs": [
    {
     "data": {
      "text/plain": [
       "(108, 46)"
      ]
     },
     "execution_count": 20,
     "metadata": {},
     "output_type": "execute_result"
    }
   ],
   "source": [
    "rw_black = df[df['COMMON NAME'] == 'Red-winged Blackbird']\n",
    "\n",
    "rw_black.shape"
   ]
  },
  {
   "cell_type": "code",
   "execution_count": 22,
   "metadata": {},
   "outputs": [
    {
     "data": {
      "text/plain": [
       "1973-03-04    2\n",
       "1996-06-22    2\n",
       "1994-05-21    2\n",
       "1983-09-11    1\n",
       "1980-04-29    1\n",
       "             ..\n",
       "1994-05-15    1\n",
       "1979-05-20    1\n",
       "1998-04-16    1\n",
       "1976-06-15    1\n",
       "1998-10-25    1\n",
       "Name: OBSERVATION DATE, Length: 105, dtype: int64"
      ]
     },
     "execution_count": 22,
     "metadata": {},
     "output_type": "execute_result"
    }
   ],
   "source": [
    "rw_black['OBSERVATION DATE'].value_counts()"
   ]
  },
  {
   "cell_type": "code",
   "execution_count": 23,
   "metadata": {},
   "outputs": [
    {
     "data": {
      "text/plain": [
       "Index(['GLOBAL UNIQUE IDENTIFIER', 'LAST EDITED DATE', 'TAXONOMIC ORDER',\n",
       "       'CATEGORY', 'COMMON NAME', 'SCIENTIFIC NAME', 'SUBSPECIES COMMON NAME',\n",
       "       'SUBSPECIES SCIENTIFIC NAME', 'OBSERVATION COUNT',\n",
       "       'BREEDING BIRD ATLAS CODE', 'BREEDING BIRD ATLAS CATEGORY', 'AGE/SEX',\n",
       "       'COUNTRY', 'COUNTRY CODE', 'STATE', 'STATE CODE', 'COUNTY',\n",
       "       'COUNTY CODE', 'IBA CODE', 'BCR CODE', 'USFWS CODE', 'ATLAS BLOCK',\n",
       "       'LOCALITY', 'LOCALITY ID', 'LOCALITY TYPE', 'LATITUDE', 'LONGITUDE',\n",
       "       'OBSERVATION DATE', 'TIME OBSERVATIONS STARTED', 'OBSERVER ID',\n",
       "       'SAMPLING EVENT IDENTIFIER', 'PROTOCOL TYPE', 'PROTOCOL CODE',\n",
       "       'PROJECT CODE', 'DURATION MINUTES', 'EFFORT DISTANCE KM',\n",
       "       'EFFORT AREA HA', 'NUMBER OBSERVERS', 'ALL SPECIES REPORTED',\n",
       "       'GROUP IDENTIFIER', 'HAS MEDIA', 'APPROVED', 'REVIEWED', 'REASON',\n",
       "       'TRIP COMMENTS', 'SPECIES COMMENTS'],\n",
       "      dtype='object')"
      ]
     },
     "execution_count": 23,
     "metadata": {},
     "output_type": "execute_result"
    }
   ],
   "source": [
    "rw_black.columns"
   ]
  },
  {
   "cell_type": "code",
   "execution_count": 24,
   "metadata": {
    "collapsed": true,
    "jupyter": {
     "outputs_hidden": true
    }
   },
   "outputs": [
    {
     "data": {
      "text/plain": [
       "GLOBAL UNIQUE IDENTIFIER         object\n",
       "LAST EDITED DATE                 object\n",
       "TAXONOMIC ORDER                   int64\n",
       "CATEGORY                         object\n",
       "COMMON NAME                      object\n",
       "SCIENTIFIC NAME                  object\n",
       "SUBSPECIES COMMON NAME           object\n",
       "SUBSPECIES SCIENTIFIC NAME       object\n",
       "OBSERVATION COUNT                object\n",
       "BREEDING BIRD ATLAS CODE         object\n",
       "BREEDING BIRD ATLAS CATEGORY     object\n",
       "AGE/SEX                          object\n",
       "COUNTRY                          object\n",
       "COUNTRY CODE                     object\n",
       "STATE                            object\n",
       "STATE CODE                       object\n",
       "COUNTY                           object\n",
       "COUNTY CODE                      object\n",
       "IBA CODE                         object\n",
       "BCR CODE                        float64\n",
       "USFWS CODE                       object\n",
       "ATLAS BLOCK                      object\n",
       "LOCALITY                         object\n",
       "LOCALITY ID                      object\n",
       "LOCALITY TYPE                    object\n",
       "LATITUDE                        float64\n",
       "LONGITUDE                       float64\n",
       "OBSERVATION DATE                 object\n",
       "TIME OBSERVATIONS STARTED        object\n",
       "OBSERVER ID                      object\n",
       "SAMPLING EVENT IDENTIFIER        object\n",
       "PROTOCOL TYPE                    object\n",
       "PROTOCOL CODE                    object\n",
       "PROJECT CODE                     object\n",
       "DURATION MINUTES                float64\n",
       "EFFORT DISTANCE KM              float64\n",
       "EFFORT AREA HA                  float64\n",
       "NUMBER OBSERVERS                float64\n",
       "ALL SPECIES REPORTED              int64\n",
       "GROUP IDENTIFIER                 object\n",
       "HAS MEDIA                         int64\n",
       "APPROVED                          int64\n",
       "REVIEWED                          int64\n",
       "REASON                          float64\n",
       "TRIP COMMENTS                    object\n",
       "SPECIES COMMENTS                 object\n",
       "dtype: object"
      ]
     },
     "execution_count": 24,
     "metadata": {},
     "output_type": "execute_result"
    }
   ],
   "source": [
    "rw_black.dtypes"
   ]
  },
  {
   "cell_type": "code",
   "execution_count": 25,
   "metadata": {},
   "outputs": [],
   "source": [
    "from datetime import datetime"
   ]
  },
  {
   "cell_type": "code",
   "execution_count": 41,
   "metadata": {},
   "outputs": [
    {
     "data": {
      "text/plain": [
       "11"
      ]
     },
     "execution_count": 41,
     "metadata": {},
     "output_type": "execute_result"
    }
   ],
   "source": [
    "s = '2005-05-15'\n",
    "datetime.fromisoformat('2011-11-04').month"
   ]
  },
  {
   "cell_type": "code",
   "execution_count": null,
   "metadata": {},
   "outputs": [],
   "source": []
  },
  {
   "cell_type": "code",
   "execution_count": 44,
   "metadata": {},
   "outputs": [
    {
     "data": {
      "text/plain": [
       "4      1986-09-01\n",
       "51     1992-04-19\n",
       "288    1984-04-04\n",
       "396    1994-05-03\n",
       "530    1997-08-05\n",
       "          ...    \n",
       "9716   1987-05-15\n",
       "9868   1997-04-26\n",
       "9888   1992-03-29\n",
       "9980   1994-08-25\n",
       "9990   1981-06-20\n",
       "Name: OBSERVATION DATE, Length: 108, dtype: datetime64[ns]"
      ]
     },
     "execution_count": 44,
     "metadata": {},
     "output_type": "execute_result"
    }
   ],
   "source": [
    "pd.to_datetime(rw_black['OBSERVATION DATE'], format='%Y-%m-%d')"
   ]
  },
  {
   "cell_type": "code",
   "execution_count": 45,
   "metadata": {
    "collapsed": true,
    "jupyter": {
     "outputs_hidden": true
    }
   },
   "outputs": [
    {
     "data": {
      "text/plain": [
       "GLOBAL UNIQUE IDENTIFIER                object\n",
       "LAST EDITED DATE                        object\n",
       "TAXONOMIC ORDER                          int64\n",
       "CATEGORY                                object\n",
       "COMMON NAME                             object\n",
       "SCIENTIFIC NAME                         object\n",
       "SUBSPECIES COMMON NAME                  object\n",
       "SUBSPECIES SCIENTIFIC NAME              object\n",
       "OBSERVATION COUNT                       object\n",
       "BREEDING BIRD ATLAS CODE                object\n",
       "BREEDING BIRD ATLAS CATEGORY            object\n",
       "AGE/SEX                                 object\n",
       "COUNTRY                                 object\n",
       "COUNTRY CODE                            object\n",
       "STATE                                   object\n",
       "STATE CODE                              object\n",
       "COUNTY                                  object\n",
       "COUNTY CODE                             object\n",
       "IBA CODE                                object\n",
       "BCR CODE                               float64\n",
       "USFWS CODE                              object\n",
       "ATLAS BLOCK                             object\n",
       "LOCALITY                                object\n",
       "LOCALITY ID                             object\n",
       "LOCALITY TYPE                           object\n",
       "LATITUDE                               float64\n",
       "LONGITUDE                              float64\n",
       "OBSERVATION DATE                datetime64[ns]\n",
       "TIME OBSERVATIONS STARTED               object\n",
       "OBSERVER ID                             object\n",
       "SAMPLING EVENT IDENTIFIER               object\n",
       "PROTOCOL TYPE                           object\n",
       "PROTOCOL CODE                           object\n",
       "PROJECT CODE                            object\n",
       "DURATION MINUTES                       float64\n",
       "EFFORT DISTANCE KM                     float64\n",
       "EFFORT AREA HA                         float64\n",
       "NUMBER OBSERVERS                       float64\n",
       "ALL SPECIES REPORTED                     int64\n",
       "GROUP IDENTIFIER                        object\n",
       "HAS MEDIA                                int64\n",
       "APPROVED                                 int64\n",
       "REVIEWED                                 int64\n",
       "REASON                                 float64\n",
       "TRIP COMMENTS                           object\n",
       "SPECIES COMMENTS                        object\n",
       "dtype: object"
      ]
     },
     "execution_count": 45,
     "metadata": {},
     "output_type": "execute_result"
    }
   ],
   "source": [
    "rw_black.dtypes"
   ]
  },
  {
   "cell_type": "code",
   "execution_count": 52,
   "metadata": {},
   "outputs": [
    {
     "name": "stderr",
     "output_type": "stream",
     "text": [
      "C:\\Users\\ajaco\\Anaconda3\\lib\\site-packages\\ipykernel_launcher.py:1: SettingWithCopyWarning:\n",
      "\n",
      "\n",
      "A value is trying to be set on a copy of a slice from a DataFrame.\n",
      "Try using .loc[row_indexer,col_indexer] = value instead\n",
      "\n",
      "See the caveats in the documentation: http://pandas.pydata.org/pandas-docs/stable/user_guide/indexing.html#returning-a-view-versus-a-copy\n",
      "\n"
     ]
    }
   ],
   "source": [
    "rw_black['observ_month'] = pd.DatetimeIndex(rw_black['OBSERVATION DATE']).month"
   ]
  },
  {
   "cell_type": "code",
   "execution_count": 53,
   "metadata": {},
   "outputs": [
    {
     "data": {
      "text/plain": [
       "Index(['GLOBAL UNIQUE IDENTIFIER', 'LAST EDITED DATE', 'TAXONOMIC ORDER',\n",
       "       'CATEGORY', 'COMMON NAME', 'SCIENTIFIC NAME', 'SUBSPECIES COMMON NAME',\n",
       "       'SUBSPECIES SCIENTIFIC NAME', 'OBSERVATION COUNT',\n",
       "       'BREEDING BIRD ATLAS CODE', 'BREEDING BIRD ATLAS CATEGORY', 'AGE/SEX',\n",
       "       'COUNTRY', 'COUNTRY CODE', 'STATE', 'STATE CODE', 'COUNTY',\n",
       "       'COUNTY CODE', 'IBA CODE', 'BCR CODE', 'USFWS CODE', 'ATLAS BLOCK',\n",
       "       'LOCALITY', 'LOCALITY ID', 'LOCALITY TYPE', 'LATITUDE', 'LONGITUDE',\n",
       "       'OBSERVATION DATE', 'TIME OBSERVATIONS STARTED', 'OBSERVER ID',\n",
       "       'SAMPLING EVENT IDENTIFIER', 'PROTOCOL TYPE', 'PROTOCOL CODE',\n",
       "       'PROJECT CODE', 'DURATION MINUTES', 'EFFORT DISTANCE KM',\n",
       "       'EFFORT AREA HA', 'NUMBER OBSERVERS', 'ALL SPECIES REPORTED',\n",
       "       'GROUP IDENTIFIER', 'HAS MEDIA', 'APPROVED', 'REVIEWED', 'REASON',\n",
       "       'TRIP COMMENTS', 'SPECIES COMMENTS', 'observ_month'],\n",
       "      dtype='object')"
      ]
     },
     "execution_count": 53,
     "metadata": {},
     "output_type": "execute_result"
    }
   ],
   "source": [
    "rw_black.columns"
   ]
  },
  {
   "cell_type": "code",
   "execution_count": 54,
   "metadata": {},
   "outputs": [
    {
     "data": {
      "text/plain": [
       "5     28\n",
       "4     21\n",
       "6     13\n",
       "3     10\n",
       "10     9\n",
       "8      6\n",
       "7      5\n",
       "2      5\n",
       "1      5\n",
       "9      4\n",
       "11     2\n",
       "Name: observ_month, dtype: int64"
      ]
     },
     "execution_count": 54,
     "metadata": {},
     "output_type": "execute_result"
    }
   ],
   "source": [
    "rw_black.observ_month.value_counts()"
   ]
  },
  {
   "cell_type": "code",
   "execution_count": 14,
   "metadata": {},
   "outputs": [],
   "source": [
    "import numpy as np\n",
    "import matplotlib.pyplot as plt\n",
    "%matplotlib inline"
   ]
  },
  {
   "cell_type": "code",
   "execution_count": 58,
   "metadata": {},
   "outputs": [
    {
     "data": {
      "image/png": "[encoded data removed]",
      "text/plain": [
       "<Figure size 432x288 with 1 Axes>"
      ]
     },
     "metadata": {
      "needs_background": "light"
     },
     "output_type": "display_data"
    }
   ],
   "source": [
    "rw_black.groupby('observ_month').count()['COMMON NAME'].plot();"
   ]
  },
  {
   "cell_type": "code",
   "execution_count": null,
   "metadata": {},
   "outputs": [],
   "source": []
  }
 ],
 "metadata": {
  "kernelspec": {
   "display_name": "Python 3.7.4 64-bit ('base': conda)",
   "language": "python",
   "name": "python37464bitbaseconda0743015c7cf743e3a92ab30d0455d71f"
  },
  "language_info": {
   "codemirror_mode": {
    "name": "ipython",
    "version": 3
   },
   "file_extension": ".py",
   "mimetype": "text/x-python",
   "name": "python",
   "nbconvert_exporter": "python",
   "pygments_lexer": "ipython3",
   "version": "3.7.4"
  }
 },
 "nbformat": 4,
 "nbformat_minor": 4
}
